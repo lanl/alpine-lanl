{
 "cells": [
  {
   "cell_type": "code",
   "execution_count": 1,
   "metadata": {
    "collapsed": true
   },
   "outputs": [],
   "source": [
    "import numpy as np\n",
    "import random\n",
    "import platform\n",
    "import sys\n",
    "import os\n",
    "import math\n",
    "import time\n",
    "import matplotlib\n",
    "from matplotlib import pyplot as plt\n",
    "import vtk"
   ]
  },
  {
   "cell_type": "code",
   "execution_count": null,
   "metadata": {
    "collapsed": true
   },
   "outputs": [],
   "source": [
    "raw_data_file = 'data/yA31_v02_300x300x300_99.vtk'\n",
    "sampled_file = 'data/asteroid_sampled_hist_grad0.02.vtp'\n",
    "var_name = 'vo2'\n",
    "var_name1 = 'vo2'\n",
    "query_th1 = 0.6\n",
    "query_th2 = 1"
   ]
  },
  {
   "cell_type": "code",
   "execution_count": 2,
   "metadata": {
    "collapsed": true
   },
   "outputs": [],
   "source": [
    "raw_data_file = '/home/soumya/Test_DataSet/multivar_sampling_test_data/Isabel_pressure_velocity_qvapor.vti'\n",
    "sampled_file = 'isabel_sampled.vtp'\n",
    "var_name = 'Pressure'\n",
    "var_name1 = 'Pressure_smooth'\n",
    "query_th1 = -50\n",
    "query_th2 = -5000"
   ]
  },
  {
   "cell_type": "code",
   "execution_count": 3,
   "metadata": {
    "collapsed": false
   },
   "outputs": [],
   "source": [
    "## load data\n",
    "reader = vtk.vtkXMLImageDataReader()\n",
    "reader.SetFileName(raw_data_file)\n",
    "reader.Update()\n",
    "raw_data = reader.GetOutput()\n",
    "\n",
    "reader1 = vtk.vtkXMLPolyDataReader()\n",
    "reader1.SetFileName(sampled_file)\n",
    "reader1.Update()\n",
    "sampled_pts = reader1.GetOutput()\n",
    "\n",
    "extent = raw_data.GetExtent()\n",
    "spacing = raw_data.GetSpacing()\n",
    "origin = raw_data.GetOrigin()\n",
    "dims = raw_data.GetDimensions()"
   ]
  },
  {
   "cell_type": "code",
   "execution_count": 4,
   "metadata": {
    "collapsed": true
   },
   "outputs": [],
   "source": [
    "def compute_3d_to_1d_map(x,y,z,dimx,dimy,dimz):\n",
    "    index = x + dimx*(y+dimy*z)\n",
    "    return index"
   ]
  },
  {
   "cell_type": "code",
   "execution_count": 5,
   "metadata": {
    "collapsed": false
   },
   "outputs": [
    {
     "name": "stdout",
     "output_type": "stream",
     "text": [
      "37905\n",
      "(-4931.54248046875, 0.0)\n"
     ]
    }
   ],
   "source": [
    "## create new image data\n",
    "new_data = vtk.vtkImageData()\n",
    "new_data.SetDimensions(dims)\n",
    "new_data.SetSpacing(spacing)\n",
    "new_data.SetOrigin(origin)\n",
    "\n",
    "## create point arrays\n",
    "query_pts = vtk.vtkPoints()\n",
    "query_pts_physical = vtk.vtkPoints()\n",
    "query_arr = vtk.vtkDoubleArray()\n",
    "query_arr.SetName(var_name)\n",
    "\n",
    "query_arr_new = vtk.vtkDoubleArray()\n",
    "query_arr_new.SetName(var_name)\n",
    "query_arr_new.SetNumberOfTuples(dims[0]*dims[1]*dims[2])\n",
    "\n",
    "query_arr_new1 = vtk.vtkDoubleArray()\n",
    "query_arr_new1.SetName(var_name1)\n",
    "query_arr_new1.SetNumberOfTuples(dims[0]*dims[1]*dims[2])\n",
    "\n",
    "for i in range(sampled_pts.GetNumberOfPoints()):\n",
    "    vo2 = sampled_pts.GetPointData().GetArray(var_name).GetTuple1(i)\n",
    "    #if vo2 >= query_th1 and vo2 <= query_th2:\n",
    "    if vo2 >= query_th2 and vo2 <= query_th1:    \n",
    "        pts = sampled_pts.GetPoint(i)        \n",
    "        ii = int((pts[0] - origin[0])/spacing[0] + 0.5)\n",
    "        jj = int((pts[1] - origin[1])/spacing[1] + 0.5)\n",
    "        kk = int((pts[2] - origin[2])/spacing[2] + 0.5)\n",
    "        query_pts.InsertNextPoint([ii,jj,kk])\n",
    "        query_arr.InsertNextTuple1(vo2)   \n",
    "        query_pts_physical.InsertNextPoint(pts)\n",
    "        \n",
    "        index = compute_3d_to_1d_map(ii,jj,kk,dims[0],dims[1],dims[2])\n",
    "        query_arr_new.SetTuple1(index,vo2)\n",
    "        \n",
    "        query_arr_new1.SetTuple1(index,vo2)\n",
    "        \n",
    "        ## add values to the new grid also\n",
    "        #new_data.SetScalarComponentFromDouble(ii,jj,kk,0,vo2)\n",
    "\n",
    "#new_data.GetPointData().AddArray(query_arr_new)         \n",
    "print (query_pts.GetNumberOfPoints())  \n",
    "\n",
    "pdata = vtk.vtkPolyData()\n",
    "pdata.SetPoints(query_pts_physical)\n",
    "pdata.GetPointData().AddArray(query_arr)\n",
    "\n",
    "writer1 = vtk.vtkXMLPolyDataWriter()\n",
    "writer1.SetInputData(pdata)\n",
    "writer1.SetFileName('output/recon_query.vtp')\n",
    "writer1.Write()\n",
    "\n",
    "print query_arr_new1.GetRange()"
   ]
  },
  {
   "cell_type": "code",
   "execution_count": 6,
   "metadata": {
    "collapsed": false,
    "scrolled": true
   },
   "outputs": [],
   "source": [
    "count_arr = vtk.vtkIntArray()\n",
    "count_arr.SetName(var_name1)\n",
    "count_arr.SetNumberOfTuples(dims[0]*dims[1]*dims[2])\n",
    "\n",
    "window = 2\n",
    "\n",
    "for p  in range(query_pts.GetNumberOfPoints()):\n",
    "\n",
    "    pts = query_pts.GetPoint(p)\n",
    "    vo2 = query_arr_new.GetTuple1(p)\n",
    "    \n",
    "    i=int(pts[0])\n",
    "    j=int(pts[1])\n",
    "    k=int(pts[2])\n",
    "    \n",
    "    cc=0\n",
    "    \n",
    "    for kk in range(k-window,k+window):\n",
    "        for jj in range(j-window,j+window):\n",
    "            for ii in range(i-window,i+window):\n",
    "                cc = cc+1\n",
    "                ## check if in bound\n",
    "                if ii >= 0 and ii < dims[0] and jj >= 0 and jj < dims[1] and kk >= 0 and kk <dims[2]:\n",
    "                    \n",
    "                    ## ignore the central point\n",
    "                    if kk == k and ii== i and jj == j: \n",
    "                        continue\n",
    "                    else:\n",
    "                        index1 = compute_3d_to_1d_map(ii,jj,kk,dims[0],dims[1],dims[2])\n",
    "\n",
    "                        if query_arr_new.GetTuple1(index1) == 0:\n",
    "                            #print 'here'\n",
    "                            v2 = query_arr_new1.GetTuple1(index1)\n",
    "                            v2 = v2 + vo2\n",
    "                            query_arr_new1.SetTuple1(index1,v2)\n",
    "                            \n",
    "                            count_arr.SetTuple1(index1,count_arr.GetTuple1(index1)+1)\n",
    "    #print cc               \n",
    "    \n",
    "   "
   ]
  },
  {
   "cell_type": "code",
   "execution_count": 7,
   "metadata": {
    "collapsed": false
   },
   "outputs": [
    {
     "name": "stdout",
     "output_type": "stream",
     "text": [
      "(-4931.54248046875, 0.0)\n",
      "(-4931.54248046875, 0.0)\n"
     ]
    }
   ],
   "source": [
    "print query_arr_new1.GetRange()\n",
    "\n",
    "for i in range(query_arr_new1.GetNumberOfTuples()):\n",
    "    v = query_arr_new1.GetTuple1(i)\n",
    "    c = count_arr.GetTuple1(i)\n",
    "    if c  > 0:\n",
    "        query_arr_new1.SetTuple1(i,v/64)\n",
    "\n",
    "new_data.GetPointData().AddArray(query_arr_new1)    \n",
    "\n",
    "\n",
    "print query_arr_new1.GetRange()"
   ]
  },
  {
   "cell_type": "code",
   "execution_count": 8,
   "metadata": {
    "collapsed": false
   },
   "outputs": [
    {
     "data": {
      "text/plain": [
       "1"
      ]
     },
     "execution_count": 8,
     "metadata": {},
     "output_type": "execute_result"
    }
   ],
   "source": [
    "writer = vtk.vtkXMLImageDataWriter()\n",
    "writer.SetInputData(new_data)\n",
    "writer.SetFileName('output/recon_query.vti')\n",
    "writer.Write()   "
   ]
  }
 ],
 "metadata": {
  "kernelspec": {
   "display_name": "Python 2",
   "language": "python",
   "name": "python2"
  },
  "language_info": {
   "codemirror_mode": {
    "name": "ipython",
    "version": 2
   },
   "file_extension": ".py",
   "mimetype": "text/x-python",
   "name": "python",
   "nbconvert_exporter": "python",
   "pygments_lexer": "ipython2",
   "version": "2.7.12"
  }
 },
 "nbformat": 4,
 "nbformat_minor": 2
}
