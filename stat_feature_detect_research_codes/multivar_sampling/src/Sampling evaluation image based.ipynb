{
 "cells": [
  {
   "cell_type": "code",
   "execution_count": 1,
   "metadata": {},
   "outputs": [],
   "source": [
    "import sys\n",
    "import subprocess\n",
    "import re\n",
    "import os\n",
    "import time\n",
    "import matplotlib.pyplot as plt\n",
    "import matplotlib.image as mpimg\n",
    "import numpy as np\n",
    "import cmath\n",
    "import operator\n",
    "import random\n",
    "from operator import itemgetter, attrgetter\n",
    "import matplotlib.cm as cm\n",
    "import vtk\n",
    "\n",
    "from PIL import Image\n",
    "import numpy as np\n",
    "from scipy.stats import pearsonr    \n",
    "\n",
    "##https://scikit-image.org/docs/dev/auto_examples/transform/plot_ssim.html\n",
    "from skimage import data, img_as_float\n",
    "from skimage.measure import compare_ssim as ssim"
   ]
  },
  {
   "cell_type": "code",
   "execution_count": 2,
   "metadata": {},
   "outputs": [],
   "source": [
    "def mse(x, y):\n",
    "    return np.linalg.norm(x - y)\n",
    "\n",
    "def mse_1(imageA, imageB):\n",
    "    err = np.sum((imageA.astype(\"float\") - imageB.astype(\"float\")) ** 2)\n",
    "    err /= float(imageA.shape[0] * imageA.shape[1])\n",
    "    return err    "
   ]
  },
  {
   "cell_type": "code",
   "execution_count": 3,
   "metadata": {},
   "outputs": [],
   "source": [
    "# f_orig = '../Analysis/image_based_compare/isabel/P_Vel/P_raw.png'\n",
    "# f_pmi = '../Analysis/image_based_compare/isabel/P_Vel/P_pmi_1.png'\n",
    "# f_random = '../Analysis/image_based_compare/isabel/P_Vel/P_random_1.png'\n",
    "\n",
    "# f_orig = '../Analysis/image_based_compare/isabel/P_Qva/Qva_raw.png'\n",
    "# f_pmi = '../Analysis/image_based_compare/isabel/P_Qva/Qva_pmi_1.png'\n",
    "# f_random = '../Analysis/image_based_compare/isabel/P_Qva/Qva_random_1.png'\n",
    "\n",
    "# f_orig = '../Analysis/image_based_compare/combustion/mixfrac_raw.png'\n",
    "# f_pmi = '../Analysis/image_based_compare/combustion/mixfrac_pmi_5.png'\n",
    "# f_random = '../Analysis/image_based_compare/combustion/mixfrac_random_5.png'\n",
    "\n",
    "\n",
    "f_orig = '../Analysis/image_based_compare/asteroid/v02_raw.png'\n",
    "f_pmi = '../Analysis/image_based_compare/asteroid/v02_pmi_5.png'\n",
    "f_random = '../Analysis/image_based_compare/asteroid/v02_random_5.png'"
   ]
  },
  {
   "cell_type": "code",
   "execution_count": 4,
   "metadata": {},
   "outputs": [],
   "source": [
    "im_orig = Image.open(f_orig).convert('L')\n",
    "im_hist = Image.open(f_pmi).convert('L')\n",
    "im_rand = Image.open(f_random).convert('L')\n",
    "\n",
    "im_orig_arr = np.array(im_orig)\n",
    "im_rand_arr = np.array(im_rand)\n",
    "im_hist_arr = np.array(im_hist)\n",
    "\n",
    "im_rand_arr = np.array(im_rand)\n",
    "im_orig_arr = np.array(im_orig)\n",
    "im_hist_arr = np.array(im_hist)"
   ]
  },
  {
   "cell_type": "code",
   "execution_count": 5,
   "metadata": {},
   "outputs": [
    {
     "name": "stdout",
     "output_type": "stream",
     "text": [
      "Correlation:\n",
      "pmi: 0.926982818606583\n",
      "random: 0.9386386367007045\n",
      "\n",
      "MSE:\n",
      "pmi: 25.417769727681645\n",
      "random: 23.93350413297889\n",
      "\n",
      "SSIM:\n",
      "pmi: 0.8326583052285098\n",
      "random: 0.8064922568173011\n"
     ]
    },
    {
     "name": "stderr",
     "output_type": "stream",
     "text": [
      "/Users/sdutta/anaconda2/lib/python2.7/site-packages/skimage/util/arraycrop.py:177: FutureWarning: Using a non-tuple sequence for multidimensional indexing is deprecated; use `arr[tuple(seq)]` instead of `arr[seq]`. In the future this will be interpreted as an array index, `arr[np.array(seq)]`, which will result either in an error or a different result.\n",
      "  cropped = ar[slices]\n"
     ]
    }
   ],
   "source": [
    "## Pearson correlation\n",
    "print 'Correlation:'\n",
    "print  'pmi: ' + str(pearsonr(np.ndarray.flatten(im_hist_arr),np.ndarray.flatten(im_orig_arr))[0])\n",
    "print  'random: ' + str(pearsonr(np.ndarray.flatten(im_rand_arr),np.ndarray.flatten(im_orig_arr))[0])\n",
    "print\n",
    "\n",
    "## Mean squared error\n",
    "print 'MSE:'\n",
    "print 'pmi: ' + str(np.sqrt(mse_1(im_orig_arr,im_hist_arr)))\n",
    "print 'random: ' + str(np.sqrt(mse_1(im_orig_arr,im_rand_arr)))\n",
    "print\n",
    "\n",
    "## SSIM\n",
    "img_orig = img_as_float(im_orig)\n",
    "img_pmi = img_as_float(im_hist)\n",
    "img_random = img_as_float(im_rand)\n",
    "\n",
    "print 'SSIM:'\n",
    "print  'pmi: ' + str(ssim(img_orig, img_pmi, data_range=img_pmi.max() - img_pmi.min()))\n",
    "print  'random: ' + str(ssim(img_orig, img_random, data_range=img_random.max() - img_random.min()))"
   ]
  }
 ],
 "metadata": {
  "kernelspec": {
   "display_name": "Python 2",
   "language": "python",
   "name": "python2"
  },
  "language_info": {
   "codemirror_mode": {
    "name": "ipython",
    "version": 2
   },
   "file_extension": ".py",
   "mimetype": "text/x-python",
   "name": "python",
   "nbconvert_exporter": "python",
   "pygments_lexer": "ipython2",
   "version": "2.7.16"
  }
 },
 "nbformat": 4,
 "nbformat_minor": 2
}
