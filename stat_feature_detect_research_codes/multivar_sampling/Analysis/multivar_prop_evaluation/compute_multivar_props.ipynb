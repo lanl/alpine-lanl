{
 "cells": [
  {
   "cell_type": "code",
   "execution_count": 1,
   "metadata": {},
   "outputs": [],
   "source": [
    "import vtk\n",
    "import numpy as np\n",
    "import sys\n",
    "import math\n",
    "import os\n",
    "import glob\n",
    "from scipy import stats\n",
    "import matplotlib.pyplot as plt"
   ]
  },
  {
   "cell_type": "code",
   "execution_count": 2,
   "metadata": {},
   "outputs": [],
   "source": [
    "raw_file = '../../data/Isabel_pressure_velocity_qvapor.vti'\n",
    "raw_var1 = 'Pressure'\n",
    "raw_var2 = 'Velocity'\n",
    "raw_var3 = 'QVapor'\n",
    "\n",
    "sampled_field1 = '../../analysis/recon_data/isabel_recon_Pressure_linear.vti'\n",
    "sampled_field2 = '../../analysis/recon_data/isabel_recon_Velocity_linear.vti'\n",
    "sampled_field3 = '../../analysis/recon_data/isabel_recon_QVapor_linear.vti'\n",
    "recon_var = 'ImageScalars'\n",
    "\n",
    "VOI = [115,160,100,150,0,49]\n",
    "\n",
    "##########################################\n",
    "raw_var = raw_var1\n",
    "sampled_field = sampled_field1"
   ]
  },
  {
   "cell_type": "code",
   "execution_count": 3,
   "metadata": {},
   "outputs": [],
   "source": [
    "reader = vtk.vtkXMLImageDataReader()\n",
    "reader.SetFileName(raw_file)\n",
    "reader.Update()\n",
    "raw_data = reader.GetOutput()\n",
    "\n",
    "reader1 = vtk.vtkXMLImageDataReader()\n",
    "reader1.SetFileName(sampled_field)\n",
    "reader1.Update()\n",
    "recon_data1 = reader1.GetOutput()"
   ]
  },
  {
   "cell_type": "code",
   "execution_count": 4,
   "metadata": {},
   "outputs": [],
   "source": [
    "extractVOI = vtk.vtkExtractVOI()\n",
    "extractVOI.SetInputData(raw_data)\n",
    "extractVOI.SetVOI(VOI[0],VOI[1],VOI[2],VOI[3],VOI[4],VOI[5])\n",
    "extractVOI.Update()\n",
    "raw_voi = extractVOI.GetOutput()\n",
    "\n",
    "extractVOI1 = vtk.vtkExtractVOI()\n",
    "extractVOI1.SetInputData(recon_data1)\n",
    "extractVOI1.SetVOI(VOI[0],VOI[1],VOI[2],VOI[3],VOI[4],VOI[5])\n",
    "extractVOI1.Update()\n",
    "recon_voi = extractVOI1.GetOutput()\n",
    "\n",
    "numPts = raw_voi.GetPointData().GetArray(raw_var).GetNumberOfTuples()\n",
    "\n",
    "raw_vals = np.zeros(numPts)\n",
    "recon_vals = np.zeros(numPts)\n",
    "\n",
    "for i in range(numPts):\n",
    "    raw_vals[i] = raw_voi.GetPointData().GetArray(raw_var).GetTuple1(i)\n",
    "    recon_vals[i] = recon_voi.GetPointData().GetArray(recon_var).GetTuple1(i)"
   ]
  },
  {
   "cell_type": "code",
   "execution_count": 7,
   "metadata": {},
   "outputs": [
    {
     "name": "stdout",
     "output_type": "stream",
     "text": [
      "0.9997983402762128\n"
     ]
    }
   ],
   "source": [
    "# compute correlation\n",
    "corr = stats.pearsonr(raw_vals, recon_vals)\n",
    "print corr[0]"
   ]
  },
  {
   "cell_type": "code",
   "execution_count": 6,
   "metadata": {},
   "outputs": [
    {
     "data": {
      "image/png": "[encoded data removed]",
      "text/plain": [
       "<Figure size 432x288 with 1 Axes>"
      ]
     },
     "metadata": {
      "needs_background": "light"
     },
     "output_type": "display_data"
    }
   ],
   "source": [
    "plt.scatter(raw_vals, recon_vals, s=2)\n",
    "plt.show()"
   ]
  },
  {
   "cell_type": "code",
   "execution_count": null,
   "metadata": {},
   "outputs": [],
   "source": []
  }
 ],
 "metadata": {
  "kernelspec": {
   "display_name": "Python 2",
   "language": "python",
   "name": "python2"
  },
  "language_info": {
   "codemirror_mode": {
    "name": "ipython",
    "version": 2
   },
   "file_extension": ".py",
   "mimetype": "text/x-python",
   "name": "python",
   "nbconvert_exporter": "python",
   "pygments_lexer": "ipython2",
   "version": "2.7.15"
  }
 },
 "nbformat": 4,
 "nbformat_minor": 2
}
