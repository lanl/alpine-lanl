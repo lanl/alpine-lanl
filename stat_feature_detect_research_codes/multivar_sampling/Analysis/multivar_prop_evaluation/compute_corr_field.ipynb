{
 "cells": [
  {
   "cell_type": "code",
   "execution_count": 1,
   "metadata": {},
   "outputs": [],
   "source": [
    "import copy\n",
    "import math\n",
    "import numpy as np\n",
    "import sys\n",
    "import vtk\n",
    "from numpy import linalg as LA"
   ]
  },
  {
   "cell_type": "code",
   "execution_count": 8,
   "metadata": {},
   "outputs": [],
   "source": [
    "filename = '../../data/Isabel_pressure_velocity_qvapor.vti'\n",
    "reader = vtk.vtkXMLImageDataReader()\n",
    "reader.SetFileName(filename)\n",
    "reader.Update()\n",
    "data = reader.GetOutput()\n",
    "dims = data.GetDimensions()\n",
    "var1='Pressure'\n",
    "var2='Velocity'"
   ]
  },
  {
   "cell_type": "code",
   "execution_count": 9,
   "metadata": {},
   "outputs": [],
   "source": [
    "tevfield = vtk.vtkImageData()\n",
    "tevfield.SetDimensions(data.GetDimensions())\n",
    "tevfield.GetPointData().AddArray(data.GetPointData().GetArray(var1))\n",
    "\n",
    "arr = np.ndarray(shape=(dims[0],dims[1],dims[2]), dtype=float)\n",
    "index=0\n",
    "for i in range(dims[2]):\n",
    "    for j in range(dims[1]):\n",
    "        for k in range(dims[0]):\n",
    "            arr[k,j,i] = data.GetPointData().GetArray(var1).GetTuple1(index)\n",
    "            index=index+1\n",
    "\n",
    "gradient_tev = np.gradient(arr)   \n",
    "\n",
    "# compute magniture\n",
    "# xx = gradient_tev[0][:][:][:]*gradient_tev[0][:][:][:] + gradient_tev[1][:][:][:]*gradient_tev[1][:][:][:] \\\n",
    "# + gradient_tev[2][:][:][:]*gradient_tev[2][:][:][:]\n",
    "# grad_mag = np.sqrt(xx)\n",
    "# print np.min(grad_mag), np.max(grad_mag)\n",
    "\n",
    "# grad_mag_arr = vtk.vtkDoubleArray()\n",
    "# grad_mag_arr.SetName('grad_mag')\n",
    "# grad_mag_arr.SetNumberOfTuples(dims[0]*dims[1]*dims[2])\n",
    "\n",
    "# index=0\n",
    "# for i in range(dims[2]):\n",
    "#     for j in range(dims[1]):\n",
    "#         for k in range(dims[0]):\n",
    "#             grad_mag_arr.SetTuple1(index,grad_mag[k,j,i])\n",
    "#             index=index+1\n",
    "            \n",
    "#tevfield.GetPointData().AddArray(grad_mag_arr)   "
   ]
  },
  {
   "cell_type": "code",
   "execution_count": 10,
   "metadata": {},
   "outputs": [],
   "source": [
    "vo2field = vtk.vtkImageData()\n",
    "vo2field.SetDimensions(data.GetDimensions())\n",
    "vo2field.GetPointData().AddArray(data.GetPointData().GetArray(var2))\n",
    "\n",
    "arr1 = np.ndarray(shape=(dims[0],dims[1],dims[2]), dtype=float)\n",
    "index=0\n",
    "for i in range(dims[2]):\n",
    "    for j in range(dims[1]):\n",
    "        for k in range(dims[0]):\n",
    "            arr1[k,j,i] = data.GetPointData().GetArray(var2).GetTuple1(index)\n",
    "            index=index+1\n",
    "\n",
    "gradient_vo2 = np.gradient(arr1) \n",
    "\n",
    "# # compute magniture\n",
    "# yy = gradient_vo2[0][:][:][:]*gradient_vo2[0][:][:][:] + gradient_vo2[1][:][:][:]*gradient_vo2[1][:][:][:] \\\n",
    "# + gradient_vo2[2][:][:][:]*gradient_vo2[2][:][:][:]\n",
    "# grad_mag_1 = np.sqrt(yy)\n",
    "# print np.min(grad_mag_1), np.max(grad_mag_1)"
   ]
  },
  {
   "cell_type": "code",
   "execution_count": 11,
   "metadata": {},
   "outputs": [
    {
     "name": "stdout",
     "output_type": "stream",
     "text": [
      "(3, 250, 250, 50) (3, 250, 250, 50)\n"
     ]
    },
    {
     "name": "stderr",
     "output_type": "stream",
     "text": [
      "/Users/sdutta/anaconda2/lib/python2.7/site-packages/ipykernel_launcher.py:16: RuntimeWarning: invalid value encountered in divide\n",
      "  app.launch_new_instance()\n",
      "/Users/sdutta/anaconda2/lib/python2.7/site-packages/ipykernel_launcher.py:17: RuntimeWarning: invalid value encountered in divide\n"
     ]
    }
   ],
   "source": [
    "print np.shape(gradient_vo2), np.shape(gradient_tev)\n",
    "zz = np.ndarray(shape=(dims[0],dims[1],dims[2]), dtype=float)\n",
    "\n",
    "for i in range(dims[2]):\n",
    "    for j in range(dims[1]):\n",
    "        for k in range(dims[0]):\n",
    "            v1 = [gradient_tev[0][k][j][i], gradient_tev[1][k][j][i], gradient_tev[2][k][j][i]]\n",
    "            v2 = [gradient_vo2[0][k][j][i], gradient_vo2[1][k][j][i], gradient_vo2[2][k][j][i]]\n",
    "            \n",
    "            v1 = np.asarray(v1)\n",
    "            v2 = np.asarray(v2)\n",
    "            \n",
    "            norm1 = LA.norm(v1)\n",
    "            norm2 = LA.norm(v2)\n",
    "            \n",
    "            v1 = v1/norm1 #[gradient_tev[0][k][j][i]/norm1, gradient_tev[1][k][j][i]/norm1, gradient_tev[2][k][j][i]/norm1]\n",
    "            v2 = v2/norm2 #[gradient_vo2[0][k][j][i]/norm2, gradient_vo2[1][k][j][i]/norm2, gradient_vo2[2][k][j][i]/norm2]\n",
    "            \n",
    "            \n",
    "            zz[k,j,i] = np.dot(v1,v2)"
   ]
  },
  {
   "cell_type": "code",
   "execution_count": 12,
   "metadata": {},
   "outputs": [
    {
     "data": {
      "text/plain": [
       "1"
      ]
     },
     "execution_count": 12,
     "metadata": {},
     "output_type": "execute_result"
    }
   ],
   "source": [
    "corr_arr = vtk.vtkDoubleArray()\n",
    "corr_arr.SetName('corr')\n",
    "corr_arr.SetNumberOfTuples(dims[0]*dims[1]*dims[2])\n",
    "\n",
    "index=0\n",
    "for i in range(dims[2]):\n",
    "    for j in range(dims[1]):\n",
    "        for k in range(dims[0]):\n",
    "            corr_arr.SetTuple1(index,zz[k,j,i])\n",
    "            index=index+1\n",
    "            \n",
    "tevfield.GetPointData().AddArray(corr_arr)         "
   ]
  },
  {
   "cell_type": "code",
   "execution_count": 13,
   "metadata": {},
   "outputs": [
    {
     "data": {
      "text/plain": [
       "1"
      ]
     },
     "execution_count": 13,
     "metadata": {},
     "output_type": "execute_result"
    }
   ],
   "source": [
    "outfile = 'corr_grad_P_Vel.vti'\n",
    "writer = vtk.vtkXMLImageDataWriter()\n",
    "writer.SetInputData(tevfield)\n",
    "writer.SetFileName(outfile)\n",
    "writer.Write() "
   ]
  }
 ],
 "metadata": {
  "kernelspec": {
   "display_name": "Python 2",
   "language": "python",
   "name": "python2"
  },
  "language_info": {
   "codemirror_mode": {
    "name": "ipython",
    "version": 2
   },
   "file_extension": ".py",
   "mimetype": "text/x-python",
   "name": "python",
   "nbconvert_exporter": "python",
   "pygments_lexer": "ipython2",
   "version": "2.7.15"
  }
 },
 "nbformat": 4,
 "nbformat_minor": 2
}
