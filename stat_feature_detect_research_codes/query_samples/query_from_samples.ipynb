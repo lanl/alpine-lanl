{
 "cells": [
  {
   "cell_type": "code",
   "execution_count": 44,
   "metadata": {},
   "outputs": [],
   "source": [
    "import numpy as np\n",
    "import random\n",
    "import platform\n",
    "import sys\n",
    "import os\n",
    "import math\n",
    "import time\n",
    "import matplotlib\n",
    "from matplotlib import pyplot as plt\n",
    "import vtk\n",
    "import pymp"
   ]
  },
  {
   "cell_type": "code",
   "execution_count": 27,
   "metadata": {},
   "outputs": [],
   "source": [
    "raw_data_file = 'data/yA31_v02_300x300x300_99.vtk'\n",
    "sampled_file = 'data/asteroid_sampled_hist_grad0.02.vtp'\n",
    "var_name = 'vo2'\n",
    "var_name1 = 'vo2'\n",
    "query_th1 = 0.6\n",
    "query_th2 = 1"
   ]
  },
  {
   "cell_type": "code",
   "execution_count": 28,
   "metadata": {},
   "outputs": [],
   "source": [
    "## load data\n",
    "reader = vtk.vtkGenericDataObjectReader()\n",
    "reader.SetFileName(raw_data_file)\n",
    "reader.Update()\n",
    "raw_data = reader.GetOutput()\n",
    "\n",
    "reader1 = vtk.vtkXMLPolyDataReader()\n",
    "reader1.SetFileName(sampled_file)\n",
    "reader1.Update()\n",
    "sampled_pts = reader1.GetOutput()"
   ]
  },
  {
   "cell_type": "code",
   "execution_count": 21,
   "metadata": {},
   "outputs": [],
   "source": [
    "def compute_3d_to_1d_map(x,y,z,dimx,dimy,dimz):\n",
    "    index = x + dimx*(y+dimy*z)\n",
    "    return index"
   ]
  },
  {
   "cell_type": "code",
   "execution_count": 22,
   "metadata": {},
   "outputs": [
    {
     "name": "stdout",
     "output_type": "stream",
     "text": [
      "216058\n"
     ]
    },
    {
     "data": {
      "text/plain": [
       "1"
      ]
     },
     "execution_count": 22,
     "metadata": {},
     "output_type": "execute_result"
    }
   ],
   "source": [
    "extent = raw_data.GetExtent()\n",
    "spacing = raw_data.GetSpacing()\n",
    "origin = raw_data.GetOrigin()\n",
    "dims = raw_data.GetDimensions()\n",
    "\n",
    "query_pts = vtk.vtkPoints()\n",
    "query_pts_physical = vtk.vtkPoints()\n",
    "query_arr = vtk.vtkDoubleArray()\n",
    "query_arr.SetName(var_name)\n",
    "\n",
    "for i in range(sampled_pts.GetNumberOfPoints()):\n",
    "    vo2 = sampled_pts.GetPointData().GetArray(var_name).GetTuple1(i)\n",
    "    if vo2 >= query_th1 and vo2 <= query_th2:\n",
    "        pts = sampled_pts.GetPoint(i)        \n",
    "        ii = int((pts[0] - origin[0])/spacing[0] + 0.5)\n",
    "        jj = int((pts[1] - origin[1])/spacing[1] + 0.5)\n",
    "        kk = int((pts[2] - origin[2])/spacing[2] + 0.5)\n",
    "        query_pts.InsertNextPoint([ii,jj,kk])\n",
    "        query_arr.InsertNextTuple1(vo2)   \n",
    "        query_pts_physical.InsertNextPoint(pts)\n",
    "        \n",
    "print (query_pts.GetNumberOfPoints())  \n",
    "\n",
    "pdata = vtk.vtkPolyData()\n",
    "pdata.SetPoints(query_pts_physical)\n",
    "pdata.GetPointData().AddArray(query_arr)\n",
    "\n",
    "writer1 = vtk.vtkXMLPolyDataWriter()\n",
    "writer1.SetInputData(pdata)\n",
    "writer1.SetFileName('output/recon_query.vtp')\n",
    "writer1.Write()  "
   ]
  },
  {
   "cell_type": "code",
   "execution_count": 50,
   "metadata": {},
   "outputs": [
    {
     "data": {
      "text/plain": [
       "0"
      ]
     },
     "execution_count": 50,
     "metadata": {},
     "output_type": "execute_result"
    }
   ],
   "source": [
    "new_data = vtk.vtkImageData()\n",
    "new_data.SetDimensions(dims)\n",
    "new_data.SetSpacing(spacing)\n",
    "new_data.SetOrigin(origin)\n",
    "\n",
    "query_arr_new = vtk.vtkDoubleArray()\n",
    "query_arr_new.SetName(var_name)\n",
    "query_arr_new.SetNumberOfTuples(dims[0]*dims[1]*dims[2])\n",
    "\n",
    "query_arr_new1 = vtk.vtkDoubleArray()\n",
    "query_arr_new1.SetName(var_name1)\n",
    "query_arr_new1.SetNumberOfTuples(dims[0]*dims[1]*dims[2])\n",
    "\n",
    "            \n",
    "for p in range(query_pts.GetNumberOfPoints()):   \n",
    "    pts = query_pts.GetPoint(p)\n",
    "    val = query_arr.GetTuple1(p)\n",
    "    index = compute_3d_to_1d_map(int(pts[0]),int(pts[1]),int(pts[2]),dims[0],dims[1],dims[2])\n",
    "    query_arr_new.SetTuple1(index,val)\n",
    "    \n",
    "new_data.GetPointData().AddArray(query_arr_new) "
   ]
  },
  {
   "cell_type": "code",
   "execution_count": 31,
   "metadata": {},
   "outputs": [
    {
     "data": {
      "text/plain": [
       "0"
      ]
     },
     "execution_count": 31,
     "metadata": {},
     "output_type": "execute_result"
    }
   ],
   "source": [
    "for k in range(1,dims[2]-1):\n",
    "    for j in range(1,dims[1]-1):\n",
    "        for i in range(1,dims[0]-1):\n",
    "            \n",
    "            index = compute_3d_to_1d_map(i,j,k,dims[0],dims[1],dims[2])\n",
    "            val = query_arr_new.GetTuple1(index)\n",
    "            \n",
    "            sum_val = 0.0\n",
    "            if val == 0.0:\n",
    "                index1 = compute_3d_to_1d_map(i-1,j,k,dims[0],dims[1],dims[2])\n",
    "                \n",
    "                #print i-1,j,k,dims[0],dims[1],dims[2] \n",
    "                sum_val = sum_val + query_arr_new.GetTuple1(index1)\n",
    "                \n",
    "                index1 = compute_3d_to_1d_map(i+1,j,k,dims[0],dims[1],dims[2])\n",
    "                sum_val = sum_val + query_arr_new.GetTuple1(index1)\n",
    "                \n",
    "                index1 = compute_3d_to_1d_map(i,j-1,k,dims[0],dims[1],dims[2])\n",
    "                sum_val = sum_val + query_arr_new.GetTuple1(index1)\n",
    "                \n",
    "                index1 = compute_3d_to_1d_map(i,j+1,k,dims[0],dims[1],dims[2])\n",
    "                sum_val = sum_val + query_arr_new.GetTuple1(index1)\n",
    "                \n",
    "                index1 = compute_3d_to_1d_map(i,j,k-1,dims[0],dims[1],dims[2])\n",
    "                sum_val = sum_val + query_arr_new.GetTuple1(index1)\n",
    "                \n",
    "                index1 = compute_3d_to_1d_map(i,j,k+1,dims[0],dims[1],dims[2])\n",
    "                sum_val = sum_val + query_arr_new.GetTuple1(index1)\n",
    "                \n",
    "                sum_val = sum_val / 8.0\n",
    "                \n",
    "                query_arr_new1.SetTuple1(index,sum_val)\n",
    "                                \n",
    "            else:\n",
    "                query_arr_new1.SetTuple1(index,val)\n",
    "\n",
    "new_data.GetPointData().AddArray(query_arr_new1)                "
   ]
  },
  {
   "cell_type": "code",
   "execution_count": 52,
   "metadata": {},
   "outputs": [
    {
     "data": {
      "text/plain": [
       "0"
      ]
     },
     "execution_count": 52,
     "metadata": {},
     "output_type": "execute_result"
    }
   ],
   "source": [
    "window=2\n",
    "for k in range(window,dims[2]-window):\n",
    "    for j in range(window,dims[1]-window):\n",
    "        for i in range(window,dims[0]-window):\n",
    "            \n",
    "            index = compute_3d_to_1d_map(i,j,k,dims[0],dims[1],dims[2])\n",
    "            val = query_arr_new.GetTuple1(index)\n",
    "            \n",
    "            sum_val = 0.0\n",
    "            if val == 0.0:\n",
    "                \n",
    "                count=0\n",
    "                for kk in range(k-window,k+window,1):\n",
    "                    for jj in range(j-window,j+window,1):\n",
    "                        for ii in range(i-window,i+window,1):\n",
    "                            \n",
    "                            if kk == k and ii== i and jj == j: ## ignore the central point\n",
    "                                continue\n",
    "                            else:    \n",
    "\n",
    "                                index1 = compute_3d_to_1d_map(ii,jj,kk,dims[0],dims[1],dims[2])\n",
    "                                sum_val = sum_val + query_arr_new.GetTuple1(index1)\n",
    "                                count=count+1\n",
    "                            \n",
    "                sum_val = sum_val / count\n",
    "                \n",
    "                query_arr_new1.SetTuple1(index,sum_val)\n",
    "                        \n",
    "            else:\n",
    "                query_arr_new1.SetTuple1(index,val)\n",
    "\n",
    "new_data.GetPointData().AddArray(query_arr_new1)                        "
   ]
  },
  {
   "cell_type": "code",
   "execution_count": 51,
   "metadata": {},
   "outputs": [
    {
     "data": {
      "text/plain": [
       "1"
      ]
     },
     "execution_count": 51,
     "metadata": {},
     "output_type": "execute_result"
    }
   ],
   "source": [
    "writer = vtk.vtkXMLImageDataWriter()\n",
    "writer.SetInputData(new_data)\n",
    "writer.SetFileName('output/recon_query1.vti')\n",
    "writer.Write()           "
   ]
  }
 ],
 "metadata": {
  "kernelspec": {
   "display_name": "Python 2",
   "language": "python",
   "name": "python2"
  },
  "language_info": {
   "codemirror_mode": {
    "name": "ipython",
    "version": 2
   },
   "file_extension": ".py",
   "mimetype": "text/x-python",
   "name": "python",
   "nbconvert_exporter": "python",
   "pygments_lexer": "ipython2",
   "version": "2.7.15"
  }
 },
 "nbformat": 4,
 "nbformat_minor": 2
}
