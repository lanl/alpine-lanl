{
 "cells": [
  {
   "cell_type": "code",
   "execution_count": 1,
   "metadata": {},
   "outputs": [],
   "source": [
    "import numpy as np\n",
    "import random\n",
    "import platform\n",
    "import sys\n",
    "import os\n",
    "import math\n",
    "import time\n",
    "import matplotlib\n",
    "from matplotlib import pyplot as plt\n",
    "import vtk"
   ]
  },
  {
   "cell_type": "code",
   "execution_count": null,
   "metadata": {},
   "outputs": [],
   "source": [
    "## for isabel\n",
    "raw_data_file = 'data/Isabel_pressure_velocity_qvapor.vti'\n",
    "sampled_file = 'data/isabel_p_25_hist_grad_rand_pymp_0.05.vtp'\n",
    "outfile1 = 'output/recon_query_isabel.vtp'\n",
    "outfile2 = 'output/recon_query_isabel.vti'\n",
    "outfile3 = 'output/raw_query_isabel.vtp'\n",
    "var_name = 'Pressure'\n",
    "var_name1 = 'ImageFile'\n",
    "query_th1 = -500\n",
    "query_th2 = -5000"
   ]
  },
  {
   "cell_type": "code",
   "execution_count": null,
   "metadata": {},
   "outputs": [],
   "source": [
    "## for combustion\n",
    "raw_data_file = 'data/jet_mixfrac_0041.dat_2_subsampled.vti'\n",
    "sampled_file = 'data/jet_mixfrac_0041.dat_2_subsampled_hist_grad_rand_pymp_0.05.vtp'\n",
    "outfile1 = 'output/recon_query_mixfrac.vtp'\n",
    "outfile2 = 'output/recon_query_mixfrac.vti'\n",
    "outfile3 = 'output/raw_query_mixfrac.vtp'\n",
    "var_name = 'ImageFile'\n",
    "var_name1 = 'ImageFile'\n",
    "query_th1 = 0.3\n",
    "query_th2 = 0.5"
   ]
  },
  {
   "cell_type": "code",
   "execution_count": 2,
   "metadata": {},
   "outputs": [],
   "source": [
    "## for Asteroid\n",
    "raw_data_file = 'data/vo2_1.vti'\n",
    "sampled_file = 'data/yA31_v02_300x300x300_99_hist_grad_rand_pymp_0.06.vtp'\n",
    "outfile1 = 'output/recon_query_vo2.vtp'\n",
    "outfile2 = 'output/recon_query_vo2.vti'\n",
    "outfile3 = 'output/raw_query_vo2.vtp'\n",
    "var_name = 'RTData'\n",
    "var_name1 = 'RTData'\n",
    "query_th1 = 0.75\n",
    "query_th2 = 1.0"
   ]
  },
  {
   "cell_type": "code",
   "execution_count": 3,
   "metadata": {},
   "outputs": [],
   "source": [
    "## load data\n",
    "#reader = vtk.vtkGenericDataObjectReader()\n",
    "reader = vtk.vtkXMLImageDataReader()\n",
    "reader.SetFileName(raw_data_file)\n",
    "reader.Update()\n",
    "raw_data = reader.GetOutput()\n",
    "\n",
    "reader1 = vtk.vtkXMLPolyDataReader()\n",
    "reader1.SetFileName(sampled_file)\n",
    "reader1.Update()\n",
    "sampled_pts = reader1.GetOutput()\n",
    "\n",
    "extent = raw_data.GetExtent()\n",
    "spacing = raw_data.GetSpacing()\n",
    "origin = raw_data.GetOrigin()\n",
    "dims = raw_data.GetDimensions()"
   ]
  },
  {
   "cell_type": "code",
   "execution_count": 4,
   "metadata": {},
   "outputs": [],
   "source": [
    "def compute_3d_to_1d_map(x,y,z,dimx,dimy,dimz):\n",
    "    index = x + dimx*(y+dimy*z)\n",
    "    return index\n",
    "\n",
    "def getDist(pts1,pts2):\n",
    "    dist = (pts1[0]-pts2[0])*(pts1[0]-pts2[0]) + (pts1[1]-pts2[1])*(pts1[1]-pts2[1]) + (pts1[2]-pts2[2])*(pts1[2]-pts2[2])\n",
    "    return dist"
   ]
  },
  {
   "cell_type": "code",
   "execution_count": 5,
   "metadata": {},
   "outputs": [
    {
     "name": "stdout",
     "output_type": "stream",
     "text": [
      "0\n"
     ]
    },
    {
     "data": {
      "text/plain": [
       "1"
      ]
     },
     "execution_count": 5,
     "metadata": {},
     "output_type": "execute_result"
    }
   ],
   "source": [
    "## query raw data\n",
    "query_pts_raw = vtk.vtkPoints()\n",
    "query_pts_physical_raw = vtk.vtkPoints()\n",
    "query_arr_raw = vtk.vtkDoubleArray()\n",
    "query_arr_raw.SetName(var_name)\n",
    "\n",
    "for i in range(dims[0]*dims[1]*dims[2]):\n",
    "    vo2 = raw_data.GetPointData().GetArray(var_name).GetTuple1(i)\n",
    "    if vo2 >= query_th1 and vo2 <= query_th2: ## for others\n",
    "    #if vo2 <= query_th1 and vo2 >= query_th2:   ## for isabel \n",
    "        pts = raw_data.GetPoint(i)        \n",
    "        query_arr_raw.InsertNextTuple1(vo2)   \n",
    "        query_pts_physical_raw.InsertNextPoint(pts)\n",
    "        \n",
    "print (query_pts_physical_raw.GetNumberOfPoints())  \n",
    "\n",
    "pdata_raw = vtk.vtkPolyData()\n",
    "pdata_raw.SetPoints(query_pts_physical_raw)\n",
    "pdata_raw.GetPointData().AddArray(query_arr_raw)\n",
    "\n",
    "writer1 = vtk.vtkXMLPolyDataWriter()\n",
    "writer1.SetInputData(pdata_raw)\n",
    "writer1.SetFileName(outfile3)\n",
    "writer1.Write()"
   ]
  },
  {
   "cell_type": "code",
   "execution_count": 7,
   "metadata": {},
   "outputs": [
    {
     "name": "stdout",
     "output_type": "stream",
     "text": [
      "700722\n",
      "(0.0, 1.0) 27000000\n",
      "(0.0, 1.0) 27000000\n"
     ]
    }
   ],
   "source": [
    "## Query sampled data\n",
    "\n",
    "## create new image data\n",
    "new_data = vtk.vtkImageData()\n",
    "new_data.SetDimensions(dims)\n",
    "new_data.SetSpacing(spacing)\n",
    "new_data.SetOrigin(origin)\n",
    "\n",
    "## create point arrays\n",
    "query_pts = vtk.vtkPoints()\n",
    "query_pts_physical = vtk.vtkPoints()\n",
    "query_arr = vtk.vtkDoubleArray()\n",
    "query_arr.SetName(var_name)\n",
    "\n",
    "query_arr_new = vtk.vtkDoubleArray()\n",
    "query_arr_new.SetName(var_name)\n",
    "query_arr_new.SetNumberOfTuples(dims[0]*dims[1]*dims[2])\n",
    "\n",
    "query_arr_new1 = vtk.vtkDoubleArray()\n",
    "query_arr_new1.SetName(var_name1)\n",
    "query_arr_new1.SetNumberOfTuples(dims[0]*dims[1]*dims[2])\n",
    "\n",
    "for i in range(dims[0]*dims[1]*dims[2]):\n",
    "    query_arr_new1.SetTuple1(i,0.0)\n",
    "    query_arr_new.SetTuple1(i,0.0)\n",
    "\n",
    "for i in range(sampled_pts.GetNumberOfPoints()):\n",
    "    vo2 = sampled_pts.GetPointData().GetArray(var_name1).GetTuple1(i)\n",
    "    if vo2 >= query_th1 and vo2 <= query_th2: ## for others\n",
    "    #if vo2 <= query_th1 and vo2 >= query_th2: ## for isabel     \n",
    "        pts = sampled_pts.GetPoint(i)        \n",
    "        ii = int((pts[0] - origin[0])/spacing[0] + 0.5)\n",
    "        jj = int((pts[1] - origin[1])/spacing[1] + 0.5)\n",
    "        kk = int((pts[2] - origin[2])/spacing[2] + 0.5)\n",
    "        query_pts.InsertNextPoint([ii,jj,kk])\n",
    "        query_arr.InsertNextTuple1(vo2)   \n",
    "        query_pts_physical.InsertNextPoint(pts)\n",
    "        \n",
    "        index = compute_3d_to_1d_map(ii,jj,kk,dims[0],dims[1],dims[2])\n",
    "        query_arr_new.SetTuple1(index,vo2)\n",
    "        \n",
    "        query_arr_new1.SetTuple1(index,vo2)\n",
    "        \n",
    "print (query_pts.GetNumberOfPoints())  \n",
    "\n",
    "pdata = vtk.vtkPolyData()\n",
    "pdata.SetPoints(query_pts_physical)\n",
    "pdata.GetPointData().AddArray(query_arr)\n",
    "\n",
    "writer1 = vtk.vtkXMLPolyDataWriter()\n",
    "writer1.SetInputData(pdata)\n",
    "writer1.SetFileName(outfile1)\n",
    "writer1.Write()"
   ]
  },
  {
   "cell_type": "code",
   "execution_count": null,
   "metadata": {
    "scrolled": false
   },
   "outputs": [],
   "source": [
    "window = 2\n",
    "\n",
    "for p  in range(query_pts.GetNumberOfPoints()):\n",
    "\n",
    "    pts = query_pts.GetPoint(p)\n",
    "    vo2 = query_arr_new.GetTuple1(p)\n",
    "    \n",
    "    i=int(pts[0])\n",
    "    j=int(pts[1])\n",
    "    k=int(pts[2])\n",
    "    \n",
    "    for kk in range(k-window,k+window):\n",
    "        for jj in range(j-window,j+window):\n",
    "            for ii in range(i-window,i+window):\n",
    "                \n",
    "                ## check if in bound\n",
    "                if ii >= 0 and ii < dims[0] and jj >= 0 and jj < dims[1] and kk >= 0 and kk <dims[2]:\n",
    "                    \n",
    "                    ## ignore the central point\n",
    "                    if kk == k and ii== i and jj == j: \n",
    "                        continue\n",
    "                    else:\n",
    "                        index1 = compute_3d_to_1d_map(ii,jj,kk,dims[0],dims[1],dims[2])\n",
    "\n",
    "                        if query_arr_new.GetTuple1(index1) == 0: \n",
    "                            v2 = query_arr_new1.GetTuple1(index1)\n",
    "                            pts1 = (ii,jj,kk)\n",
    "                            dist = getDist(pts,pts1)\n",
    "                            \n",
    "                            v2 = v2 + vo2/(dist)\n",
    "                            query_arr_new1.SetTuple1(index1,v2)\n",
    "                            \n",
    "                            #count_arr.SetTuple1(index1,count_arr.GetTuple1(index1)+1)   "
   ]
  },
  {
   "cell_type": "code",
   "execution_count": null,
   "metadata": {},
   "outputs": [],
   "source": [
    "div_fac = np.power(window*2,3)\n",
    "for i in range(query_arr_new1.GetNumberOfTuples()):\n",
    "    v = query_arr_new1.GetTuple1(i)\n",
    "    v1 = query_arr_new.GetTuple1(i)\n",
    "    if v1 == 0:    \n",
    "        query_arr_new1.SetTuple1(i,v/div_fac)\n",
    "        \n",
    "new_data.GetPointData().AddArray(query_arr_new1)"
   ]
  },
  {
   "cell_type": "code",
   "execution_count": null,
   "metadata": {},
   "outputs": [],
   "source": [
    "writer = vtk.vtkXMLImageDataWriter()\n",
    "writer.SetInputData(new_data)\n",
    "writer.SetFileName(outfile2)\n",
    "writer.Write()"
   ]
  }
 ],
 "metadata": {
  "kernelspec": {
   "display_name": "Python 2",
   "language": "python",
   "name": "python2"
  },
  "language_info": {
   "codemirror_mode": {
    "name": "ipython",
    "version": 2
   },
   "file_extension": ".py",
   "mimetype": "text/x-python",
   "name": "python",
   "nbconvert_exporter": "python",
   "pygments_lexer": "ipython2",
   "version": "2.7.15"
  }
 },
 "nbformat": 4,
 "nbformat_minor": 2
}
