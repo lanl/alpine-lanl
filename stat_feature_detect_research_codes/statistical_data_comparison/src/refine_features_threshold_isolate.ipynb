{
 "cells": [
  {
   "cell_type": "code",
   "execution_count": 1,
   "metadata": {},
   "outputs": [],
   "source": [
    "import matplotlib.pyplot as plt\n",
    "import vtk\n",
    "import numpy as np\n",
    "import sys\n",
    "import math\n",
    "import os\n",
    "import glob\n",
    "from vtk.util.numpy_support import *\n",
    "import pandas\n",
    "from multiprocessing import Pool"
   ]
  },
  {
   "cell_type": "code",
   "execution_count": 2,
   "metadata": {},
   "outputs": [],
   "source": [
    "def read_vti(filename):\n",
    "    reader = vtk.vtkXMLImageDataReader()\n",
    "    reader.SetFileName(filename)\n",
    "    reader.Update()\n",
    "    return reader.GetOutput()\n",
    "\n",
    "def write_vti(filename,data):\n",
    "    writer = vtk.vtkXMLImageDataWriter()\n",
    "    writer.SetInputData(data)\n",
    "    writer.SetFileName(filename)\n",
    "    writer.Update()\n",
    "    \n",
    "def write_vtu(filename,data):\n",
    "    writer = vtk.vtkXMLUnstructuredGridWriter()\n",
    "    writer.SetInputData(data)\n",
    "    writer.SetFileName(filename)\n",
    "    writer.Update()    \n",
    "    \n",
    "def write_multiblock(filename,data):\n",
    "    writer = vtk.vtkXMLMultiBlockDataWriter()\n",
    "    writer.SetInputData(data)\n",
    "    writer.SetFileName(filename)\n",
    "    writer.Update()    "
   ]
  },
  {
   "cell_type": "code",
   "execution_count": 3,
   "metadata": {},
   "outputs": [],
   "source": [
    "input_path = '../out/mfix_local_grid/slic_compare_100.vti'\n",
    "confidence_th = 0.9\n",
    "size_threshold = 100"
   ]
  },
  {
   "cell_type": "code",
   "execution_count": 5,
   "metadata": {},
   "outputs": [
    {
     "data": {
      "text/plain": [
       "1"
      ]
     },
     "execution_count": 5,
     "metadata": {},
     "output_type": "execute_result"
    }
   ],
   "source": [
    "data = read_vti(input_path)\n",
    "data.GetPointData().SetActiveScalars('feature_similarity')"
   ]
  },
  {
   "cell_type": "code",
   "execution_count": 9,
   "metadata": {},
   "outputs": [
    {
     "name": "stdout",
     "output_type": "stream",
     "text": [
      "0\n",
      "Extracted regions have 28 segments..\n",
      "region to be excluded 1\n",
      "0 0\n",
      "2 1\n",
      "3 2\n",
      "12 3\n",
      "15 4\n",
      "20 5\n",
      "21 6\n",
      "22 7\n",
      "23 8\n",
      "24 9\n",
      "25 10\n"
     ]
    }
   ],
   "source": [
    "thresholding = vtk.vtkThreshold()\n",
    "thresholding.ThresholdByUpper( confidence_th )\n",
    "thresholding.SetInputData(data)\n",
    "\n",
    "\n",
    "seg = vtk.vtkConnectivityFilter()\n",
    "seg.SetInputConnection(thresholding.GetOutputPort())\n",
    "seg.SetExtractionModeToLargestRegion()\n",
    "seg.Update()\n",
    "\n",
    "print (seg.GetRegionIdAssignmentMode())\n",
    "\n",
    "write_vtu('/Users/sdutta/Desktop/test.vtu', seg.GetOutput())\n",
    "\n",
    "segmentation = vtk.vtkConnectivityFilter()\n",
    "segmentation.SetInputConnection(thresholding.GetOutputPort())\n",
    "segmentation.SetExtractionModeToAllRegions()\n",
    "segmentation.ColorRegionsOn()\n",
    "segmentation.Update()\n",
    "\n",
    "ug = segmentation.GetOutput()\n",
    "num_segments = segmentation.GetNumberOfExtractedRegions()\n",
    "print (\"Extracted regions have \" + str(num_segments) + \" segments..\")\n",
    "\n",
    "voxel_counts = np.zeros(num_segments)\n",
    "for i in range(ug.GetPointData().GetArray('RegionId').GetNumberOfTuples()):\n",
    "    regionId = int(ug.GetPointData().GetArray('RegionId').GetTuple(i)[0])\n",
    "    voxel_counts[regionId] = voxel_counts[regionId]+1\n",
    "\n",
    "## largest region\n",
    "empty_space_id = np.argmax(voxel_counts)\n",
    "print ('region to be excluded ' + str(empty_space_id))\n",
    "\n",
    "## exclude the largest region\n",
    "thresholding1 = vtk.vtkThreshold()\n",
    "thresholding1.ThresholdByUpper( confidence_th )\n",
    "thresholding1.SetInputData(data)\n",
    "\n",
    "mb = vtk.vtkMultiBlockDataSet()\n",
    "mb.SetNumberOfBlocks(num_segments-1)\n",
    "\n",
    "idx=0\n",
    "for i in range(num_segments):\n",
    "    \n",
    "    if i != int(empty_space_id) and voxel_counts[i] > size_threshold:\n",
    "        print (i, idx)\n",
    "        thresholding2 = vtk.vtkThreshold()\n",
    "        thresholding2.SetInputData(ug)\n",
    "        thresholding2.ThresholdBetween(i,i)\n",
    "        thresholding2.Update()\n",
    "        \n",
    "        mb.SetBlock(idx,thresholding2.GetOutput())\n",
    "        idx=idx+1\n",
    "        \n",
    "write_multiblock('/Users/sdutta/Desktop/test.vtm', mb)"
   ]
  },
  {
   "cell_type": "code",
   "execution_count": 11,
   "metadata": {},
   "outputs": [],
   "source": [
    "## combine a few vtp files into a single file\n",
    "def read_vtp(filename):\n",
    "    reader = vtk.vtkXMLPolyDataReader()\n",
    "    reader.SetFileName(filename)\n",
    "    reader.Update()\n",
    "    return reader.GetOutput()\n",
    "\n",
    "def write_vtp(filename,data):\n",
    "    writer = vtk.vtkXMLPolyDataWriter()\n",
    "    writer.SetInputData(data)\n",
    "    writer.SetFileName(filename)\n",
    "    writer.Update()\n",
    "    \n",
    "pdata = vtk.vtkPolyData()\n",
    "pts = vtk.vtkPoints()\n",
    "\n",
    "for filename in glob.glob('/Users/sdutta/Desktop/insitu_data_55000_out/*.vtp'):\n",
    "    data = read_vtp(filename)\n",
    "    for i in range(data.GetNumberOfPoints()):\n",
    "        pts.InsertNextPoint(data.GetPoint(i))\n",
    "        \n",
    "pdata.SetPoints(pts)        \n",
    "        \n",
    "write_vtp('/Users/sdutta/Desktop/combined.vtp',pdata)       "
   ]
  }
 ],
 "metadata": {
  "kernelspec": {
   "display_name": "Python 3",
   "language": "python",
   "name": "python3"
  },
  "language_info": {
   "codemirror_mode": {
    "name": "ipython",
    "version": 3
   },
   "file_extension": ".py",
   "mimetype": "text/x-python",
   "name": "python",
   "nbconvert_exporter": "python",
   "pygments_lexer": "ipython3",
   "version": "3.6.8"
  }
 },
 "nbformat": 4,
 "nbformat_minor": 2
}
