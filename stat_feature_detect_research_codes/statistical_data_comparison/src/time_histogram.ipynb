{
 "cells": [
  {
   "cell_type": "code",
   "execution_count": 1,
   "metadata": {},
   "outputs": [],
   "source": [
    "import matplotlib.pyplot as plt\n",
    "import vtk\n",
    "import numpy as np\n",
    "import sys\n",
    "import math\n",
    "import os\n",
    "import glob\n",
    "from vtk.util.numpy_support import *"
   ]
  },
  {
   "cell_type": "code",
   "execution_count": 2,
   "metadata": {},
   "outputs": [],
   "source": [
    "def read_vti(filename):\n",
    "    reader = vtk.vtkXMLImageDataReader()\n",
    "    reader.SetFileName(filename)\n",
    "    reader.Update()\n",
    "    return reader.GetOutput()"
   ]
  },
  {
   "cell_type": "code",
   "execution_count": 3,
   "metadata": {},
   "outputs": [],
   "source": [
    "# ## asteroid data\n",
    "# data_path = '/disk1/asteroid_300X300X300/'\n",
    "# var_name = 'tev'\n",
    "# data_name = 'pv_insitu_300x300x300_'\n",
    "# tsteps = []\n",
    "# for i in (os.listdir(data_path)):\n",
    "#     filename, file_extension = os.path.splitext(i)\n",
    "#     if (file_extension != '.vti'):\n",
    "#         continue\n",
    "        \n",
    "#     splitted_fname = filename.split('_')\n",
    "#     tsteps.append(int(splitted_fname[3]))\n",
    "\n",
    "# tsteps = sorted(tsteps)\n",
    "# num_tsteps = len(tsteps)"
   ]
  },
  {
   "cell_type": "code",
   "execution_count": 4,
   "metadata": {},
   "outputs": [],
   "source": [
    "## MFIX FCC data\n",
    "data_path = '/disk1/MFIX_bubble_fields/'\n",
    "var_name = 'ImageScalars'\n",
    "data_name = 'original_timestep_'\n",
    "tsteps = []\n",
    "for i in (os.listdir(data_path)):\n",
    "    filename, file_extension = os.path.splitext(i)\n",
    "    if (file_extension != '.vti'):\n",
    "        continue\n",
    "        \n",
    "    splitted_fname = filename.split('_')\n",
    "    tsteps.append(int(splitted_fname[2]))\n",
    "\n",
    "tsteps = sorted(tsteps)\n",
    "num_tsteps = len(tsteps)"
   ]
  },
  {
   "cell_type": "code",
   "execution_count": 13,
   "metadata": {
    "scrolled": false
   },
   "outputs": [],
   "source": [
    "nbins = 64\n",
    "time_histogram = []\n",
    "time_histogram_bincenters = []\n",
    "data_range = []\n",
    "\n",
    "for i in range(num_tsteps):\n",
    "    fname = data_path + data_name + str(tsteps[i]) + '.vti'\n",
    "    \n",
    "    #print i, fname\n",
    "    \n",
    "    vtk_data = read_vti(fname)\n",
    "    nparr = vtk.util.numpy_support.vtk_to_numpy(vtk_data.GetPointData().GetArray(var_name))\n",
    "    \n",
    "#     plt.figure(figsize=(15,10))\n",
    "#     plt.hist(nparr,bins=64) \n",
    "#     plt.title('histogram for tstep ' + str(tsteps[i])) \n",
    "#     hist_img_name = '../out/hist_global_' + var_name + '_' + str(tsteps[i])  + '.png'\n",
    "#     plt.savefig(hist_img_name)\n",
    "\n",
    "    hist = np.histogram(nparr,nbins)\n",
    "    time_histogram.append(hist[0])\n",
    "    time_histogram_bincenters.append(hist[1])    "
   ]
  },
  {
   "cell_type": "code",
   "execution_count": 14,
   "metadata": {},
   "outputs": [
    {
     "name": "stdout",
     "output_type": "stream",
     "text": [
      "Using matplotlib backend: Qt5Agg\n"
     ]
    },
    {
     "data": {
      "text/plain": [
       "<matplotlib.image.AxesImage at 0x7fcfec1ba750>"
      ]
     },
     "execution_count": 14,
     "metadata": {},
     "output_type": "execute_result"
    }
   ],
   "source": [
    "%matplotlib\n",
    "time_histogram = np.transpose(np.asarray(time_histogram))\n",
    "\n",
    "plt.imshow(time_histogram,cmap='RdBu',origin='lower', vmin=0, vmax=20000)"
   ]
  }
 ],
 "metadata": {
  "kernelspec": {
   "display_name": "Python 2",
   "language": "python",
   "name": "python2"
  },
  "language_info": {
   "codemirror_mode": {
    "name": "ipython",
    "version": 2
   },
   "file_extension": ".py",
   "mimetype": "text/x-python",
   "name": "python",
   "nbconvert_exporter": "python",
   "pygments_lexer": "ipython2",
   "version": "2.7.17"
  }
 },
 "nbformat": 4,
 "nbformat_minor": 2
}
