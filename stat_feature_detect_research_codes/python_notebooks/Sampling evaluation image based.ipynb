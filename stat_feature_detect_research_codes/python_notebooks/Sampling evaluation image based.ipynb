{
 "cells": [
  {
   "cell_type": "code",
   "execution_count": 1,
   "metadata": {
    "collapsed": true
   },
   "outputs": [],
   "source": [
    "from PIL import Image\n",
    "import numpy as np\n",
    "from scipy.stats import pearsonr"
   ]
  },
  {
   "cell_type": "code",
   "execution_count": 10,
   "metadata": {
    "collapsed": true
   },
   "outputs": [],
   "source": [
    "im_orig = Image.open('images/orig_isabel_1.tif').convert('L')\n",
    "im_orig.show()"
   ]
  },
  {
   "cell_type": "code",
   "execution_count": 11,
   "metadata": {
    "collapsed": true
   },
   "outputs": [],
   "source": [
    "im_hist = Image.open('images/hist_samp_isabel_1.tif').convert('L')\n",
    "im_hist.show()"
   ]
  },
  {
   "cell_type": "code",
   "execution_count": 12,
   "metadata": {
    "collapsed": true
   },
   "outputs": [],
   "source": [
    "im_rand = Image.open('images/random_samp_isabel_1.tif').convert('L')\n",
    "im_rand.show()"
   ]
  },
  {
   "cell_type": "code",
   "execution_count": 13,
   "metadata": {
    "collapsed": true
   },
   "outputs": [],
   "source": [
    "im_reg = Image.open('images/regular_samp_isabel_1.tif').convert('L')\n",
    "im_reg.show()"
   ]
  },
  {
   "cell_type": "code",
   "execution_count": 15,
   "metadata": {},
   "outputs": [
    {
     "name": "stdout",
     "output_type": "stream",
     "text": [
      "(1097, 1330) (1097, 1330)\n"
     ]
    }
   ],
   "source": [
    "im_orig_arr = np.array(im_orig)\n",
    "im_hist_arr = np.array(im_hist)\n",
    "print(np.shape(im_hist_arr),np.shape(im_orig_arr))"
   ]
  },
  {
   "cell_type": "code",
   "execution_count": 16,
   "metadata": {
    "collapsed": true
   },
   "outputs": [],
   "source": [
    "im_rand_arr = np.array(im_rand)\n",
    "im_reg_arr = np.array(im_reg)"
   ]
  },
  {
   "cell_type": "code",
   "execution_count": 17,
   "metadata": {},
   "outputs": [
    {
     "name": "stdout",
     "output_type": "stream",
     "text": [
      "(0.99972149946794531, 0.0)\n",
      "(0.9991923197670719, 0.0)\n",
      "(0.97912273492480661, 0.0)\n"
     ]
    }
   ],
   "source": [
    "print(pearsonr(np.ndarray.flatten(im_hist_arr),np.ndarray.flatten(im_orig_arr)))\n",
    "print(pearsonr(np.ndarray.flatten(im_rand_arr),np.ndarray.flatten(im_orig_arr)))\n",
    "print(pearsonr(np.ndarray.flatten(im_reg_arr),np.ndarray.flatten(im_orig_arr)))"
   ]
  },
  {
   "cell_type": "code",
   "execution_count": null,
   "metadata": {
    "collapsed": true
   },
   "outputs": [],
   "source": []
  }
 ],
 "metadata": {
  "kernelspec": {
   "display_name": "Python 3",
   "language": "python",
   "name": "python3"
  },
  "language_info": {
   "codemirror_mode": {
    "name": "ipython",
    "version": 3
   },
   "file_extension": ".py",
   "mimetype": "text/x-python",
   "name": "python",
   "nbconvert_exporter": "python",
   "pygments_lexer": "ipython3",
   "version": "3.6.1"
  }
 },
 "nbformat": 4,
 "nbformat_minor": 2
}
