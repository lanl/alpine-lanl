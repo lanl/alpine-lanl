{
 "cells": [
  {
   "cell_type": "code",
   "execution_count": 24,
   "metadata": {},
   "outputs": [],
   "source": [
    "import numpy as np\n",
    "import vtk\n",
    "from vtk.util.numpy_support import *"
   ]
  },
  {
   "cell_type": "code",
   "execution_count": 35,
   "metadata": {},
   "outputs": [
    {
     "name": "stdout",
     "output_type": "stream",
     "text": [
      "24117248\n"
     ]
    },
    {
     "data": {
      "text/plain": [
       "1"
      ]
     },
     "execution_count": 35,
     "metadata": {},
     "output_type": "execute_result"
    }
   ],
   "source": [
    "data_path = '/Users/sdutta/Codes/multivar_image_analysis/\\\n",
    "BloodCells/2D/150718_m1_ln2_fd1/t00/red_channel/'\n",
    "\n",
    "arr_name = 'red_channel'\n",
    "\n",
    "all_files = []\n",
    "for file in os.listdir(data_path):\n",
    "    if file.endswith(\".vti\"):\n",
    "        all_files.append(os.path.join(data_path, file))\n",
    "        \n",
    "all_files =  sorted(all_files)\n",
    "num_files = len(all_files)\n",
    "\n",
    "all_values = []\n",
    "dims = []\n",
    "for i in range(num_files):\n",
    "    reader = vtk.vtkXMLImageDataReader()\n",
    "    reader.SetFileName(all_files[i])\n",
    "    reader.Update()\n",
    "   \n",
    "    dims = reader.GetOutput().GetDimensions()\n",
    "   \n",
    "    arr = reader.GetOutput().GetPointData().GetArray(arr_name)\n",
    "    nummpy_array = vtk_to_numpy(arr)\n",
    "    all_values.append(nummpy_array)\n",
    "    \n",
    "all_values = np.asarray(all_values).flatten()\n",
    "all_vals_3D = numpy_to_vtk(all_values)\n",
    "all_vals_3D.SetName(arr_name)\n",
    "\n",
    "print (all_vals_3D.GetNumberOfTuples())\n",
    "\n",
    "dataset = vtk.vtkImageData()\n",
    "dataset.SetDimensions(dims[0],dims[1],num_files)\n",
    "dataset.SetSpacing(1.0, 1.0, 1.0)\n",
    "dataset.GetPointData().AddArray(all_vals_3D)\n",
    "\n",
    "writer = vtk.vtkXMLImageDataWriter()\n",
    "writer.SetFileName('../output/out.vti')\n",
    "writer.SetInputData(dataset)\n",
    "writer.Write()"
   ]
  }
 ],
 "metadata": {
  "kernelspec": {
   "display_name": "Python 3",
   "language": "python",
   "name": "python3"
  },
  "language_info": {
   "codemirror_mode": {
    "name": "ipython",
    "version": 3
   },
   "file_extension": ".py",
   "mimetype": "text/x-python",
   "name": "python",
   "nbconvert_exporter": "python",
   "pygments_lexer": "ipython3",
   "version": "3.6.12"
  }
 },
 "nbformat": 4,
 "nbformat_minor": 4
}
