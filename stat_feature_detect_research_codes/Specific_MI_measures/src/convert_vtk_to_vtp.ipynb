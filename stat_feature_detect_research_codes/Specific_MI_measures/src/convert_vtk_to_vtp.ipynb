{
 "cells": [
  {
   "cell_type": "code",
   "execution_count": 1,
   "metadata": {},
   "outputs": [],
   "source": [
    "import sys\n",
    "import subprocess\n",
    "import re\n",
    "import os\n",
    "import time\n",
    "import matplotlib.pyplot as plt\n",
    "import matplotlib.image as mpimg\n",
    "import numpy as np\n",
    "import cmath\n",
    "import random\n",
    "import vtk"
   ]
  },
  {
   "cell_type": "code",
   "execution_count": 46,
   "metadata": {},
   "outputs": [
    {
     "name": "stdout",
     "output_type": "stream",
     "text": [
      "vtkPoints (0x7fef264fe150)\n",
      "  Debug: Off\n",
      "  Modified Time: 3915\n",
      "  Reference Count: 3\n",
      "  Registered Events: (none)\n",
      "  Data: 0x7fef264fde40\n",
      "  Data Array Name: Points\n",
      "  Number Of Points: 106037\n",
      "  Bounds: \n",
      "    Xmin,Xmax: (7.38262e-05, 0.0788048)\n",
      "    Ymin,Ymax: (7.11346e-05, 0.00312733)\n",
      "    Zmin,Zmax: (7.36447e-05, 0.0507265)\n",
      "\n",
      "\n"
     ]
    }
   ],
   "source": [
    "datafile = '/Users/sdutta/Codes/bubble_analysis_vtk_filter/data/pfeature_analysis_test_data.vtk'\n",
    "\n",
    "reader = vtk.vtkUnstructuredGridReader()\n",
    "reader.SetFileName(datafile)\n",
    "reader.Update()\n",
    "\n",
    "data = reader.GetOutput()\n",
    "\n",
    "pdata = vtk.vtkPolyData()\n",
    "pdata.SetPoints(data.GetPoints())\n",
    "print (data.GetPoints())"
   ]
  },
  {
   "cell_type": "code",
   "execution_count": 47,
   "metadata": {},
   "outputs": [
    {
     "data": {
      "text/plain": [
       "1"
      ]
     },
     "execution_count": 47,
     "metadata": {},
     "output_type": "execute_result"
    }
   ],
   "source": [
    "test_writer = vtk.vtkXMLPolyDataWriter()\n",
    "test_writer.SetFileName('/Users/sdutta/Desktop/out.vtp')\n",
    "test_writer.SetInputData(pdata)\n",
    "test_writer.Write()"
   ]
  },
  {
   "cell_type": "code",
   "execution_count": null,
   "metadata": {},
   "outputs": [],
   "source": []
  }
 ],
 "metadata": {
  "kernelspec": {
   "display_name": "Python 3",
   "language": "python",
   "name": "python3"
  },
  "language_info": {
   "codemirror_mode": {
    "name": "ipython",
    "version": 3
   },
   "file_extension": ".py",
   "mimetype": "text/x-python",
   "name": "python",
   "nbconvert_exporter": "python",
   "pygments_lexer": "ipython3",
   "version": "3.6.12"
  }
 },
 "nbformat": 4,
 "nbformat_minor": 4
}
