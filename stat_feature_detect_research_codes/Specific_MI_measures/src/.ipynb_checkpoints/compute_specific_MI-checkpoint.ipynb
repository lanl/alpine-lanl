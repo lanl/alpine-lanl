{
 "cells": [
  {
   "cell_type": "code",
   "execution_count": 117,
   "metadata": {
    "collapsed": true
   },
   "outputs": [],
   "source": [
    "import sys\n",
    "import subprocess\n",
    "import re\n",
    "import os\n",
    "import time\n",
    "import matplotlib.pyplot as plt\n",
    "import matplotlib.image as mpimg\n",
    "import numpy as np\n",
    "import cmath\n",
    "import random"
   ]
  },
  {
   "cell_type": "code",
   "execution_count": 129,
   "metadata": {
    "scrolled": false
   },
   "outputs": [],
   "source": [
    "#####################################################\n",
    "## Compute specific mutual information measures\n",
    "#####################################################\n",
    "random.seed(time.time())\n",
    "\n",
    "## Example uses uniform random values: Can be changed to any data\n",
    "# var1 = np.random.uniform(low=0, high=100.0, size=(1000,))\n",
    "# var2 = np.random.uniform(low=0, high=100.0, size=(1000,))\n",
    "\n",
    "## Example uses Gaussian: Can be changed to any data\n",
    "var1 = np.random.normal(5, 10, 1000)\n",
    "var2 = np.random.normal(20, 30, 1000)\n",
    "\n",
    "numBins=128\n",
    "numSamples = np.shape(x)[0]\n",
    "Array1 = np.histogram(var1,bins=numBins)[0]\n",
    "Array2 = np.histogram(var2,bins=numBins)[0]\n",
    "ArrayComb = np.histogram2d(var1,var2,bins=numBins)[0]\n",
    "\n",
    "def compute_I_metrics(Array1,Array2,ArrayComb,numSamples):\n",
    "\n",
    "    I11 = np.zeros(bins)\n",
    "    I12 = np.zeros(bins)\n",
    "    I21 = np.zeros(bins)\n",
    "    I22 = np.zeros(bins)\n",
    "    I31 = np.zeros(bins)\n",
    "    I32 = np.zeros(bins)\n",
    "\n",
    "    prob_of_x_given_y=0.0\n",
    "    prob_of_y_given_x=0.0\n",
    "    prob_of_x=0.0\n",
    "    prob_of_y=0.0\n",
    "\n",
    "    for i in range(0,bins):\n",
    "        for j in range(0,bins):\n",
    "            if Array1[i] == 0:\n",
    "                prob_of_y_given_x=0\n",
    "            else:\n",
    "                prob_of_y_given_x = float(ArrayComb[i][j]) / float(Array1[i])\n",
    "\n",
    "            prob_of_y = float(Array2[j]) / numSamples\n",
    "\n",
    "            if prob_of_y_given_x != 0 and prob_of_y != 0:\n",
    "                I11[i] =  I11[i] + prob_of_y_given_x * np.log2(prob_of_y_given_x / prob_of_y)\n",
    "                \n",
    "            if prob_of_y_given_x != 0:\n",
    "                I21[i] = I21[i] + prob_of_y_given_x * np.log2(prob_of_y_given_x)\n",
    "                \n",
    "            if prob_of_y != 0:\n",
    "                I21[i] =  I21[i] - prob_of_y * np.log2(prob_of_y)\n",
    "                \n",
    "            if(Array2[i] == 0):\n",
    "                prob_of_x_given_y = 0\n",
    "                \n",
    "            else:\n",
    "                prob_of_x_given_y = float(ArrayComb[j][i]) / Array2[i]; \n",
    "\n",
    "            prob_of_x = float(Array1[j]) / numSamples\n",
    "\n",
    "            if prob_of_x_given_y != 0 and prob_of_x != 0:\n",
    "                I12[i] = I12[i] + prob_of_x_given_y * np.log2(prob_of_x_given_y / prob_of_x)\n",
    "\n",
    "            if(prob_of_x_given_y != 0):\n",
    "                I22[i] = I22[i] + prob_of_x_given_y * np.log2(prob_of_x_given_y)\n",
    "\n",
    "            if(prob_of_x != 0):\n",
    "                I22[i] = I22[i] - prob_of_x * np.log2(prob_of_x)\n",
    "\n",
    "            if(prob_of_y_given_x > 1.0):\n",
    "                print \"Ooopps. value of prob_of_y_given_x is greater than 1\"\n",
    "\n",
    "            if(prob_of_x_given_y > 1.0):\n",
    "                print \"Ooopps. value of prob_of_x_given_y is greater than 1\"\n",
    "\n",
    "    for i in range(0,bins):\n",
    "        for j in range(0,bins):\n",
    "            if Array1[i] == 0:\n",
    "                prob_of_y_given_x=0\n",
    "            else:\n",
    "                prob_of_y_given_x = float(ArrayComb[i][j]) / Array1[i]\n",
    "\n",
    "            prob_of_y = float(Array2[j]) / numSamples\n",
    "\n",
    "            I31[i] = I31[i] + prob_of_y_given_x * I22[j]\n",
    "\n",
    "            if(Array2[i] == 0):\n",
    "                prob_of_x_given_y = 0\n",
    "            else:\n",
    "                prob_of_x_given_y = float(ArrayComb[j][i]) / Array2[i] \n",
    "\n",
    "            prob_of_x = float(Array1[j]) / numSamples\n",
    "            I32[i] = I32[i] + prob_of_x_given_y * I21[j]\n",
    "            \n",
    "    return I11,I12,I21,I22,I31,I32\n",
    "################################################################################################\n",
    "\n",
    "if __name__ == '__main__':    \n",
    "    I11,I12,I21,I22,I31,I32 = compute_I_metrics(Array1,Array2,ArrayComb,numSamples)"
   ]
  },
  {
   "cell_type": "code",
   "execution_count": 130,
   "metadata": {},
   "outputs": [
    {
     "name": "stdout",
     "output_type": "stream",
     "text": [
      "Using matplotlib backend: Qt4Agg\n"
     ]
    }
   ],
   "source": [
    "# sample plot I1 vs I3 with color = I2\n",
    "%matplotlib\n",
    "plt.scatter(I12,I32,c=I22,s=75,alpha=0.7)\n",
    "plt.title('Specific Information map',fontsize=25)\n",
    "plt.xlabel('I12',fontsize=25)\n",
    "plt.ylabel('I32',fontsize=25)\n",
    "plt.show()"
   ]
  }
 ],
 "metadata": {
  "kernelspec": {
   "display_name": "Python 3",
   "language": "python",
   "name": "python3"
  },
  "language_info": {
   "codemirror_mode": {
    "name": "ipython",
    "version": 3
   },
   "file_extension": ".py",
   "mimetype": "text/x-python",
   "name": "python",
   "nbconvert_exporter": "python",
   "pygments_lexer": "ipython3",
   "version": "3.6.8"
  }
 },
 "nbformat": 4,
 "nbformat_minor": 2
}
