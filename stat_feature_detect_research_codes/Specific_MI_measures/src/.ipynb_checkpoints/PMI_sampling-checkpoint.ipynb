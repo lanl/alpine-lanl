{
 "cells": [
  {
   "cell_type": "code",
   "execution_count": 1,
   "metadata": {},
   "outputs": [],
   "source": [
    "import sys\n",
    "import subprocess\n",
    "import re\n",
    "import os\n",
    "import time\n",
    "import matplotlib.pyplot as plt\n",
    "import matplotlib.image as mpimg\n",
    "import numpy as np\n",
    "import cmath\n",
    "import operator\n",
    "import random\n",
    "from operator import itemgetter, attrgetter\n",
    "import matplotlib.cm as cm\n",
    "import vtk\n",
    "\n",
    "## If includeing files from a different source path\n",
    "# module_path = os.path.abspath(os.path.join('../scripts/'))\n",
    "# if module_path not in sys.path:\n",
    "#     sys.path.append(module_path)\n",
    "\n",
    "## import MI measures\n",
    "from mi_functions import *"
   ]
  },
  {
   "cell_type": "code",
   "execution_count": 2,
   "metadata": {},
   "outputs": [],
   "source": [
    "# ## load vti data\n",
    "file1 = '../Data/Isabel_vti/isabel_p_25.vti'\n",
    "file2 = '../Data/Isabel_vti/isabel_vel_25.vti'\n",
    "arrayName1 = 'ImageFile'\n",
    "arrayName2 = 'Velocity'\n",
    "\n",
    "R1 = vtk.vtkXMLImageDataReader()\n",
    "R1.SetFileName(file1)\n",
    "R1.Update()\n",
    "dataArray1 = R1.GetOutput().GetPointData().GetArray(arrayName1)\n",
    "\n",
    "R2 = vtk.vtkXMLImageDataReader()\n",
    "R2.SetFileName(file2)\n",
    "R2.Update()\n",
    "dataArray2 = R2.GetOutput().GetPointData().GetArray(arrayName2)\n",
    "\n",
    "var1=np.zeros(dataArray1.GetNumberOfTuples()) \n",
    "var2=np.zeros(dataArray2.GetNumberOfTuples()) \n",
    "\n",
    "for i in range(dataArray1.GetNumberOfTuples()):\n",
    "    var1[i] = dataArray1.GetTuple1(i)\n",
    "    var2[i] = dataArray2.GetTuple1(i)\n",
    "\n",
    "dims = R1.GetOutput().GetDimensions()\n",
    "\n",
    "min_var1 = np.min(var1)\n",
    "max_var1 = np.max(var1)\n",
    "\n",
    "min_var2 = np.min(var2)\n",
    "max_var2 = np.max(var2)"
   ]
  },
  {
   "cell_type": "code",
   "execution_count": 3,
   "metadata": {},
   "outputs": [
    {
     "name": "stdout",
     "output_type": "stream",
     "text": [
      "Percentage needed: 3\n",
      "Points to be taken: 93750\n"
     ]
    }
   ],
   "source": [
    "percentageToStroe = 3\n",
    "pointsToretain = int((len(var1)*percentageToStroe)/100.00)\n",
    "print 'Percentage needed: ' + str(percentageToStroe)\n",
    "print 'Points to be taken: ' + str(pointsToretain)"
   ]
  },
  {
   "cell_type": "code",
   "execution_count": 4,
   "metadata": {},
   "outputs": [
    {
     "name": "stdout",
     "output_type": "stream",
     "text": [
      "min pmi: -7.985661391117528\n",
      "max pmi: 11.96071491498369\n"
     ]
    }
   ],
   "source": [
    "## compute histogram and PMI\n",
    "numBins=128\n",
    "numSamples = np.shape(var1)[0]\n",
    "\n",
    "hist1 = np.histogram(var1,bins=numBins)\n",
    "hist2 = np.histogram(var2,bins=numBins)\n",
    "hist2D = np.histogram2d(var1,var2,bins=numBins)\n",
    "\n",
    "Array1 = hist1[0]\n",
    "Array2 = hist2[0]\n",
    "ArrayComb = hist2D[0]\n",
    "\n",
    "## compute PMI\n",
    "PMI = compute_pointwise_mutual_information(Array1,Array2,ArrayComb,numSamples,numBins)\n",
    "\n",
    "max_pmi = np.max(PMI)\n",
    "min_pmi = np.min(PMI)\n",
    "print 'min pmi: ' + str(min_pmi)\n",
    "print 'max pmi: ' + str(max_pmi)\n",
    "\n",
    "# normalize PMI\n",
    "PMI = (PMI-min_pmi)/(max_pmi-min_pmi)\n",
    "max_pmi = np.max(PMI)\n",
    "min_pmi = np.min(PMI)"
   ]
  },
  {
   "cell_type": "code",
   "execution_count": 5,
   "metadata": {
    "scrolled": false
   },
   "outputs": [],
   "source": [
    "class Histogram_1D:\n",
    "    def __init__(self, freq, value, importance, bin_id):\n",
    "        self.freq = freq\n",
    "        self.value = value\n",
    "        self.importance = importance\n",
    "        self.bin_id = bin_id\n",
    "    def __repr__(self):\n",
    "        return repr((self.freq, self.value, self.importance, self.bin_id))\n",
    "    \n",
    "class PMI_2D:\n",
    "    def __init__(self, freq, importance, bin_id1):\n",
    "        self.freq = freq\n",
    "        self.importance = importance\n",
    "        self.bin_id1 = bin_id1\n",
    "    def __repr__(self):\n",
    "        return repr((self.freq, self.importance, self.bin_id1))    \n",
    "\n",
    "var1_hist=[]    \n",
    "for i in range(numBins):\n",
    "    var1_hist.append(Histogram_1D(hist1[0][i],hist1[1][i],0,i))\n",
    "    \n",
    "var1_hist = sorted(var1_hist, key=attrgetter('freq'))"
   ]
  },
  {
   "cell_type": "code",
   "execution_count": 6,
   "metadata": {},
   "outputs": [
    {
     "name": "stdout",
     "output_type": "stream",
     "text": [
      "Prob based sampling will pick on expectation: 93713 points\n"
     ]
    }
   ],
   "source": [
    "## Compute probabiliy based importance function\n",
    "pointsToretain_temp = pointsToretain\n",
    "pointsPerBin = int(pointsToretain_temp/float(numBins))\n",
    "\n",
    "currentBinFreq=0\n",
    "binCounter=0\n",
    "BinsLeft=numBins\n",
    "\n",
    "#Compute the sampling/importance function\n",
    "while True:\n",
    "    var1_hist[binCounter].importance = 1.0\n",
    "    BinsLeft = BinsLeft-1\n",
    "    pointsToretain_temp = pointsToretain_temp - var1_hist[binCounter].freq\n",
    "    binCounter=binCounter+1\n",
    "    pointsPerBin = int(pointsToretain_temp/BinsLeft)\n",
    "    currentBinFreq = var1_hist[binCounter].freq\n",
    "    if (currentBinFreq > pointsPerBin):\n",
    "        break\n",
    "        \n",
    "#Traverse the rest of the bins and assign sampling percentage\n",
    "for i in range(binCounter,numBins):\n",
    "    var1_hist[i].importance = pointsPerBin/float(var1_hist[i].freq)\n",
    "\n",
    "expected_samples = 0\n",
    "for i in range(numBins):\n",
    "    expected_samples = expected_samples + var1_hist[i].importance*Array1[var1_hist[i].bin_id]\n",
    "print 'Prob based sampling will pick on expectation: ' + str(int(expected_samples)) + str(' points') "
   ]
  },
  {
   "cell_type": "code",
   "execution_count": 7,
   "metadata": {},
   "outputs": [],
   "source": [
    "###############################################################\n",
    "def compute_pmi_based_importance(var1_hist,PMI,hist2D):\n",
    "    final_acc_func = np.zeros((numBins,numBins), dtype=np.float)\n",
    "    \n",
    "    importance_vals = np.zeros(numBins)\n",
    "    for i in range(numBins):\n",
    "        importance_vals[var1_hist[i].bin_id] = var1_hist[i].importance\n",
    "\n",
    "    ## for each bin in 1D hist    \n",
    "    for i in range(numBins):\n",
    "\n",
    "        pts_to_take = int(importance_vals[i]*Array1[i])\n",
    "        pointsToretain_temp = pts_to_take\n",
    "\n",
    "        ## distribute points according PMI when importance is less than 1\n",
    "        if importance_vals[i] < 1.0:\n",
    "\n",
    "            ## sort based on PMI\n",
    "            var1_temp=[]    \n",
    "            for j in range(numBins):\n",
    "                var1_temp.append(PMI_2D(hist2D[0][i][j], PMI[i][j], j))\n",
    "\n",
    "            ## sort PMI-based high to low\n",
    "            var1_temp = sorted( var1_temp, key=attrgetter('importance'), reverse=True )\n",
    "\n",
    "            for j in range(numBins):\n",
    "                if var1_temp[j].freq <= pointsToretain_temp: \n",
    "                    final_acc_func[i][var1_temp[j].bin_id1] = 1.0\n",
    "                    pointsToretain_temp = pointsToretain_temp - var1_temp[j].freq\n",
    "                else:\n",
    "                    final_acc_func[i][var1_temp[j].bin_id1] = pointsToretain_temp/float(var1_temp[j].freq)\n",
    "                    break\n",
    "\n",
    "        ##Take all points when 1D prob-based importance is 1.0. No need to pick based on PMI\n",
    "        else: \n",
    "            final_acc_func[:][i] = 1.0\n",
    "        \n",
    "    print 'Number of points in expectation will be picked: ' + str(int(np.sum(final_acc_func*ArrayComb)))\n",
    "    \n",
    "    return final_acc_func\n",
    "\n",
    "###############################################################\n",
    "def sample_pmi_based(final_acc_func,data1,data2,arrayName1,arrayName2):\n",
    "    \n",
    "    numBins = len(final_acc_func[0])\n",
    "    \n",
    "    numPts = data1.GetPointData().GetArray(arrayName1).GetNumberOfTuples()\n",
    "    dataArr1 = data1.GetPointData().GetArray(arrayName1)\n",
    "    dataArr2 = data2.GetPointData().GetArray(arrayName2)\n",
    "    \n",
    "    range_vals1 = dataArr1.GetRange() \n",
    "    range_vals2 = dataArr2.GetRange()\n",
    "    \n",
    "    pdata = vtk.vtkPolyData()\n",
    "    pts_arr = vtk.vtkPoints()\n",
    "    sampled_arr = vtk.vtkDoubleArray()\n",
    "    sampled_arr.SetName(arrayName1)\n",
    "    \n",
    "    for i in range(numPts):\n",
    "        randval = random.uniform(0, 1)\n",
    "        \n",
    "        dataval1 = dataArr1.GetTuple1(i)\n",
    "        bin_id1 = int(((dataval1 - range_vals1[0])/(range_vals1[1]-range_vals1[0]))*(numBins-1))\n",
    "        \n",
    "        dataval2 = dataArr2.GetTuple1(i)\n",
    "        bin_id2 = int(((dataval2 - range_vals2[0])/(range_vals2[1]-range_vals2[0]))*(numBins-1))\n",
    "        \n",
    "        if randval <= final_acc_func[bin_id1][bin_id2]:\n",
    "            pts_arr.InsertNextPoint(data1.GetPoint(i))\n",
    "            sampled_arr.InsertNextTuple1(dataval1)\n",
    "    \n",
    "    pdata.SetPoints(pts_arr)\n",
    "    pdata.GetPointData().AddArray(sampled_arr)\n",
    "    \n",
    "    return pdata\n",
    "\n",
    "def write_vtp(filename,pdata):\n",
    "    pdatawriter = vtk.vtkXMLPolyDataWriter()\n",
    "    pdatawriter.SetFileName(filename)\n",
    "    pdatawriter.SetInputData(pdata)\n",
    "    pdatawriter.Write()"
   ]
  },
  {
   "cell_type": "code",
   "execution_count": 8,
   "metadata": {},
   "outputs": [
    {
     "name": "stdout",
     "output_type": "stream",
     "text": [
      "Number of points in expectation will be picked: 93713\n",
      "Final number of sampled points picked is: 80705 and percentage: 2.58256\n"
     ]
    }
   ],
   "source": [
    "final_acc_func = compute_pmi_based_importance(var1_hist,PMI,hist2D)  \n",
    "sampled_data = sample_pmi_based(final_acc_func,R1.GetOutput(),R2.GetOutput(),arrayName1,arrayName2) \n",
    "print 'Final number of sampled points picked is: ' + str(sampled_data.GetNumberOfPoints()) + ' and percentage: ' + \\\n",
    "str(100*(sampled_data.GetNumberOfPoints()/float(len(var1))))\n",
    "\n",
    "outfile = \"../output/pmi_sampled_prob.vtp\"\n",
    "write_vtp(outfile,sampled_data)"
   ]
  }
 ],
 "metadata": {
  "kernelspec": {
   "display_name": "Python 2",
   "language": "python",
   "name": "python2"
  },
  "language_info": {
   "codemirror_mode": {
    "name": "ipython",
    "version": 2
   },
   "file_extension": ".py",
   "mimetype": "text/x-python",
   "name": "python",
   "nbconvert_exporter": "python",
   "pygments_lexer": "ipython2",
   "version": "2.7.15"
  }
 },
 "nbformat": 4,
 "nbformat_minor": 2
}
