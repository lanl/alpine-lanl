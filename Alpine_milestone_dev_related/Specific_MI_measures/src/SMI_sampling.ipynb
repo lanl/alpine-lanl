{
 "cells": [
  {
   "cell_type": "code",
   "execution_count": 61,
   "metadata": {},
   "outputs": [],
   "source": [
    "import sys\n",
    "import subprocess\n",
    "import re\n",
    "import os\n",
    "import time\n",
    "import matplotlib.pyplot as plt\n",
    "import matplotlib.image as mpimg\n",
    "import numpy as np\n",
    "import cmath\n",
    "import operator\n",
    "import random\n",
    "import matplotlib.cm as cm\n",
    "import vtk\n",
    "\n",
    "## import MI measures\n",
    "from mi_functions import *"
   ]
  },
  {
   "cell_type": "code",
   "execution_count": 62,
   "metadata": {},
   "outputs": [],
   "source": [
    "# ## load vti data\n",
    "file1 = 'Data/Isabel_vti/isabel_p_25.vti'\n",
    "file2 = 'Data/Isabel_vti/isabel_vel_25.vti'\n",
    "arrayName1 = 'ImageFile'\n",
    "arrayName2 = 'Velocity'\n",
    "\n",
    "R1 = vtk.vtkXMLImageDataReader()\n",
    "R1.SetFileName(file1)\n",
    "R1.Update()\n",
    "dataArray1 = R1.GetOutput().GetPointData().GetArray(arrayName1)\n",
    "\n",
    "R2 = vtk.vtkXMLImageDataReader()\n",
    "R2.SetFileName(file2)\n",
    "R2.Update()\n",
    "dataArray2 = R2.GetOutput().GetPointData().GetArray(arrayName2)\n",
    "\n",
    "var1=np.zeros(dataArray1.GetNumberOfTuples()) \n",
    "var2=np.zeros(dataArray1.GetNumberOfTuples()) \n",
    "\n",
    "for i in range(dataArray1.GetNumberOfTuples()):\n",
    "    var1[i] = dataArray1.GetTuple1(i)\n",
    "    var2[i] = dataArray2.GetTuple1(i)\n",
    "\n",
    "dims = R1.GetOutput().GetDimensions()"
   ]
  },
  {
   "cell_type": "code",
   "execution_count": 66,
   "metadata": {},
   "outputs": [],
   "source": [
    "## compute histogram\n",
    "numBins=256\n",
    "numSamples = np.shape(var1)[0]\n",
    "Array1 = np.histogram(var1,bins=numBins)[0]\n",
    "Array2 = np.histogram(var2,bins=numBins)[0]\n",
    "ArrayComb = np.histogram2d(var1,var2,bins=numBins)[0]\n",
    "\n",
    "## compute SMI\n",
    "I11,I12,I21,I22,I31,I32 = compute_specific_mutual_information(Array1,Array2,ArrayComb,numSamples,numBins)\n",
    "## compute PMI\n",
    "PMI = compute_pointwise_mutual_information(Array1,Array2,ArrayComb,numSamples,numBins)"
   ]
  },
  {
   "cell_type": "code",
   "execution_count": 73,
   "metadata": {
    "scrolled": false
   },
   "outputs": [
    {
     "data": {
      "text/plain": [
       "(array([ 19533.00000,  5837.00000,  10097.00000,  14228.00000,\n",
       "         18793.00000,  22801.00000,  28101.00000,  32179.00000,\n",
       "         35625.00000,  38828.00000,  42147.00000,  46573.00000,\n",
       "         50738.00000,  54694.00000,  56538.00000,  58385.00000,\n",
       "         61891.00000,  64625.00000,  66414.00000,  67839.00000,\n",
       "         69069.00000,  69594.00000,  70334.00000,  70622.00000,\n",
       "         70005.00000,  68491.00000,  67466.00000,  66187.00000,\n",
       "         64580.00000,  62496.00000,  60932.00000,  58579.00000,\n",
       "         57329.00000,  56014.00000,  53887.00000,  52373.00000,\n",
       "         50121.00000,  48564.00000,  46749.00000,  44776.00000,\n",
       "         41854.00000,  40019.00000,  39518.00000,  37613.00000,\n",
       "         35121.00000,  33989.00000,  32964.00000,  31890.00000,\n",
       "         30608.00000,  29683.00000,  29073.00000,  27449.00000,\n",
       "         26080.00000,  24619.00000,  23188.00000,  21955.00000,\n",
       "         21002.00000,  20564.00000,  20380.00000,  19966.00000,\n",
       "         19162.00000,  18549.00000,  18086.00000,  17180.00000,\n",
       "         16676.00000,  15480.00000,  14867.00000,  14110.00000,\n",
       "         13815.00000,  13557.00000,  13047.00000,  12566.00000,\n",
       "         11911.00000,  11397.00000,  11217.00000,  10932.00000,\n",
       "         10212.00000,  9762.00000,  9506.00000,  8977.00000,  8705.00000,\n",
       "         8480.00000,  7947.00000,  7671.00000,  7419.00000,  7197.00000,\n",
       "         7130.00000,  6801.00000,  6874.00000,  6673.00000,  6497.00000,\n",
       "         6252.00000,  5931.00000,  5878.00000,  5631.00000,  5526.00000,\n",
       "         5215.00000,  4987.00000,  4785.00000,  4637.00000,  4542.00000,\n",
       "         4467.00000,  4486.00000,  4549.00000,  4309.00000,  4056.00000,\n",
       "         3947.00000,  3709.00000,  3519.00000,  3433.00000,  3452.00000,\n",
       "         3351.00000,  3306.00000,  3317.00000,  3301.00000,  3123.00000,\n",
       "         3014.00000,  2715.00000,  2554.00000,  2393.00000,  2485.00000,\n",
       "         2508.00000,  2375.00000,  2160.00000,  2029.00000,  1910.00000,\n",
       "         1880.00000,  1807.00000,  1563.00000,  1521.00000,  1436.00000,\n",
       "         1377.00000,  1217.00000,  1139.00000,  1230.00000,  1232.00000,\n",
       "         1132.00000,  1043.00000,  1004.00000,  977.00000,  974.00000,\n",
       "         962.00000,  946.00000,  858.00000,  876.00000,  873.00000,\n",
       "         863.00000,  796.00000,  754.00000,  785.00000,  695.00000,\n",
       "         697.00000,  675.00000,  615.00000,  599.00000,  635.00000,\n",
       "         598.00000,  596.00000,  546.00000,  600.00000,  574.00000,\n",
       "         498.00000,  489.00000,  492.00000,  468.00000,  445.00000,\n",
       "         400.00000,  394.00000,  365.00000,  369.00000,  349.00000,\n",
       "         343.00000,  320.00000,  324.00000,  312.00000,  316.00000,\n",
       "         293.00000,  298.00000,  250.00000,  258.00000,  247.00000,\n",
       "         238.00000,  218.00000,  207.00000,  217.00000,  231.00000,\n",
       "         192.00000,  187.00000,  208.00000,  191.00000,  171.00000,\n",
       "         152.00000,  149.00000,  179.00000,  176.00000,  148.00000,\n",
       "         140.00000,  124.00000,  163.00000,  129.00000,  124.00000,\n",
       "         121.00000,  87.00000,  98.00000,  112.00000,  104.00000,\n",
       "         83.00000,  102.00000,  78.00000,  71.00000,  59.00000,  62.00000,\n",
       "         80.00000,  53.00000,  65.00000,  52.00000,  62.00000,  56.00000,\n",
       "         43.00000,  57.00000,  62.00000,  51.00000,  46.00000,  56.00000,\n",
       "         40.00000,  45.00000,  40.00000,  28.00000,  34.00000,  32.00000,\n",
       "         43.00000,  33.00000,  30.00000,  32.00000,  28.00000,  29.00000,\n",
       "         24.00000,  23.00000,  25.00000,  26.00000,  14.00000,  18.00000,\n",
       "         14.00000,  13.00000,  13.00000,  9.00000,  8.00000,  20.00000,\n",
       "         8.00000,  12.00000,  9.00000,  5.00000,  2.00000,  2.00000,\n",
       "         5.00000,  3.00000]),\n",
       " array([ 0.00000,  0.29842,  0.59684,  0.89527,  1.19369,  1.49211,\n",
       "         1.79053,  2.08896,  2.38738,  2.68580,  2.98422,  3.28265,\n",
       "         3.58107,  3.87949,  4.17791,  4.47634,  4.77476,  5.07318,\n",
       "         5.37160,  5.67003,  5.96845,  6.26687,  6.56529,  6.86372,\n",
       "         7.16214,  7.46056,  7.75898,  8.05740,  8.35583,  8.65425,\n",
       "         8.95267,  9.25109,  9.54952,  9.84794,  10.14636,  10.44478,\n",
       "         10.74321,  11.04163,  11.34005,  11.63847,  11.93690,  12.23532,\n",
       "         12.53374,  12.83216,  13.13059,  13.42901,  13.72743,  14.02585,\n",
       "         14.32428,  14.62270,  14.92112,  15.21954,  15.51796,  15.81639,\n",
       "         16.11481,  16.41323,  16.71165,  17.01008,  17.30850,  17.60692,\n",
       "         17.90534,  18.20377,  18.50219,  18.80061,  19.09903,  19.39746,\n",
       "         19.69588,  19.99430,  20.29272,  20.59115,  20.88957,  21.18799,\n",
       "         21.48641,  21.78483,  22.08326,  22.38168,  22.68010,  22.97852,\n",
       "         23.27695,  23.57537,  23.87379,  24.17221,  24.47064,  24.76906,\n",
       "         25.06748,  25.36590,  25.66433,  25.96275,  26.26117,  26.55959,\n",
       "         26.85802,  27.15644,  27.45486,  27.75328,  28.05171,  28.35013,\n",
       "         28.64855,  28.94697,  29.24539,  29.54382,  29.84224,  30.14066,\n",
       "         30.43908,  30.73751,  31.03593,  31.33435,  31.63277,  31.93120,\n",
       "         32.22962,  32.52804,  32.82646,  33.12489,  33.42331,  33.72173,\n",
       "         34.02015,  34.31858,  34.61700,  34.91542,  35.21384,  35.51227,\n",
       "         35.81069,  36.10911,  36.40753,  36.70595,  37.00438,  37.30280,\n",
       "         37.60122,  37.89964,  38.19807,  38.49649,  38.79491,  39.09333,\n",
       "         39.39176,  39.69018,  39.98860,  40.28702,  40.58545,  40.88387,\n",
       "         41.18229,  41.48071,  41.77914,  42.07756,  42.37598,  42.67440,\n",
       "         42.97283,  43.27125,  43.56967,  43.86809,  44.16651,  44.46494,\n",
       "         44.76336,  45.06178,  45.36020,  45.65863,  45.95705,  46.25547,\n",
       "         46.55389,  46.85232,  47.15074,  47.44916,  47.74758,  48.04601,\n",
       "         48.34443,  48.64285,  48.94127,  49.23970,  49.53812,  49.83654,\n",
       "         50.13496,  50.43338,  50.73181,  51.03023,  51.32865,  51.62707,\n",
       "         51.92550,  52.22392,  52.52234,  52.82076,  53.11919,  53.41761,\n",
       "         53.71603,  54.01445,  54.31288,  54.61130,  54.90972,  55.20814,\n",
       "         55.50657,  55.80499,  56.10341,  56.40183,  56.70026,  56.99868,\n",
       "         57.29710,  57.59552,  57.89394,  58.19237,  58.49079,  58.78921,\n",
       "         59.08763,  59.38606,  59.68448,  59.98290,  60.28132,  60.57975,\n",
       "         60.87817,  61.17659,  61.47501,  61.77344,  62.07186,  62.37028,\n",
       "         62.66870,  62.96713,  63.26555,  63.56397,  63.86239,  64.16082,\n",
       "         64.45924,  64.75766,  65.05608,  65.35450,  65.65293,  65.95135,\n",
       "         66.24977,  66.54819,  66.84662,  67.14504,  67.44346,  67.74188,\n",
       "         68.04031,  68.33873,  68.63715,  68.93557,  69.23400,  69.53242,\n",
       "         69.83084,  70.12926,  70.42769,  70.72611,  71.02453,  71.32295,\n",
       "         71.62138,  71.91980,  72.21822,  72.51664,  72.81506,  73.11349,\n",
       "         73.41191,  73.71033,  74.00875,  74.30718,  74.60560,  74.90402,\n",
       "         75.20244,  75.50087,  75.79929,  76.09771,  76.39613]),\n",
       " <a list of 256 Patch objects>)"
      ]
     },
     "execution_count": 73,
     "metadata": {},
     "output_type": "execute_result"
    },
    {
     "data": {
      "image/png": "[encoded data removed]",
      "text/plain": [
       "<Figure size 432x288 with 2 Axes>"
      ]
     },
     "metadata": {
      "needs_background": "light"
     },
     "output_type": "display_data"
    }
   ],
   "source": [
    "fig, axs = plt.subplots(1, 2, sharey=True, tight_layout=True)\n",
    "axs[0].hist(var1, bins=numBins)\n",
    "axs[1].hist(var2, bins=numBins)"
   ]
  },
  {
   "cell_type": "code",
   "execution_count": 72,
   "metadata": {},
   "outputs": [
    {
     "name": "stdout",
     "output_type": "stream",
     "text": [
      "[ 0.28495  0.03325  0.02603  0.02336  0.02326  0.02098  0.01878  0.01579\n",
      "  0.01403  0.01164  0.01094  0.01088  0.01027  0.01061  0.01035  0.00990\n",
      "  0.00969  0.00882  0.00813  0.00707  0.00685  0.00608  0.00547  0.00429\n",
      "  0.00366  0.00249  0.00184  0.00141  0.00053  0.00000  0.00010  0.00067\n",
      "  0.00087  0.00128  0.00200  0.00228  0.00287  0.00371  0.00353  0.00348\n",
      "  0.00340  0.00360  0.00382  0.00409  0.00462  0.00363  0.00396  0.00480\n",
      "  0.00570  0.00663  0.00724  0.00822  0.00664  0.00579  0.00491  0.00447\n",
      "  0.00428  0.00470  0.00493  0.00559  0.00589  0.00701  0.00770  0.00993\n",
      "  0.00963  0.00959  0.00864  0.01054  0.01076  0.01233  0.01394  0.01552\n",
      "  0.01831  0.02040  0.02284  0.02463  0.02577  0.02846  0.03185  0.02891\n",
      "  0.03206  0.03408  0.03547  0.03897  0.04020  0.04243  0.04316  0.04600\n",
      "  0.04825  0.04959  0.04914  0.05554  0.05847  0.05939  0.06099  0.06461\n",
      "  0.06329  0.06988  0.07215  0.07816  0.07752  0.07727  0.08268  0.08382\n",
      "  0.09012  0.09276  0.09408  0.09975  0.10200  0.10430  0.10567  0.10941\n",
      "  0.11534  0.12189  0.12728  0.12994  0.13211  0.13752  0.14338  0.14866\n",
      "  0.15169  0.14671  0.16211  0.16466  0.17002  0.18467  0.18393  0.20051\n",
      "  0.21600  0.23549  0.22363  0.26469  0.26562  0.28450  0.28990  0.29797\n",
      "  0.31959  0.31469  0.32040  0.32158  0.33030  0.34186  0.34172  0.34868\n",
      "  0.35334  0.35746  0.36064  0.36790  0.37099  0.37261  0.37950  0.38604\n",
      "  0.38651  0.39155  0.39185  0.40224  0.40699  0.40302  0.40607  0.40649\n",
      "  0.41603  0.42194  0.42286  0.42435  0.43092  0.43568  0.44498  0.43502\n",
      "  0.44557  0.44979  0.45347  0.46332  0.45695  0.47076  0.47034  0.47409\n",
      "  0.47448  0.47895  0.48415  0.48721  0.49089  0.49452  0.49763  0.50154\n",
      "  0.49983  0.51030  0.51096  0.51691  0.51643  0.51590  0.52227  0.52838\n",
      "  0.53420  0.52469  0.53343  0.53189  0.53719  0.56112  0.55056  0.55660\n",
      "  0.56293  0.57936  0.58531  0.58041  0.58012  0.59398  0.61458  0.59331\n",
      "  0.59653  0.62819  0.64670  0.63322  0.60212  0.65141  0.64879  0.65051\n",
      "  0.63155  0.64255  0.67204  0.63626  0.65161  0.64365  0.67163  0.66892\n",
      "  0.65293  0.68170  0.67147  0.72054  0.68666  0.69823  0.68463  0.69311\n",
      "  0.70259  0.72503  0.73483  0.72947  0.73591  0.75962  0.73638  0.73311\n",
      "  0.79502  0.76911  0.78444  0.77888  0.81736  0.84614  0.82556  0.80949\n",
      "  0.89665  0.80476  0.86732  0.89614  1.00000  0.99435  0.94008  0.95201]\n",
      "[19533  5837 10097 14228 18793 22801 28101 32179 35625 38828 42147 46573\n",
      " 50738 54694 56538 58385 61891 64625 66414 67839 69069 69594 70334 70622\n",
      " 70005 68491 67466 66187 64580 62496 60932 58579 57329 56014 53887 52373\n",
      " 50121 48564 46749 44776 41854 40019 39518 37613 35121 33989 32964 31890\n",
      " 30608 29683 29073 27449 26080 24619 23188 21955 21002 20564 20380 19966\n",
      " 19162 18549 18086 17180 16676 15480 14867 14110 13815 13557 13047 12566\n",
      " 11911 11397 11217 10932 10212  9762  9506  8977  8705  8480  7947  7671\n",
      "  7419  7197  7130  6801  6874  6673  6497  6252  5931  5878  5631  5526\n",
      "  5215  4987  4785  4637  4542  4467  4486  4549  4309  4056  3947  3709\n",
      "  3519  3433  3452  3351  3306  3317  3301  3123  3014  2715  2554  2393\n",
      "  2485  2508  2375  2160  2029  1910  1880  1807  1563  1521  1436  1377\n",
      "  1217  1139  1230  1232  1132  1043  1004   977   974   962   946   858\n",
      "   876   873   863   796   754   785   695   697   675   615   599   635\n",
      "   598   596   546   600   574   498   489   492   468   445   400   394\n",
      "   365   369   349   343   320   324   312   316   293   298   250   258\n",
      "   247   238   218   207   217   231   192   187   208   191   171   152\n",
      "   149   179   176   148   140   124   163   129   124   121    87    98\n",
      "   112   104    83   102    78    71    59    62    80    53    65    52\n",
      "    62    56    43    57    62    51    46    56    40    45    40    28\n",
      "    34    32    43    33    30    32    28    29    24    23    25    26\n",
      "    14    18    14    13    13     9     8    20     8    12     9     5\n",
      "     2     2     5     3]\n",
      "ptsNeeded: 62500 pts may come without adjustment: 58156\n",
      "percentage Shortage: 0.139008\n"
     ]
    },
    {
     "data": {
      "image/png": "[encoded data removed]",
      "text/plain": [
       "<Figure size 432x288 with 1 Axes>"
      ]
     },
     "metadata": {
      "needs_background": "light"
     },
     "output_type": "display_data"
    }
   ],
   "source": [
    "I = I12\n",
    "Array = Array2\n",
    "var = var2\n",
    "############################\n",
    "\n",
    "#normalize I\n",
    "minval = np.min(I)\n",
    "maxval = np.max(I)\n",
    "I = (I-minval)/(maxval-minval)\n",
    "\n",
    "np.set_printoptions(formatter={'float': '{: 0.5f}'.format})\n",
    "print I\n",
    "print Array\n",
    "plt.plot(I)\n",
    "\n",
    "percentageToStroe = 2\n",
    "\n",
    "totPts =  int(np.sum(Array*I))\n",
    "\n",
    "ptsNeeded = int((len(var1)*percentageToStroe)/100.00)\n",
    "print 'ptsNeeded: ' + str(ptsNeeded) + ' pts may come without adjustment: ' + str(totPts)\n",
    "\n",
    "percentageShortage = 0\n",
    "if(ptsNeeded > totPts):\n",
    "    percentageShortage = ((ptsNeeded-totPts)/float(len(var)))*100\n",
    "\n",
    "print 'percentage Shortage: ' + str(percentageShortage)"
   ]
  },
  {
   "cell_type": "code",
   "execution_count": 69,
   "metadata": {},
   "outputs": [
    {
     "name": "stdout",
     "output_type": "stream",
     "text": [
      "[(252, 1.0), (253, 0.9943511874211256), (255, 0.9520059802294589), (254, 0.9400835868108056), (248, 0.8966545096788248), (251, 0.8961395957063627), (250, 0.8673221908895599), (245, 0.8461386976505952), (246, 0.8255617628600623), (244, 0.8173552706592598), (247, 0.8094887153508544), (249, 0.804763311465764), (240, 0.7950201436240988), (242, 0.784440851892809), (243, 0.7788839411905574), (241, 0.7691137748766209), (237, 0.7596219897061283), (238, 0.7363820467075358), (236, 0.7359081592970826), (234, 0.7348325963054799), (239, 0.7331056409933636), (235, 0.7294726521203888), (233, 0.7250270251733135), (227, 0.7205365714947392), (232, 0.7025916808301534), (229, 0.6982319298838656), (231, 0.6931081765830688), (228, 0.686660983016547), (230, 0.6846327715885284), (225, 0.6816978817151804), (218, 0.6720425351317744), (222, 0.6716327930365198), (226, 0.6714726332857549), (223, 0.6689203831389163), (224, 0.6529290219994174), (220, 0.6516082558461456), (213, 0.6514057065821851), (215, 0.6505136152484564), (214, 0.6487888152857199), (210, 0.6467023967029557), (221, 0.6436455601082381), (217, 0.6425494436159496), (219, 0.6362646147516474), (211, 0.6332167430530908), (216, 0.6315462535917508), (209, 0.6281868097117774), (206, 0.6145834136914631), (212, 0.6021229718313772), (208, 0.5965282531635908), (205, 0.5939757894073273), (207, 0.593309250337473), (202, 0.585307055222638), (203, 0.5804088468410105), (204, 0.5801220391734329), (201, 0.57935819087999), (200, 0.5629273955584113), (197, 0.5611229397510606), (199, 0.5565955712580275), (198, 0.5505571268759116), (196, 0.5371861109019904), (192, 0.5341962023469856), (194, 0.5334277279551257), (195, 0.5318855228123474), (191, 0.5283806552175396), (193, 0.5246923722213537), (190, 0.5222655865620935), (187, 0.5169132277082252), (188, 0.5164290847389122), (189, 0.5158951892887034), (186, 0.5109648751492879), (185, 0.5103047686198414), (183, 0.5015359110706491), (184, 0.4998315075305925), (182, 0.49763398648283635), (181, 0.4945224995121344), (180, 0.4908874216743718), (179, 0.4872053650804117), (178, 0.4841541166750714), (177, 0.47895475434453044), (176, 0.474484298307738), (175, 0.47409275638015363), (173, 0.47076107782140914), (174, 0.47034223117838886), (171, 0.4633227871984908), (172, 0.4569454454557251), (170, 0.453470229413694), (169, 0.4497938257362397), (168, 0.44556753573504293), (166, 0.4449839269924241), (165, 0.435676485920776), (167, 0.43501942581592057), (164, 0.43092143363834023), (163, 0.424348586959349), (162, 0.42286127678812213), (161, 0.42193642703893386), (160, 0.41602954285994787), (156, 0.4069886394354259), (159, 0.40648571425191715), (158, 0.40607397962205244), (157, 0.4030199330306091), (155, 0.4022392409700546), (154, 0.39185482972441843), (153, 0.3915493251788522), (152, 0.38651013716830124), (151, 0.38604117865290877), (150, 0.37949882602677554), (149, 0.3726063326907276), (148, 0.37099294964078505), (147, 0.3679045507474684), (146, 0.36064141562178853), (145, 0.3574557724552372), (144, 0.3533354589194012), (143, 0.3486751239852877), (141, 0.3418645358486486), (142, 0.3417181751663866), (140, 0.33029936402483395), (139, 0.3215805475255958), (138, 0.32040081383454977), (136, 0.31959241032483565), (137, 0.31468704574920686), (135, 0.2979652070141608), (134, 0.28989814892244553), (0, 0.2849514845191052), (133, 0.2844967264345582), (132, 0.26561526435603183), (131, 0.2646904597461755), (129, 0.2354940560891207), (130, 0.22363495608417), (128, 0.2159965386816872), (127, 0.2005097476268944), (125, 0.18466991761255452), (126, 0.1839336400180997), (124, 0.17002144958647566), (123, 0.1646559967060996), (122, 0.16211291900180794), (120, 0.1516860808300812), (119, 0.14865679625579317), (121, 0.14670679954376198), (118, 0.14338238619802152), (117, 0.13752034147591335), (116, 0.13211161561248497), (115, 0.12993960583187622), (114, 0.1272831891986116), (113, 0.12188716785440493), (112, 0.1153405511348333), (111, 0.1094122362086401), (110, 0.1056692009624014), (109, 0.10429960411058847), (108, 0.10199657005295346), (107, 0.09975206070756065), (106, 0.09407768579045975), (105, 0.09276445026386496), (104, 0.09011851537949545), (103, 0.08381575866183304), (102, 0.08268090920918535), (99, 0.07815882841095029), (100, 0.0775188581041974), (101, 0.07726836549112857), (98, 0.07215307776128684), (97, 0.06987743152901825), (95, 0.06461047674863821), (96, 0.06329395221694713), (94, 0.06098877870755552), (93, 0.05938748575930365), (92, 0.05846584873431434), (91, 0.05553663884108835), (89, 0.04958954171477324), (90, 0.04913740210818467), (88, 0.04825272578392842), (87, 0.04599861297098044), (86, 0.043158010683260195), (85, 0.042425618069137964), (84, 0.040203993433845904), (83, 0.03896809054941834), (82, 0.035472149776552754), (81, 0.03407536342033162), (1, 0.03324500895302192), (80, 0.03206296691509397), (78, 0.031854762735721014), (79, 0.02891134358457914), (77, 0.028455593421199632), (2, 0.02603084793051196), (76, 0.025765113689922552), (75, 0.02462626338368429), (3, 0.02336354760380799), (4, 0.023258865000066523), (74, 0.022844124667843538), (5, 0.02097670909800312), (73, 0.02040456664946408), (6, 0.018781104494823418), (72, 0.018310143449023115), (7, 0.015794936243413275), (71, 0.015518768693640985), (8, 0.01402784667354945), (70, 0.013938997370834335), (69, 0.012329958651560394), (9, 0.011635986791158803), (10, 0.010944618526144548), (11, 0.010882081392630525), (68, 0.01075781311797561), (13, 0.010613466034150741), (67, 0.010544607087035656), (14, 0.010346857900197674), (12, 0.010265575191652315), (63, 0.009928333703886447), (15, 0.009903421832684388), (16, 0.009693914569013655), (64, 0.009629510062207395), (65, 0.009585878962077082), (17, 0.008824300918428538), (66, 0.008644682039412658), (51, 0.00821994596578446), (18, 0.008126851707390957), (62, 0.007695735052884275), (50, 0.007244549834940746), (19, 0.007065336661292369), (61, 0.007008740604222051), (20, 0.0068481567422034335), (52, 0.006638896285132415), (49, 0.006625011026078558), (21, 0.006081740543708921), (60, 0.005886500042280149), (53, 0.0057879544534417205), (48, 0.005703116352879161), (59, 0.005585961309813299), (22, 0.005469114544920894), (58, 0.004929454941244974), (54, 0.004905797790763845), (47, 0.004801821209654007), (57, 0.004701911599239224), (44, 0.004615327338805312), (55, 0.004467295821951285), (23, 0.004289948252155958), (56, 0.004282198308822012), (43, 0.004088844073801748), (46, 0.003958709124973334), (42, 0.00382431991840617), (37, 0.0037111861176301005), (24, 0.0036554541060839205), (45, 0.003632418804627854), (41, 0.0035952612045453114), (38, 0.0035321840236378806), (39, 0.0034798798288403878), (40, 0.00340432895926574), (36, 0.002865324673614146), (25, 0.0024876226063073967), (35, 0.0022758018059882185), (34, 0.001998478617515418), (26, 0.0018426302264287298), (27, 0.0014141788463008966), (33, 0.001283550018499662), (32, 0.0008709683176259621), (31, 0.0006704381254253899), (28, 0.0005324565640410165), (30, 9.691193112628944e-05), (29, 0.0)]\n"
     ]
    }
   ],
   "source": [
    "I_dict = {}\n",
    "keys = range(numBins)\n",
    "for i in keys:\n",
    "    I_dict[i] = I[i]\n",
    "    \n",
    "I_dict_sorted = list(reversed(sorted(I_dict.items(), key=operator.itemgetter(1))))\n",
    "print I_dict_sorted"
   ]
  }
 ],
 "metadata": {
  "kernelspec": {
   "display_name": "Python 2",
   "language": "python",
   "name": "python2"
  },
  "language_info": {
   "codemirror_mode": {
    "name": "ipython",
    "version": 2
   },
   "file_extension": ".py",
   "mimetype": "text/x-python",
   "name": "python",
   "nbconvert_exporter": "python",
   "pygments_lexer": "ipython2",
   "version": "2.7.15"
  }
 },
 "nbformat": 4,
 "nbformat_minor": 2
}
