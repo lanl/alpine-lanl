{
 "cells": [
  {
   "cell_type": "code",
   "execution_count": 1,
   "metadata": {},
   "outputs": [],
   "source": [
    "import argparse\n",
    "import random\n",
    "import numpy as np\n",
    "import os\n",
    "import matplotlib.pyplot as plt"
   ]
  },
  {
   "cell_type": "code",
   "execution_count": 2,
   "metadata": {},
   "outputs": [],
   "source": [
    "fname1 = 'MFIX_Catalyst_vtk_filter_openmp_scaling/fcc1.1173799'\n",
    "fname2 = 'MFIX_Catalyst_vtk_filter_openmp_scaling/fcc2.1173807'\n",
    "fname3 = 'MFIX_Catalyst_vtk_filter_openmp_scaling/fcc4.1173819'\n",
    "fname4 = 'MFIX_Catalyst_vtk_filter_openmp_scaling/fcc8.1173841'\n",
    "fname5 = 'MFIX_Catalyst_vtk_filter_openmp_scaling/fcc16.1173857'"
   ]
  },
  {
   "cell_type": "code",
   "execution_count": 3,
   "metadata": {},
   "outputs": [
    {
     "name": "stdout",
     "output_type": "stream",
     "text": [
      "['0.739386189' '0.700141799' '0.694811866' '0.653885493' '0.779641199'\n",
      " '0.744421034' '0.736577452' '0.67000993' '0.735234349' '0.620972428'\n",
      " '0.665849702' '0.699385194' '0.703972554' '0.783012386' '0.85396876']\n"
     ]
    }
   ],
   "source": [
    "file1 = open(fname1, 'r')\n",
    "Lines1 = file1.readlines()\n",
    "count = 0\n",
    "timings1 = []\n",
    "for line in Lines1:\n",
    "    count += 1\n",
    "    splitted = line.split(' ')\n",
    "    if splitted[0] == 'VTK':\n",
    "        timings1.append(splitted[4])\n",
    "## get timings for 15 time steps\n",
    "timings1 = np.asarray(timings1[0:15])\n",
    "print (timings1)"
   ]
  },
  {
   "cell_type": "code",
   "execution_count": 4,
   "metadata": {},
   "outputs": [
    {
     "name": "stdout",
     "output_type": "stream",
     "text": [
      "['0.405980633' '0.39758703' '0.379864538' '0.365012829' '0.433526221'\n",
      " '0.407937179' '0.42663749' '0.446458124' '0.388024944' '0.343460803'\n",
      " '0.404985565' '0.320428687' '0.379889423' '0.454559917' '0.47506861']\n"
     ]
    }
   ],
   "source": [
    "file2 = open(fname2, 'r')\n",
    "Lines2 = file2.readlines()\n",
    "count = 0\n",
    "timings2 = []\n",
    "for line in Lines2:\n",
    "    count += 1\n",
    "    splitted = line.split(' ')\n",
    "    if splitted[0] == 'VTK':\n",
    "        timings2.append(splitted[4])\n",
    "## get timings for 15 time steps\n",
    "timings2 = np.asarray(timings2[0:15])\n",
    "print (timings2)"
   ]
  },
  {
   "cell_type": "code",
   "execution_count": 5,
   "metadata": {},
   "outputs": [
    {
     "name": "stdout",
     "output_type": "stream",
     "text": [
      "['0.224412095' '0.210507145' '0.220557132' '0.209184979' '0.231449676'\n",
      " '0.236336158' '0.212926302' '0.195290765' '0.248081498' '0.218011699'\n",
      " '0.234522682' '0.229452363' '0.223449349' '0.253299667' '0.290106884']\n"
     ]
    }
   ],
   "source": [
    "file3 = open(fname3, 'r')\n",
    "Lines3 = file3.readlines()\n",
    "count = 0\n",
    "timings3 = []\n",
    "for line in Lines3:\n",
    "    count += 1\n",
    "    splitted = line.split(' ')\n",
    "    if splitted[0] == 'VTK':\n",
    "        timings3.append(splitted[4])\n",
    "## get timings for 15 time steps\n",
    "timings3 = np.asarray(timings3[0:15])\n",
    "print (timings3)"
   ]
  },
  {
   "cell_type": "code",
   "execution_count": 6,
   "metadata": {},
   "outputs": [
    {
     "name": "stdout",
     "output_type": "stream",
     "text": [
      "['0.143195869' '0.152155171' '0.145709205' '0.13521055' '0.154314322'\n",
      " '0.151032216' '0.15090878' '0.156244975' '0.178545132' '0.137360539'\n",
      " '0.146958661' '0.191626888' '0.153634138' '0.159471501' '0.172630395']\n"
     ]
    }
   ],
   "source": [
    "file4 = open(fname4, 'r')\n",
    "Lines4 = file4.readlines()\n",
    "count = 0\n",
    "timings4 = []\n",
    "for line in Lines4:\n",
    "    count += 1\n",
    "    splitted = line.split(' ')\n",
    "    if splitted[0] == 'VTK':\n",
    "        timings4.append(splitted[4])\n",
    "## get timings for 15 time steps\n",
    "timings4 = np.asarray(timings4[0:15])\n",
    "print (timings4)"
   ]
  },
  {
   "cell_type": "code",
   "execution_count": 7,
   "metadata": {},
   "outputs": [
    {
     "name": "stdout",
     "output_type": "stream",
     "text": [
      "['0.113646981' '0.139317588' '0.115105071' '0.106181717' '0.114373054'\n",
      " '0.128981856' '0.108556504' '0.100370803' '0.112561759' '0.115943054'\n",
      " '0.104385338' '0.126375295' '0.158897914' '0.103929709' '0.114256802']\n"
     ]
    }
   ],
   "source": [
    "file5 = open(fname5, 'r')\n",
    "Lines5 = file5.readlines()\n",
    "count = 0\n",
    "timings5 = []\n",
    "for line in Lines5:\n",
    "    count += 1\n",
    "    splitted = line.split(' ')\n",
    "    if splitted[0] == 'VTK':\n",
    "        timings5.append(splitted[4])\n",
    "## get timings for 15 time steps\n",
    "timings5 = np.asarray(timings5[0:15])\n",
    "print (timings5)"
   ]
  },
  {
   "cell_type": "code",
   "execution_count": 32,
   "metadata": {},
   "outputs": [],
   "source": [
    "timings1 = np.average(timings1.astype(np.float))\n",
    "timings2 = np.average(timings2.astype(np.float))\n",
    "timings3 = np.average(timings3.astype(np.float))\n",
    "timings4 = np.average(timings4.astype(np.float))\n",
    "timings5 = np.average(timings5.astype(np.float))\n",
    "\n",
    "pts = [timings1,timings2,timings3,timings4,timings5]\n",
    "threads = [1,2,4,8,16]"
   ]
  },
  {
   "cell_type": "code",
   "execution_count": 57,
   "metadata": {},
   "outputs": [
    {
     "data": {
      "image/png": "[encoded data removed]",
      "text/plain": [
       "<Figure size 432x288 with 1 Axes>"
      ]
     },
     "metadata": {
      "needs_background": "light"
     },
     "output_type": "display_data"
    }
   ],
   "source": [
    "plt.plot(threads,pts,c='b',linewidth=3)\n",
    "plt.plot(threads,pts,'ro',markersize=10)\n",
    "plt.xlabel('Number of OMP threads',size=15)\n",
    "plt.ylabel('Avg. time per time step (secs.)',size=15)\n",
    "plt.title('Performance Plot',size=20)\n",
    "plt.savefig('perfplot.png')"
   ]
  }
 ],
 "metadata": {
  "kernelspec": {
   "display_name": "Python 3",
   "language": "python",
   "name": "python3"
  },
  "language_info": {
   "codemirror_mode": {
    "name": "ipython",
    "version": 3
   },
   "file_extension": ".py",
   "mimetype": "text/x-python",
   "name": "python",
   "nbconvert_exporter": "python",
   "pygments_lexer": "ipython3",
   "version": "3.6.12"
  }
 },
 "nbformat": 4,
 "nbformat_minor": 4
}
