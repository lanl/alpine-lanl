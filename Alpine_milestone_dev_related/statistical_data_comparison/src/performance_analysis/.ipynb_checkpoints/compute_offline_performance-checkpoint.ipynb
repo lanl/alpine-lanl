{
 "cells": [
  {
   "cell_type": "code",
   "execution_count": 2,
   "metadata": {},
   "outputs": [],
   "source": [
    "import matplotlib.pyplot as plt\n",
    "import numpy as np\n",
    "import sys\n",
    "import math\n",
    "import os\n",
    "import glob"
   ]
  },
  {
   "cell_type": "code",
   "execution_count": 20,
   "metadata": {},
   "outputs": [],
   "source": [
    "all_image_generation_time = 1264.06 # unit in secs. ## this is one time cost\n",
    "all_bubble_feature_comp_time = 192.07663202285767 ## for all time steps ## this is one time cost\n",
    "\n",
    "density_comp_fname = '../../out/performance_data/density_comp_time_with_vel.txt'\n",
    "slic_simfiled_comp_fname = '../../out/performance_data/slic_simfiled_comp_time.txt'"
   ]
  },
  {
   "cell_type": "code",
   "execution_count": 21,
   "metadata": {},
   "outputs": [],
   "source": [
    "density_comp_time = np.loadtxt(density_comp_fname, delimiter=',')\n",
    "slic_simfiled_comp_time = np.loadtxt(slic_simfiled_comp_fname, delimiter=',')"
   ]
  },
  {
   "cell_type": "code",
   "execution_count": 24,
   "metadata": {},
   "outputs": [
    {
     "name": "stdout",
     "output_type": "stream",
     "text": [
      "Total number of time steps processed: 334\n",
      "Plt file load time: 1806.286304950714\n",
      "density field and particle velocity processing time: 6600.166192293167\n",
      "density field and particle velocity output time: 35.59050703048706\n",
      "Total time: 2.345011945631769 hrs.\n"
     ]
    }
   ],
   "source": [
    "print ('Total number of time steps processed: ' + str(np.shape(density_comp_time)[0]))\n",
    "\n",
    "plt_load_time = np.sum(density_comp_time[:,0])\n",
    "print ('Plt file load time: ' + str(plt_load_time))\n",
    "\n",
    "data_processing_time = np.sum(density_comp_time[:,1])\n",
    "print ('density field and particle velocity processing time: ' + str(data_processing_time))\n",
    "\n",
    "simfield_write_time = np.sum(density_comp_time[:,2])\n",
    "print ('density field and particle velocity output time: ' + str(simfield_write_time))\n",
    "\n",
    "total_time = plt_load_time + data_processing_time + simfield_write_time\n",
    "print ('Total time: ' + str(total_time/3600.0) + ' hrs.')"
   ]
  },
  {
   "cell_type": "code",
   "execution_count": 25,
   "metadata": {},
   "outputs": [
    {
     "name": "stdout",
     "output_type": "stream",
     "text": [
      "Total number of time steps processed: 333\n",
      "SLIC time: 561.5472133159637\n",
      "sim field computation time: 304.27355456352234\n",
      "sim field write time: 30.42463207244873\n",
      "Total time: 0.24895705554220413 hrs.\n",
      "Total time for cdb image creation (one time cost): 0.35112777777777776 hrs.\n"
     ]
    }
   ],
   "source": [
    "print ('Total number of time steps processed: ' + str(np.shape(slic_simfiled_comp_time)[0]))\n",
    "\n",
    "slic_time = np.sum(slic_simfiled_comp_time[:,0])\n",
    "print ('SLIC time: ' + str(slic_time))\n",
    "\n",
    "simfield_time = np.sum(slic_simfiled_comp_time[:,1])\n",
    "print ('sim field computation time: ' + str(simfield_time))\n",
    "\n",
    "simfield_write_time = np.sum(slic_simfiled_comp_time[:,2])\n",
    "print ('sim field write time: ' + str(simfield_write_time))\n",
    "\n",
    "total_time_slic_simfield = slic_time + simfield_time + simfield_write_time\n",
    "print ('Total time: ' + str(total_time_slic_simfield/3600.0) + ' hrs.')\n",
    "\n",
    "print ('Total time for cdb image creation (one time cost): ' + str(all_image_generation_time/3600.0) + ' hrs.')"
   ]
  }
 ],
 "metadata": {
  "kernelspec": {
   "display_name": "Python 3",
   "language": "python",
   "name": "python3"
  },
  "language_info": {
   "codemirror_mode": {
    "name": "ipython",
    "version": 3
   },
   "file_extension": ".py",
   "mimetype": "text/x-python",
   "name": "python",
   "nbconvert_exporter": "python",
   "pygments_lexer": "ipython3",
   "version": "3.6.8"
  }
 },
 "nbformat": 4,
 "nbformat_minor": 2
}
