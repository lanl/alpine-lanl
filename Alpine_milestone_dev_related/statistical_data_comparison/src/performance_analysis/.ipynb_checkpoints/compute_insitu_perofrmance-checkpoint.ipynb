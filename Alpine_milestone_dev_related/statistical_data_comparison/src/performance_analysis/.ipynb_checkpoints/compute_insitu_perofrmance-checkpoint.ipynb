{
 "cells": [
  {
   "cell_type": "code",
   "execution_count": 1,
   "metadata": {},
   "outputs": [],
   "source": [
    "import matplotlib.pyplot as plt\n",
    "import numpy as np\n",
    "import sys\n",
    "import math\n",
    "import os\n",
    "import glob\n",
    "from vtk.util.numpy_support import *\n",
    "import pandas as pd\n",
    "from multiprocessing import Pool\n",
    "from vtk.util import numpy_support"
   ]
  },
  {
   "cell_type": "code",
   "execution_count": 2,
   "metadata": {},
   "outputs": [],
   "source": [
    "source_data_path = '/Users/sdutta/Codes/statistical_data_comparison/src/performance_analysis/32_node_timming_cori/'\n",
    "init_proc=0\n",
    "final_proc=63\n",
    "\n",
    "## histogram comp, slic, particle filter, particleIO, sim field, sim field IO"
   ]
  },
  {
   "cell_type": "code",
   "execution_count": 3,
   "metadata": {
    "scrolled": false
   },
   "outputs": [
    {
     "name": "stdout",
     "output_type": "stream",
     "text": [
      "number of time steps: 52\n",
      "total insitu computation time: 28.46851942\n",
      "avg insitu time step: 2.602348169615385\n",
      "total insitu time: 135.32210482000002\n",
      "total insitu time without particle processing: 19.66529182\n"
     ]
    }
   ],
   "source": [
    "### Meaning of each column in timming files:\n",
    "# 0: time step, 1: hist time: 2: slic time, 3: par filter, 4. par IO, 5: sim field, 6: sim field IO\n",
    "\n",
    "all_data = []\n",
    "for i in range(init_proc,final_proc):\n",
    "    fname = source_data_path + 'timming_rank_' + str(i) + '.txt'\n",
    "    #print (fname)\n",
    "    data = np.loadtxt(fname, delimiter=',', unpack=True)\n",
    "    all_data.append(data)\n",
    "    \n",
    "all_data  = np.asarray(all_data)\n",
    "\n",
    "tpsteps =   np.shape(all_data)[2]  \n",
    "print ('number of time steps: ' + str(tpsteps))\n",
    "\n",
    "## replace any nan entry with 0.0\n",
    "where_are_NaNs = np.isnan(all_data)\n",
    "all_data[where_are_NaNs] = 0.0\n",
    "\n",
    "arr = np.zeros((tpsteps, 1))\n",
    "for i in range(np.shape(all_data)[1]):\n",
    "    data_filtered =  np.transpose(all_data[:,i,:])\n",
    "    max_vals = []\n",
    "    for j in range(np.shape(data_filtered)[0]):\n",
    "        vals = (np.max(data_filtered[j]))\n",
    "        max_vals.append(vals)\n",
    "    arr = np.column_stack((arr,max_vals))\n",
    "\n",
    "## delete the first (0th) column that has all zeros because of initialization\n",
    "arr = np.delete(arr, 0, 1)\n",
    "\n",
    "combined_times = [1]\n",
    "for i in range(1,np.shape(arr)[1]):\n",
    "    combined_times.append(np.sum(arr[:,i]))\n",
    "        \n",
    "#print (combined_times)       \n",
    "\n",
    "total_comp_time = combined_times[1] + combined_times[2] + combined_times[3] + combined_times[5]\n",
    "print ('total insitu computation time: ' + str(total_comp_time) )\n",
    "\n",
    "all_sum_no_particle = combined_times[1] + combined_times[2] + combined_times[5] + combined_times[6]\n",
    "\n",
    "all_sum = (np.sum(combined_times)-1)\n",
    "print ('avg insitu time step: ' + str(all_sum/tpsteps))\n",
    "print ('total insitu time: ' + str(all_sum))\n",
    "\n",
    "print ('total insitu time without particle processing: ' + str(all_sum_no_particle))"
   ]
  },
  {
   "cell_type": "code",
   "execution_count": 5,
   "metadata": {},
   "outputs": [
    {
     "name": "stdout",
     "output_type": "stream",
     "text": [
      "total sim time: 772.47689518\n",
      "total IO time: 34.265609000000005\n"
     ]
    }
   ],
   "source": [
    "## process the simulation timming\n",
    "fname = source_data_path + 'timming_simulation.txt'\n",
    "data = np.loadtxt(fname, delimiter=',')\n",
    "\n",
    "filtered_tsteps = []\n",
    "for i in range(np.shape(data)[0]):\n",
    "    #if data[i,0]%50 == 0: #### TODO###########\n",
    "    filtered_tsteps.append(data[i,2])      \n",
    "        \n",
    "total_sim_time = np.sum(data[:,1]) - all_sum      \n",
    "        \n",
    "print ('total sim time: ' + str(total_sim_time))\n",
    "print ('total IO time: ' + str(np.sum(filtered_tsteps)))"
   ]
  }
 ],
 "metadata": {
  "kernelspec": {
   "display_name": "Python 3",
   "language": "python",
   "name": "python3"
  },
  "language_info": {
   "codemirror_mode": {
    "name": "ipython",
    "version": 3
   },
   "file_extension": ".py",
   "mimetype": "text/x-python",
   "name": "python",
   "nbconvert_exporter": "python",
   "pygments_lexer": "ipython3",
   "version": "3.6.8"
  }
 },
 "nbformat": 4,
 "nbformat_minor": 2
}
