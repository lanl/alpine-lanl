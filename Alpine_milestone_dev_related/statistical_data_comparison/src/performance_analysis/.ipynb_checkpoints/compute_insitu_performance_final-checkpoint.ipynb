{
 "cells": [
  {
   "cell_type": "code",
   "execution_count": 1,
   "metadata": {},
   "outputs": [],
   "source": [
    "import matplotlib.pyplot as plt\n",
    "import numpy as np\n",
    "import sys\n",
    "import math\n",
    "import os\n",
    "import glob"
   ]
  },
  {
   "cell_type": "code",
   "execution_count": 2,
   "metadata": {},
   "outputs": [],
   "source": [
    "source_data_path = '../../out/performance_data/16node_darwin_1day_run/' ## todo\n",
    "init_proc=0\n",
    "final_proc=36 ## todo\n",
    "insitu_freq = 25 #### TODO###########"
   ]
  },
  {
   "cell_type": "code",
   "execution_count": 3,
   "metadata": {},
   "outputs": [
    {
     "name": "stdout",
     "output_type": "stream",
     "text": [
      "number of time steps: 201\n",
      "total insitu computation + IO time: 140.2477633\n",
      "total insitu computation time: 97.3882043\n",
      "avg insitu time (computation + IO) per time step: 0.6977500661691542\n",
      "total insitu IO: 42.859559\n"
     ]
    }
   ],
   "source": [
    "### Meaning of each column in timming files:\n",
    "# 0: time step, 1: hist time+particle vel processing: 2: slic time, 3: sim field, 4: insitu IO\n",
    "\n",
    "all_data = []\n",
    "for i in range(init_proc,final_proc):\n",
    "    fname = source_data_path + 'timming_rank_' + str(i) + '.txt'\n",
    "    #print (fname)\n",
    "    data = np.loadtxt(fname, delimiter=',', unpack=True)\n",
    "    all_data.append(data)\n",
    "    \n",
    "all_data  = np.asarray(all_data)\n",
    "\n",
    "tpsteps =   np.shape(all_data)[2]  \n",
    "print ('number of time steps: ' + str(tpsteps))\n",
    "\n",
    "## replace any nan entry with 0.0\n",
    "where_are_NaNs = np.isnan(all_data)\n",
    "all_data[where_are_NaNs] = 0.0\n",
    "\n",
    "arr = np.zeros((tpsteps, 1))\n",
    "for i in range(np.shape(all_data)[1]):\n",
    "    data_filtered =  np.transpose(all_data[:,i,:])\n",
    "    max_vals = []\n",
    "    for j in range(np.shape(data_filtered)[0]):\n",
    "        vals = (np.max(data_filtered[j]))\n",
    "        max_vals.append(vals)\n",
    "    arr = np.column_stack((arr,max_vals))\n",
    "\n",
    "## delete the first (0th) column that has all zeros because of initialization\n",
    "arr = np.delete(arr, 0, 1)\n",
    "\n",
    "combined_times = [1]\n",
    "for i in range(1,np.shape(arr)[1]):\n",
    "    combined_times.append(np.sum(arr[:,i]))\n",
    "\n",
    "total_comp_time = combined_times[1] + combined_times[2] + combined_times[3]\n",
    "insitu_IO = combined_times[4]\n",
    "all_sum = (np.sum(combined_times)-1)\n",
    "\n",
    "print ('total insitu computation + IO time: ' + str(all_sum))\n",
    "print ('total insitu computation time: ' + str(total_comp_time) )\n",
    "print ('avg insitu time (computation + IO) per time step: ' + str(all_sum/tpsteps))\n",
    "print ('total insitu IO: ' + str(insitu_IO))"
   ]
  },
  {
   "cell_type": "code",
   "execution_count": 4,
   "metadata": {},
   "outputs": [
    {
     "name": "stdout",
     "output_type": "stream",
     "text": [
      "Actual number of time steps run: 5010\n",
      "total sim time: 27843.8371567\n",
      "total raw IO time: 133.04039\n"
     ]
    }
   ],
   "source": [
    "# ## process the simulation timming\n",
    "fname = source_data_path + 'timming_simulation.txt'\n",
    "data = np.loadtxt(fname, delimiter=',')\n",
    "print ('Actual number of time steps run: ' + str(np.shape(data)[0]))\n",
    "\n",
    "## process the simulation timming\n",
    "filtered_tsteps = []\n",
    "for i in range(np.shape(data)[0]):\n",
    "    if data[i,0]%insitu_freq == 0:\n",
    "        filtered_tsteps.append(data[i,2]) \n",
    "\n",
    "# ## process the insitu function call timming\n",
    "# fname1 = source_data_path + 'total_insitu_time.txt'\n",
    "# data1 = np.loadtxt(fname1, delimiter=',')\n",
    "# filtered_tsteps_insitu_time = []\n",
    "# for i in range(np.shape(data1)[0]):\n",
    "#     if data1[i,0]%insitu_freq == 0: \n",
    "#         filtered_tsteps_insitu_time.append(data1[i,1])\n",
    "# tot_insitu_time = np.sum(filtered_tsteps_insitu_time)\n",
    "#print ('Total insitu + IO time: ' + str(tot_insitu_time))  \n",
    "\n",
    "tot_raw_IO = np.sum(filtered_tsteps)\n",
    "        \n",
    "total_sim_time = np.sum(data[:,1]) - all_sum - tot_raw_IO     \n",
    "        \n",
    "print ('total sim time: ' + str(total_sim_time))\n",
    "print ('total raw IO time: ' + str(tot_raw_IO))"
   ]
  }
 ],
 "metadata": {
  "kernelspec": {
   "display_name": "Python 3",
   "language": "python",
   "name": "python3"
  },
  "language_info": {
   "codemirror_mode": {
    "name": "ipython",
    "version": 3
   },
   "file_extension": ".py",
   "mimetype": "text/x-python",
   "name": "python",
   "nbconvert_exporter": "python",
   "pygments_lexer": "ipython3",
   "version": "3.6.8"
  }
 },
 "nbformat": 4,
 "nbformat_minor": 2
}
