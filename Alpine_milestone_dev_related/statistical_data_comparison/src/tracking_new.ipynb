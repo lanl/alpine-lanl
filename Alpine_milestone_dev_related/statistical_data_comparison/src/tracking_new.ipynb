{
 "cells": [
  {
   "cell_type": "code",
   "execution_count": 1,
   "metadata": {},
   "outputs": [],
   "source": [
    "## This notebook allows tracking a single feature in both forward and backward in time\n",
    "## There is a script that is based on this codes and allows tracking all features from a specific time step.\n",
    "## The script name is: bubble_tracking.py\n",
    "##################################################\n",
    "\n",
    "import matplotlib.pyplot as plt\n",
    "import vtk\n",
    "import numpy as np\n",
    "import sys\n",
    "import math\n",
    "import os\n",
    "import glob\n",
    "from vtk.util.numpy_support import *\n",
    "import pandas as pd\n",
    "from multiprocessing import Pool\n",
    "from vtk.util import numpy_support\n",
    "from sklearn.decomposition import PCA\n",
    "from numpy import linalg as LA\n",
    "from skimage.measure import EllipseModel\n",
    "from matplotlib.patches import Ellipse\n",
    "import pickle\n",
    "from sklearn import manifold\n",
    "from numpy import linalg as LA"
   ]
  },
  {
   "cell_type": "code",
   "execution_count": 2,
   "metadata": {},
   "outputs": [],
   "source": [
    "def read_multiblock(filename):\n",
    "    reader = vtk.vtkXMLMultiBlockDataReader()\n",
    "    reader.SetFileName(filename)\n",
    "    reader.Update()\n",
    "    return reader.GetOutput()\n",
    "    \n",
    "def write_multiblock(filename,data):\n",
    "    writer = vtk.vtkXMLMultiBlockDataWriter()\n",
    "    writer.SetInputData(data)\n",
    "    writer.SetFileName(filename)\n",
    "    writer.Update()\n",
    "\n",
    "def ensureUtf(s):\n",
    "    try:\n",
    "        if type(s) == unicode:\n",
    "            return s.encode('utf8', 'ignore')\n",
    "    except: \n",
    "        return str(s)\n",
    "    \n",
    "def read_vti(filename):\n",
    "    reader = vtk.vtkXMLImageDataReader()\n",
    "    reader.SetFileName(filename)\n",
    "    reader.Update()\n",
    "    return reader.GetOutput()\n",
    "\n",
    "def write_vti(filename,data):\n",
    "    writer = vtk.vtkXMLImageDataWriter()\n",
    "    writer.SetInputData(data)\n",
    "    writer.SetFileName(filename)\n",
    "    writer.Update()\n",
    "    \n",
    "def compute_3d_to_1d_map(x,y,z,dimx,dimy,dimz):\n",
    "    return x + dimx*(y+dimy*z)    \n",
    "    \n",
    "def extract_target_feature(feature_volume,confidence_th,feature_id):\n",
    "    \n",
    "    feature_volume.GetPointData().SetActiveScalars('feature_similarity')\n",
    "    thresholding = vtk.vtkThreshold()\n",
    "    thresholding.ThresholdByUpper(confidence_th)\n",
    "    thresholding.SetInputData(feature_volume)\n",
    "    seg = vtk.vtkConnectivityFilter()\n",
    "    seg.SetInputConnection(thresholding.GetOutputPort())\n",
    "    seg.SetExtractionModeToAllRegions()\n",
    "    seg.ColorRegionsOn()\n",
    "    thresholding2 = vtk.vtkThreshold()\n",
    "    thresholding2.SetInputConnection(seg.GetOutputPort())\n",
    "    thresholding2.ThresholdBetween(feature_id,feature_id)\n",
    "    thresholding2.Update()\n",
    "    return thresholding2.GetOutput()\n",
    "\n",
    "def get_x_center(target_feature):\n",
    "    ## get points to a numpy array\n",
    "    feature_pts = numpy_support.vtk_to_numpy(target_feature.GetPoints().GetData())\n",
    "    return np.mean(feature_pts[:,0])\n",
    "\n",
    "def get_x_max(target_feature):\n",
    "    ## get points to a numpy array\n",
    "    feature_pts = numpy_support.vtk_to_numpy(target_feature.GetPoints().GetData())\n",
    "    return np.max(feature_pts[:,0])\n",
    "\n",
    "\n",
    "def compute_1d_indices(single_feature,dims,gbounds):\n",
    "    \n",
    "    oneD_indices = [] \n",
    "    \n",
    "    for i in range(single_feature.GetNumberOfPoints()):\n",
    "        pts = single_feature.GetPoint(i)\n",
    "        xval = int(((pts[0] - gbounds[0])/(gbounds[1]-gbounds[0]))*dims[0])\n",
    "        yval = int(((pts[1] - gbounds[2])/(gbounds[3]-gbounds[2]))*dims[1])\n",
    "        zval = int(((pts[2] - gbounds[4])/(gbounds[5]-gbounds[4]))*dims[2])\n",
    "        \n",
    "        if xval > dims[0]-1:\n",
    "            xval = dims[0]-1\n",
    "        \n",
    "        if yval > dims[1]-1:\n",
    "            yval = dims[1]-1\n",
    "            \n",
    "        if zval > dims[2]-1:\n",
    "            zval = dims[2]-1    \n",
    "        \n",
    "        index = compute_3d_to_1d_map(xval,yval,zval,dims[0],dims[1],dims[2])\n",
    "        oneD_indices.append(index)\n",
    "        \n",
    "        if index > dims[0]*dims[1]*dims[2] or index < 0:\n",
    "            print (xval,yval,zval)\n",
    "    \n",
    "    if len(oneD_indices) != single_feature.GetNumberOfPoints():\n",
    "        print ('mismatch in mumber of points!!')\n",
    "        \n",
    "    return oneD_indices\n",
    "\n",
    "### dice Similarity function of 2 set of points\n",
    "def dice_similarity(x,y):\n",
    "    intersection_cardinality = len(set.intersection(*[set(x), set(y)]))\n",
    "    union_cardinality = len(set(x)) + len(set(y))\n",
    "    return 2*intersection_cardinality/float(union_cardinality)\n",
    "\n",
    "\n",
    "def find_match(data,target_feature,confidence_th,dims,size_threshold,gbounds,pickle_data,target_feature_x_center):\n",
    "    \n",
    "    num_features = data.GetNumberOfBlocks()\n",
    "    matched = []\n",
    "    \n",
    "    for i in range(num_features):\n",
    "        \n",
    "        block = data.GetBlock(i)\n",
    "        vtk_pts = block.GetPoints()\n",
    "        num_feature_pts = vtk_pts.GetNumberOfPoints()\n",
    "        \n",
    "        oneD_indices = []\n",
    "        for j in range(num_feature_pts):\n",
    "            \n",
    "            pts = vtk_pts.GetPoint(j)\n",
    "            xval = int(((pts[0] - gbounds[0])/(gbounds[1]-gbounds[0]))*dims[0])\n",
    "            yval = int(((pts[1] - gbounds[2])/(gbounds[3]-gbounds[2]))*dims[1])\n",
    "            zval = int(((pts[2] - gbounds[4])/(gbounds[5]-gbounds[4]))*dims[2])\n",
    "\n",
    "            if xval > dims[0]-1:\n",
    "                xval = dims[0]-1\n",
    "            if yval > dims[1]-1:\n",
    "                yval = dims[1]-1\n",
    "            if zval > dims[2]-1:\n",
    "                zval = dims[2]-1    \n",
    "\n",
    "            index = compute_3d_to_1d_map(xval,yval,zval,dims[0],dims[1],dims[2])\n",
    "            if index > dims[0]*dims[1]*dims[2] or index < 0:\n",
    "                print ('Index value out of bound!!')\n",
    "            else:\n",
    "                oneD_indices.append(index)\n",
    "        \n",
    "        #intersection_cardinality = len(set.intersection(*[set(target_feature), set(oneD_indices)]))\n",
    "        overlap = dice_similarity(target_feature,oneD_indices)\n",
    "        \n",
    "        ## If an overlap is found and if the overlapped object is in a higher position vertically\n",
    "        #if overlap > 0 and pickle_data[i][6] > target_feature_x_center:\n",
    "        \n",
    "        matched_feature_vel = np.abs(pickle_data[i][6] - target_feature_x_center)\n",
    "        \n",
    "        if overlap > 0:    \n",
    "            matched.append([pickle_data[i][0],pickle_data[i][1],overlap,oneD_indices,pickle_data[i][9],matched_feature_vel,pickle_data[i][6]])\n",
    "       \n",
    "    return matched"
   ]
  },
  {
   "cell_type": "code",
   "execution_count": 3,
   "metadata": {},
   "outputs": [
    {
     "name": "stdout",
     "output_type": "stream",
     "text": [
      "initial feature file to load: ../out/mfix_local_grid/slic_compare_154.vti\n"
     ]
    }
   ],
   "source": [
    "## Parameters\n",
    "confidence_th = 0.92\n",
    "size_threshold = 100\n",
    "dims  = [128,16,128]\n",
    "initT = 75\n",
    "endT = 408\n",
    "\n",
    "feature_tstep = 154 #(in Paraview should subtract 75)\n",
    "feature_id = 16\n",
    "# feature_tstep = 133 #(in Paraview should subtract 75)\n",
    "# feature_id = 8\n",
    "# feature_tstep = 193 #(in Paraview should subtract 75)\n",
    "# feature_id = 3\n",
    "# feature_tstep = 120 #(in Paraview should subtract 75)\n",
    "# feature_id = 13\n",
    "# feature_tstep = 75 #(in Paraview should subtract 75)\n",
    "# feature_id = 1\n",
    "# feature_tstep = 75 #(in Paraview should subtract 75)\n",
    "# feature_id = 25\n",
    "# feature_tstep = 220 #(in Paraview should subtract 75)\n",
    "# feature_id = 3\n",
    "# feature_tstep = 171 #(in Paraview should subtract 75)\n",
    "# feature_id = 11\n",
    "\n",
    "feature_path = '../out/mfix_local_grid/'\n",
    "feature_fname = feature_path + 'slic_compare_' + str(feature_tstep) + '.vti'\n",
    "print ('initial feature file to load: ' + feature_fname)\n",
    "\n",
    "data_path = '../out/segmented_features/'\n",
    "full_cdb_path = '../bubble_all.cdb/'\n",
    "out_tracked_feature_cdb_path = '../out/feature_tracking_cdb/'"
   ]
  },
  {
   "cell_type": "code",
   "execution_count": 4,
   "metadata": {},
   "outputs": [],
   "source": [
    "## Forward in time tracking\n",
    "th = 0.004 ## important threshold controls the robustness\n",
    "\n",
    "feature_volume = read_vti(feature_fname)\n",
    "gbounds = feature_volume.GetBounds()\n",
    "target_feature = extract_target_feature(feature_volume,confidence_th,feature_id)\n",
    "target_feature_1d_pts_og = compute_1d_indices(target_feature,dims,gbounds)\n",
    "target_feature_x_max_og = get_x_max(target_feature)\n",
    "target_feature_x_center_og = get_x_center(target_feature)"
   ]
  },
  {
   "cell_type": "code",
   "execution_count": 5,
   "metadata": {
    "scrolled": false
   },
   "outputs": [
    {
     "name": "stdout",
     "output_type": "stream",
     "text": [
      "No match found for foreward tracking\n",
      "done foreward tracking\n"
     ]
    }
   ],
   "source": [
    "#### forward_tracking\n",
    "target_feature_1d_pts = target_feature_1d_pts_og\n",
    "feature_id_temp = feature_id\n",
    "target_feature_x_max = target_feature_x_max_og\n",
    "target_feature_x_center = target_feature_x_center_og\n",
    "\n",
    "forward_tracking = []\n",
    "for ii in range(feature_tstep+1,endT):    \n",
    "    ## load features to be tested\n",
    "    inpfname = data_path + 'segmented_' + str(ii) + '.vtm'\n",
    "    current_data = read_multiblock(inpfname)\n",
    "    \n",
    "    #load pickle file\n",
    "    pickle_fname = data_path + 'feature_values_' + str(ii) + '.pickle'\n",
    "    ffname = ensureUtf(pickle_fname)\n",
    "    fname = open(ffname, 'rb')\n",
    "    data = pickle.load(fname, encoding='latin1')\n",
    "    data = np.asarray(data)\n",
    "    \n",
    "    matched = find_match(current_data,target_feature_1d_pts,confidence_th,dims,size_threshold,gbounds,data,target_feature_x_center)\n",
    "    \n",
    "    ## print for debugging only\n",
    "#     if len(matched)>0:\n",
    "#         print (ii,len(matched),matched[0][4],target_feature_x_center,matched[0][1], np.abs(matched[0][4]-target_feature_x_center))\n",
    "        \n",
    "    if (len(matched)>1):\n",
    "        ## case: multiple object overlapped: either feature split or continuation\n",
    "        \n",
    "#        print ('target_feature_x_center: '+str(target_feature_x_center))        \n",
    "#         for kk in range(len(matched)):\n",
    "#             print (ii,matched[kk][1],matched[kk][2],matched[kk][4])\n",
    "\n",
    "        ## filter out the top most undesired features and write the file out with bubble attributes\n",
    "        #temp_matched = [item for item in matched if item[4] > target_feature_x_center] \n",
    "        temp_matched = [item for item in matched if (np.abs(item[4] - target_feature_x_max) < th) \\\n",
    "                       or (item[4] > target_feature_x_max)] \n",
    "        matched = temp_matched\n",
    "        \n",
    "        ## in this case sort based on dice val so that the best match is selected to continue\n",
    "        matched.sort(key = lambda matched: matched[2], reverse=True)\n",
    "        \n",
    "        # if after filtering still length > 1 then must be a feature split\n",
    "#         if(len(matched)>1):\n",
    "#             print ('split detected: ')\n",
    "#             for kk in range(len(matched)):\n",
    "#                 print ('tstep: ' + str(ii) + ' fid: ' + str(matched[kk][1]) \\\n",
    "#                        +' dice val : ' + str(matched[kk][2]))\n",
    "        \n",
    "        #print ('Matched feature: tstep: ' + str(matched[0][0]) + ' ' + str(matched[0][0]-75) +  ' fid: ' +  str(matched[0][1]))\n",
    "        \n",
    "        ## update the target feature\n",
    "        target_feature_1d_pts = matched[0][3]\n",
    "        target_feature_x_max = matched[0][4]\n",
    "        target_feature_x_center = matched[0][6]        \n",
    "        forward_tracking.append([matched[0][0],matched[0][1],matched[0][2],matched[0][5]])\n",
    "    \n",
    "    elif len(matched) == 1:\n",
    "        # filter out the top most undesired features and write the file out with bubble attributes\n",
    "        #temp_matched = [item for item in matched if item[4] > target_feature_x_center]\n",
    "        temp_matched = [item for item in matched if (np.abs(item[4] - target_feature_x_max) < th) \\\n",
    "                       or (item[4] > target_feature_x_max)] \n",
    "        matched = temp_matched\n",
    "        \n",
    "        if (len(matched)> 0):\n",
    "            ## case: single object overlapped: feature continuation\n",
    "            #print ('Matched feature: tstep: ' + str(matched[0][0]) + ' ' + str(matched[0][0]-75) +  ' fid: ' +  str(matched[0][1]))\n",
    "                \n",
    "            ## update the target feature\n",
    "            target_feature_1d_pts = matched[0][3]\n",
    "            target_feature_x_max = matched[0][4]\n",
    "            target_feature_x_center = matched[0][6]\n",
    "            forward_tracking.append([matched[0][0],matched[0][1],matched[0][2],matched[0][5]])\n",
    "    else:\n",
    "        print ('No match found for foreward tracking')\n",
    "        break\n",
    "        \n",
    "print ('done foreward tracking')         "
   ]
  },
  {
   "cell_type": "code",
   "execution_count": 6,
   "metadata": {
    "scrolled": true
   },
   "outputs": [
    {
     "name": "stdout",
     "output_type": "stream",
     "text": [
      "No match found for foreward tracking\n",
      "done backward tracking\n"
     ]
    }
   ],
   "source": [
    "###### backward_tracking\n",
    "target_feature_1d_pts = target_feature_1d_pts_og\n",
    "feature_id_temp = feature_id\n",
    "target_feature_x_max = target_feature_x_max_og\n",
    "target_feature_x_center = target_feature_x_center_og\n",
    "\n",
    "backward_tracking = []\n",
    "for ii in range(feature_tstep-1,initT,-1):\n",
    "    \n",
    "    ## load features to be tested\n",
    "    inpfname = data_path + 'segmented_' + str(ii) + '.vtm'\n",
    "    current_data = read_multiblock(inpfname)\n",
    "    \n",
    "    #load pickle file\n",
    "    pickle_fname = data_path + 'feature_values_' + str(ii) + '.pickle'\n",
    "    ffname = ensureUtf(pickle_fname)\n",
    "    fname = open(ffname, 'rb')\n",
    "    data = pickle.load(fname, encoding='latin1')\n",
    "    data = np.asarray(data)\n",
    "    \n",
    "    matched = find_match(current_data,target_feature_1d_pts,confidence_th,dims,size_threshold,gbounds,data,target_feature_x_center)\n",
    "    \n",
    "    ## print for debug only\n",
    "#     if len(matched)>0:\n",
    "#         print (ii,len(matched),matched[0][4],target_feature_x_center,matched[0][1], np.abs(matched[0][4]-target_feature_x_center))\n",
    "        \n",
    "    if (len(matched)>1):\n",
    "        ## case: multiple object overlapped: either feature split or continuation\n",
    "        \n",
    "#        print ('target_feature_x_center: '+str(target_feature_x_center))        \n",
    "#         for kk in range(len(matched)):\n",
    "#             print (ii,matched[kk][1],matched[kk][2],matched[kk][4])\n",
    "            \n",
    "        ## filter out the top most undesired features and write the file out with bubble attributes\n",
    "        #temp_matched = [item for item in matched if item[4] > target_feature_x_center] \n",
    "        temp_matched = [item for item in matched if (np.abs(item[4] - target_feature_x_max) < th) \\\n",
    "                       or (item[4] > target_feature_x_max)] \n",
    "        matched = temp_matched\n",
    "        \n",
    "        ## in this case sort based on dice val so that the best match is selected to continue\n",
    "        matched.sort(key = lambda matched: matched[2], reverse=True)\n",
    "        \n",
    "        ## if after filtering still length > 1 then must be a feature split\n",
    "#         if(len(matched)>1):\n",
    "#             print ('merge detected: ')\n",
    "#             for kk in range(len(matched)):\n",
    "#                 print ('tstep: ' + str(ii) + ' fid: ' + str(matched[kk][1])+\\\n",
    "#                        ' dice index : ' + str(matched[kk][2]))\n",
    "        \n",
    "        #print ('Matched feature: tstep: ' + str(matched[0][0]) + ' ' + str(matched[0][0]-75) +  ' fid: ' +  str(matched[0][1]))\n",
    "        \n",
    "        ## update the target feature\n",
    "        target_feature_1d_pts = matched[0][3]\n",
    "        target_feature_x_max = matched[0][4]\n",
    "        target_feature_x_center = matched[0][6]\n",
    "        backward_tracking.append([matched[0][0],matched[0][1],matched[0][2],matched[0][5]])\n",
    "    \n",
    "    elif len(matched) == 1:\n",
    "        # filter out the top most undesired features and write the file out with bubble attributes\n",
    "        #temp_matched = [item for item in matched if item[4] > target_feature_x_center]\n",
    "        temp_matched = [item for item in matched if (np.abs(item[4] - target_feature_x_max) < th) \\\n",
    "                       or (item[4] > target_feature_x_max)] \n",
    "        matched = temp_matched\n",
    "        \n",
    "        if (len(matched)> 0):\n",
    "            ## case: single object overlapped: feature continuation\n",
    "            #print ('Matcheddd feature: tstep: ' + str(matched[0][0]) + ' ' + str(matched[0][0]-75) +  ' fid: ' +  str(matched[0][1]))\n",
    "                \n",
    "            ## update the target feature\n",
    "            target_feature_1d_pts = matched[0][3]\n",
    "            target_feature_x_max = matched[0][4]\n",
    "            target_feature_x_center = matched[0][6]\n",
    "            backward_tracking.append([matched[0][0],matched[0][1],matched[0][2],matched[0][5]])\n",
    "    else:\n",
    "        print ('No match found for foreward tracking')\n",
    "        break\n",
    "        \n",
    "print ('done backward tracking')        "
   ]
  },
  {
   "cell_type": "code",
   "execution_count": 7,
   "metadata": {
    "scrolled": false
   },
   "outputs": [
    {
     "name": "stdout",
     "output_type": "stream",
     "text": [
      "done\n"
     ]
    }
   ],
   "source": [
    "## load the complete database and filter the target specific cinemadatabase\n",
    "## first combine all tracking results\n",
    "all_tracked_results = backward_tracking + forward_tracking\n",
    "\n",
    "## get the avg velocity which will be used for the starting feature's velocity\n",
    "all_velocities = np.asarray(all_tracked_results)[:,3]\n",
    "avg_vel = np.mean(all_velocities)\n",
    "\n",
    "all_diceindices = np.asarray(all_tracked_results)[:,2]\n",
    "avg_dice = np.mean(all_diceindices)\n",
    "\n",
    "all_tracked_results.append([feature_tstep,feature_id,avg_dice,avg_vel])\n",
    "\n",
    "## sort the results by time step number\n",
    "all_tracked_results.sort(key = lambda all_tracked_results: all_tracked_results[0]) \n",
    "\n",
    "##load csv file in dataframe\n",
    "fname = full_cdb_path+'data.csv'\n",
    "df = pd.read_csv(fname)\n",
    "\n",
    "filtered_data=[]\n",
    "for i in range(len(all_tracked_results)):\n",
    "    data = df[(df['time_step']==all_tracked_results[i][0]) & (df['feature_id']==all_tracked_results[i][1])]\n",
    "    data = data.to_numpy()\n",
    "    data_list=list(data)    \n",
    "    filtered_data.append(data_list)\n",
    "    \n",
    "all_tracked_results = np.asarray(all_tracked_results)\n",
    "dice_vals = all_tracked_results[:,2]\n",
    "feature_velocities = all_tracked_results[:,3]\n",
    "\n",
    "## strip off one dimension, no changes to the actual data\n",
    "final_filtered_data_tmp=[]\n",
    "for i in range(np.shape(filtered_data)[0]):\n",
    "    final_filtered_data_tmp.append(filtered_data[i][0])\n",
    " \n",
    "final_filtered_data = np.asarray(final_filtered_data_tmp)\n",
    "\n",
    "dice_vals = np.reshape(dice_vals, (len(dice_vals), 1))\n",
    "feature_velocities = np.reshape(feature_velocities, (len(feature_velocities), 1))\n",
    "\n",
    "final_filtered_data = np.append(final_filtered_data, dice_vals, axis=1)\n",
    "final_filtered_data = np.append(final_filtered_data, feature_velocities, axis=1)\n",
    "\n",
    "## clean the old result: this cleans the folder\n",
    "#os.system('rm -rf ' + out_tracked_feature_cdb_path + '*')\n",
    "\n",
    "# mode for the folder \n",
    "mode = 0o777\n",
    "out_feature_cdb_fname = out_tracked_feature_cdb_path + 'bubble_tracked_' + str(feature_tstep) + '_' + str(feature_id) +  '.cdb'\n",
    "os.mkdir(out_feature_cdb_fname, mode)\n",
    "\n",
    "images_path = out_feature_cdb_fname + '/images'\n",
    "os.mkdir(images_path, mode)\n",
    "\n",
    "df = pd.DataFrame(final_filtered_data, index=range(final_filtered_data.shape[0]),\n",
    "                          columns=range(final_filtered_data.shape[1]))\n",
    "\n",
    "## Name the columns\n",
    "df.rename(columns={0:'time_step'}, inplace=True)\n",
    "df.rename(columns={1:'feature_id'}, inplace=True)\n",
    "df.rename(columns={2:'aspect_ratio'}, inplace=True)\n",
    "df.rename(columns={3:'volume'}, inplace=True)\n",
    "df.rename(columns={4:'x_center'}, inplace=True)\n",
    "df.rename(columns={6:'dice_index'}, inplace=True)\n",
    "df.rename(columns={7:'rise_velocity'}, inplace=True)\n",
    "df.rename(columns={5:'FILE'}, inplace=True)\n",
    "\n",
    "# reorder the dataframe before storing: This is after observing the relationships\n",
    "df = df[['feature_id','time_step','volume','x_center','rise_velocity','aspect_ratio','dice_index','FILE']]\n",
    "\n",
    "## store into csv file\n",
    "out_csv_path = out_feature_cdb_fname + '/data.csv'\n",
    "df.to_csv(out_csv_path,index=False)\n",
    "\n",
    "###copy the images for this feature cdb\n",
    "for i in range(np.shape(final_filtered_data)[0]):\n",
    "    ffname = full_cdb_path + 'images/bubble_' + str(int(final_filtered_data[i][1])) \\\n",
    "    + '_' + str(int(final_filtered_data[i][0])) + '.png'\n",
    "    \n",
    "    copy_command = 'cp ' + ffname + ' ' + out_feature_cdb_fname + '/images'\n",
    "    os.system(copy_command)\n",
    "    \n",
    "print ('done')"
   ]
  },
  {
   "cell_type": "code",
   "execution_count": 25,
   "metadata": {},
   "outputs": [
    {
     "name": "stdout",
     "output_type": "stream",
     "text": [
      "0.8259860788863109\n",
      "0.45036319612590797\n"
     ]
    },
    {
     "data": {
      "application/vnd.plotly.v1+json": {
       "config": {
        "plotlyServerURL": "https://plot.ly"
       },
       "data": [
        {
         "dimensions": [
          {
           "label": "time_step",
           "values": [
            98,
            99,
            100,
            101,
            102,
            103,
            104,
            105,
            106,
            107,
            108,
            109,
            110,
            111,
            112,
            113,
            114,
            115,
            116,
            117,
            118,
            119,
            120,
            121,
            122,
            123,
            124,
            125,
            126,
            127,
            128,
            129,
            130,
            131,
            132,
            133,
            134,
            135,
            136,
            137,
            138,
            139,
            140,
            141,
            142,
            143,
            144,
            145,
            146,
            147,
            148,
            149,
            150,
            151,
            152,
            153,
            154
           ]
          },
          {
           "label": "volume",
           "values": [
            176,
            237,
            281,
            360,
            451,
            899,
            1022,
            1129,
            1135,
            1246,
            1255,
            1274,
            1337,
            1386,
            1521,
            1663,
            1640,
            1672,
            1876,
            1823,
            2021,
            2626,
            2874,
            2966,
            2961,
            3123,
            3083,
            3214,
            3261,
            3437,
            3584,
            3716,
            3825,
            3974,
            3916,
            3959,
            3799,
            3823,
            3887,
            3854,
            3799,
            3753,
            3978,
            3860,
            3878,
            3942,
            4018,
            4007,
            4122,
            4259,
            4276,
            4294,
            4519,
            4609,
            4538,
            4780,
            4601
           ]
          },
          {
           "label": "x_centerh",
           "values": [
            0.005062056705355643,
            0.005512656643986702,
            0.006104070693254471,
            0.0067414985969662675,
            0.007626510225236416,
            0.007792642340064049,
            0.008867875672876835,
            0.010299080982804298,
            0.011273921467363834,
            0.01237852219492197,
            0.01348697580397129,
            0.014803452417254446,
            0.015859885141253468,
            0.016941947862505913,
            0.017897306010127068,
            0.018726971000432968,
            0.01955500803887844,
            0.020375557243824,
            0.021099910140037537,
            0.02199743688106537,
            0.02303730510175228,
            0.023142464458942413,
            0.02421202696859837,
            0.02552035078406334,
            0.02669002674520016,
            0.02793825604021549,
            0.0291519183665514,
            0.030447939410805706,
            0.03176013752818108,
            0.03326879814267158,
            0.034696321934461594,
            0.0360613614320755,
            0.037555936723947525,
            0.03900351375341416,
            0.04039952903985977,
            0.041872452944517136,
            0.04315948858857155,
            0.04467504099011421,
            0.04612501338124275,
            0.047593671828508384,
            0.04906415939331055,
            0.05056937411427498,
            0.05202183872461319,
            0.05361609160900116,
            0.055255971848964684,
            0.05696532130241394,
            0.058706942945718765,
            0.06041143089532852,
            0.062301844358444214,
            0.06416860967874527,
            0.06608933955430983,
            0.0679330974817276,
            0.06984671950340271,
            0.07152798026800156,
            0.0731109157204628,
            0.07470672577619553,
            0.07603269070386888
           ]
          },
          {
           "label": "rise_velocity",
           "values": [
            0.00045059993863105774,
            0.0005914140492677689,
            0.0006374279037117958,
            0.0008850116282701492,
            0.0001661321148276329,
            0.001075233332812786,
            0.0014312053099274635,
            0.000974840484559536,
            0.001104600727558136,
            0.0011084536090493202,
            0.0013164766132831573,
            0.0010564327239990234,
            0.0010820627212524414,
            0.0009553581476211548,
            0.0008296649903059006,
            0.0008280370384454727,
            0.0008205492049455643,
            0.0007243528962135315,
            0.000897526741027832,
            0.0010398682206869125,
            0.00010515935719013214,
            0.0010695625096559525,
            0.0013083238154649734,
            0.001169675961136818,
            0.001248229295015335,
            0.001213662326335907,
            0.001296021044254303,
            0.0013121981173753738,
            0.001508660614490509,
            0.0014275237917900085,
            0.0013650394976139069,
            0.0014945752918720245,
            0.001447577029466629,
            0.0013960152864456177,
            0.001472923904657364,
            0.0012870356440544128,
            0.0015155524015426636,
            0.00144997239112854,
            0.001468658447265625,
            0.0014704875648021698,
            0.0015052147209644318,
            0.001452464610338211,
            0.00159425288438797,
            0.0016398802399635315,
            0.0017093494534492493,
            0.0017416216433048248,
            0.0017044879496097565,
            0.0018904134631156921,
            0.001866765320301056,
            0.0019207298755645752,
            0.0018437579274177551,
            0.0019136220216751099,
            0.0016812607645988464,
            0.0015829354524612427,
            0.001595810055732727,
            0.0013259649276733398,
            0.0012673327499734505
           ]
          },
          {
           "label": "aspect_ratio",
           "values": [
            1.4857470257683705,
            0.971212705492702,
            1.049760762122438,
            1.1284732720771284,
            1.0062795508638689,
            1.0353576334658452,
            0.8883214157262769,
            0.9181498890891632,
            1.064944464493364,
            0.905235837960784,
            0.9495744425692996,
            1.007613217369958,
            1.1863471637621752,
            1.3681648728581524,
            1.6395925605847828,
            1.6509669276023944,
            1.5268405702043066,
            1.2009183270048711,
            1.2659308855537759,
            1.2099422715829264,
            1.1270367857948402,
            1.0792927511881096,
            1.185617017842602,
            1.242877824344655,
            1.257725738767569,
            1.2756180492598221,
            1.288997965394861,
            1.3036539947793258,
            1.3218544874533438,
            1.2775452993009468,
            1.3487916373066593,
            1.3783786625527568,
            1.3036194955286322,
            1.2004580295005058,
            1.1721230884407006,
            1.1670088512282433,
            1.0849909799561728,
            1.1163938368760786,
            1.1143633749934942,
            1.0711521188236854,
            1.1155065546962433,
            1.1593951813403869,
            1.0397128564163818,
            1.048319131640095,
            0.9466963441660079,
            0.9578192720453106,
            0.9106653209350102,
            0.923226206494718,
            1.0110614432976608,
            0.9762237690262779,
            1.1153520999145654,
            1.1093083077941748,
            1.3169308730090514,
            1.4920640264784446,
            1.6710174672272164,
            1.987236178606616,
            2.112659140043238
           ]
          }
         ],
         "marker": {
          "color": [
           0.45036319612590797,
           0.7760617760617761,
           0.6521060842433697,
           0.5548705302096177,
           0.4874074074074074,
           0.737116085372202,
           0.5764760576476058,
           0.6210247349823321,
           0.7979840403191936,
           0.7940823670531787,
           0.7504942665085014,
           0.7652240520873229,
           0.7594564818215204,
           0.6295149638802889,
           0.6658291457286433,
           0.509234029669997,
           0.5150966183574879,
           0.5456595264937993,
           0.656934306569343,
           0.6524453694068678,
           0.5844630944695502,
           0.5796363636363636,
           0.5804794520547946,
           0.5928800404926607,
           0.5821827744904668,
           0.6161778923622301,
           0.6326822296331587,
           0.6322779922779923,
           0.6413854882054345,
           0.6959122632103689,
           0.6665753424657535,
           0.6548203156080096,
           0.7257340684703167,
           0.7746514575411914,
           0.7085714285714285,
           0.8259860788863109,
           0.7622671214904224,
           0.7040207522697796,
           0.7001679369590492,
           0.7508166732000523,
           0.7608580508474576,
           0.7385849178631484,
           0.7343710130135238,
           0.7040578960971827,
           0.7552429667519182,
           0.8137600806451613,
           0.7391576052993376,
           0.6972567351457744,
           0.7469275742751461,
           0.712829525483304,
           0.7705950991831972,
           0.6370135027799841,
           0.6965381244522348,
           0.7023067672460916,
           0.5814552479072762,
           0.6643215009060868,
           0.6743633288239022
          ],
          "colorbar": {
           "thickness": 20
          },
          "line": {
           "color": "white",
           "width": 0.2
          },
          "showscale": true,
          "size": 7
         },
         "showupperhalf": false,
         "text": [
          0.45036319612590797,
          0.7760617760617761,
          0.6521060842433697,
          0.5548705302096177,
          0.4874074074074074,
          0.737116085372202,
          0.5764760576476058,
          0.6210247349823321,
          0.7979840403191936,
          0.7940823670531787,
          0.7504942665085014,
          0.7652240520873229,
          0.7594564818215204,
          0.6295149638802889,
          0.6658291457286433,
          0.509234029669997,
          0.5150966183574879,
          0.5456595264937993,
          0.656934306569343,
          0.6524453694068678,
          0.5844630944695502,
          0.5796363636363636,
          0.5804794520547946,
          0.5928800404926607,
          0.5821827744904668,
          0.6161778923622301,
          0.6326822296331587,
          0.6322779922779923,
          0.6413854882054345,
          0.6959122632103689,
          0.6665753424657535,
          0.6548203156080096,
          0.7257340684703167,
          0.7746514575411914,
          0.7085714285714285,
          0.8259860788863109,
          0.7622671214904224,
          0.7040207522697796,
          0.7001679369590492,
          0.7508166732000523,
          0.7608580508474576,
          0.7385849178631484,
          0.7343710130135238,
          0.7040578960971827,
          0.7552429667519182,
          0.8137600806451613,
          0.7391576052993376,
          0.6972567351457744,
          0.7469275742751461,
          0.712829525483304,
          0.7705950991831972,
          0.6370135027799841,
          0.6965381244522348,
          0.7023067672460916,
          0.5814552479072762,
          0.6643215009060868,
          0.6743633288239022
         ],
         "type": "splom"
        }
       ],
       "layout": {
        "height": 800,
        "template": {
         "data": {
          "bar": [
           {
            "error_x": {
             "color": "#2a3f5f"
            },
            "error_y": {
             "color": "#2a3f5f"
            },
            "marker": {
             "line": {
              "color": "#E5ECF6",
              "width": 0.5
             }
            },
            "type": "bar"
           }
          ],
          "barpolar": [
           {
            "marker": {
             "line": {
              "color": "#E5ECF6",
              "width": 0.5
             }
            },
            "type": "barpolar"
           }
          ],
          "carpet": [
           {
            "aaxis": {
             "endlinecolor": "#2a3f5f",
             "gridcolor": "white",
             "linecolor": "white",
             "minorgridcolor": "white",
             "startlinecolor": "#2a3f5f"
            },
            "baxis": {
             "endlinecolor": "#2a3f5f",
             "gridcolor": "white",
             "linecolor": "white",
             "minorgridcolor": "white",
             "startlinecolor": "#2a3f5f"
            },
            "type": "carpet"
           }
          ],
          "choropleth": [
           {
            "colorbar": {
             "outlinewidth": 0,
             "ticks": ""
            },
            "type": "choropleth"
           }
          ],
          "contour": [
           {
            "colorbar": {
             "outlinewidth": 0,
             "ticks": ""
            },
            "colorscale": [
             [
              0,
              "#0d0887"
             ],
             [
              0.1111111111111111,
              "#46039f"
             ],
             [
              0.2222222222222222,
              "#7201a8"
             ],
             [
              0.3333333333333333,
              "#9c179e"
             ],
             [
              0.4444444444444444,
              "#bd3786"
             ],
             [
              0.5555555555555556,
              "#d8576b"
             ],
             [
              0.6666666666666666,
              "#ed7953"
             ],
             [
              0.7777777777777778,
              "#fb9f3a"
             ],
             [
              0.8888888888888888,
              "#fdca26"
             ],
             [
              1,
              "#f0f921"
             ]
            ],
            "type": "contour"
           }
          ],
          "contourcarpet": [
           {
            "colorbar": {
             "outlinewidth": 0,
             "ticks": ""
            },
            "type": "contourcarpet"
           }
          ],
          "heatmap": [
           {
            "colorbar": {
             "outlinewidth": 0,
             "ticks": ""
            },
            "colorscale": [
             [
              0,
              "#0d0887"
             ],
             [
              0.1111111111111111,
              "#46039f"
             ],
             [
              0.2222222222222222,
              "#7201a8"
             ],
             [
              0.3333333333333333,
              "#9c179e"
             ],
             [
              0.4444444444444444,
              "#bd3786"
             ],
             [
              0.5555555555555556,
              "#d8576b"
             ],
             [
              0.6666666666666666,
              "#ed7953"
             ],
             [
              0.7777777777777778,
              "#fb9f3a"
             ],
             [
              0.8888888888888888,
              "#fdca26"
             ],
             [
              1,
              "#f0f921"
             ]
            ],
            "type": "heatmap"
           }
          ],
          "heatmapgl": [
           {
            "colorbar": {
             "outlinewidth": 0,
             "ticks": ""
            },
            "colorscale": [
             [
              0,
              "#0d0887"
             ],
             [
              0.1111111111111111,
              "#46039f"
             ],
             [
              0.2222222222222222,
              "#7201a8"
             ],
             [
              0.3333333333333333,
              "#9c179e"
             ],
             [
              0.4444444444444444,
              "#bd3786"
             ],
             [
              0.5555555555555556,
              "#d8576b"
             ],
             [
              0.6666666666666666,
              "#ed7953"
             ],
             [
              0.7777777777777778,
              "#fb9f3a"
             ],
             [
              0.8888888888888888,
              "#fdca26"
             ],
             [
              1,
              "#f0f921"
             ]
            ],
            "type": "heatmapgl"
           }
          ],
          "histogram": [
           {
            "marker": {
             "colorbar": {
              "outlinewidth": 0,
              "ticks": ""
             }
            },
            "type": "histogram"
           }
          ],
          "histogram2d": [
           {
            "colorbar": {
             "outlinewidth": 0,
             "ticks": ""
            },
            "colorscale": [
             [
              0,
              "#0d0887"
             ],
             [
              0.1111111111111111,
              "#46039f"
             ],
             [
              0.2222222222222222,
              "#7201a8"
             ],
             [
              0.3333333333333333,
              "#9c179e"
             ],
             [
              0.4444444444444444,
              "#bd3786"
             ],
             [
              0.5555555555555556,
              "#d8576b"
             ],
             [
              0.6666666666666666,
              "#ed7953"
             ],
             [
              0.7777777777777778,
              "#fb9f3a"
             ],
             [
              0.8888888888888888,
              "#fdca26"
             ],
             [
              1,
              "#f0f921"
             ]
            ],
            "type": "histogram2d"
           }
          ],
          "histogram2dcontour": [
           {
            "colorbar": {
             "outlinewidth": 0,
             "ticks": ""
            },
            "colorscale": [
             [
              0,
              "#0d0887"
             ],
             [
              0.1111111111111111,
              "#46039f"
             ],
             [
              0.2222222222222222,
              "#7201a8"
             ],
             [
              0.3333333333333333,
              "#9c179e"
             ],
             [
              0.4444444444444444,
              "#bd3786"
             ],
             [
              0.5555555555555556,
              "#d8576b"
             ],
             [
              0.6666666666666666,
              "#ed7953"
             ],
             [
              0.7777777777777778,
              "#fb9f3a"
             ],
             [
              0.8888888888888888,
              "#fdca26"
             ],
             [
              1,
              "#f0f921"
             ]
            ],
            "type": "histogram2dcontour"
           }
          ],
          "mesh3d": [
           {
            "colorbar": {
             "outlinewidth": 0,
             "ticks": ""
            },
            "type": "mesh3d"
           }
          ],
          "parcoords": [
           {
            "line": {
             "colorbar": {
              "outlinewidth": 0,
              "ticks": ""
             }
            },
            "type": "parcoords"
           }
          ],
          "pie": [
           {
            "automargin": true,
            "type": "pie"
           }
          ],
          "scatter": [
           {
            "marker": {
             "colorbar": {
              "outlinewidth": 0,
              "ticks": ""
             }
            },
            "type": "scatter"
           }
          ],
          "scatter3d": [
           {
            "line": {
             "colorbar": {
              "outlinewidth": 0,
              "ticks": ""
             }
            },
            "marker": {
             "colorbar": {
              "outlinewidth": 0,
              "ticks": ""
             }
            },
            "type": "scatter3d"
           }
          ],
          "scattercarpet": [
           {
            "marker": {
             "colorbar": {
              "outlinewidth": 0,
              "ticks": ""
             }
            },
            "type": "scattercarpet"
           }
          ],
          "scattergeo": [
           {
            "marker": {
             "colorbar": {
              "outlinewidth": 0,
              "ticks": ""
             }
            },
            "type": "scattergeo"
           }
          ],
          "scattergl": [
           {
            "marker": {
             "colorbar": {
              "outlinewidth": 0,
              "ticks": ""
             }
            },
            "type": "scattergl"
           }
          ],
          "scattermapbox": [
           {
            "marker": {
             "colorbar": {
              "outlinewidth": 0,
              "ticks": ""
             }
            },
            "type": "scattermapbox"
           }
          ],
          "scatterpolar": [
           {
            "marker": {
             "colorbar": {
              "outlinewidth": 0,
              "ticks": ""
             }
            },
            "type": "scatterpolar"
           }
          ],
          "scatterpolargl": [
           {
            "marker": {
             "colorbar": {
              "outlinewidth": 0,
              "ticks": ""
             }
            },
            "type": "scatterpolargl"
           }
          ],
          "scatterternary": [
           {
            "marker": {
             "colorbar": {
              "outlinewidth": 0,
              "ticks": ""
             }
            },
            "type": "scatterternary"
           }
          ],
          "surface": [
           {
            "colorbar": {
             "outlinewidth": 0,
             "ticks": ""
            },
            "colorscale": [
             [
              0,
              "#0d0887"
             ],
             [
              0.1111111111111111,
              "#46039f"
             ],
             [
              0.2222222222222222,
              "#7201a8"
             ],
             [
              0.3333333333333333,
              "#9c179e"
             ],
             [
              0.4444444444444444,
              "#bd3786"
             ],
             [
              0.5555555555555556,
              "#d8576b"
             ],
             [
              0.6666666666666666,
              "#ed7953"
             ],
             [
              0.7777777777777778,
              "#fb9f3a"
             ],
             [
              0.8888888888888888,
              "#fdca26"
             ],
             [
              1,
              "#f0f921"
             ]
            ],
            "type": "surface"
           }
          ],
          "table": [
           {
            "cells": {
             "fill": {
              "color": "#EBF0F8"
             },
             "line": {
              "color": "white"
             }
            },
            "header": {
             "fill": {
              "color": "#C8D4E3"
             },
             "line": {
              "color": "white"
             }
            },
            "type": "table"
           }
          ]
         },
         "layout": {
          "annotationdefaults": {
           "arrowcolor": "#2a3f5f",
           "arrowhead": 0,
           "arrowwidth": 1
          },
          "coloraxis": {
           "colorbar": {
            "outlinewidth": 0,
            "ticks": ""
           }
          },
          "colorscale": {
           "diverging": [
            [
             0,
             "#8e0152"
            ],
            [
             0.1,
             "#c51b7d"
            ],
            [
             0.2,
             "#de77ae"
            ],
            [
             0.3,
             "#f1b6da"
            ],
            [
             0.4,
             "#fde0ef"
            ],
            [
             0.5,
             "#f7f7f7"
            ],
            [
             0.6,
             "#e6f5d0"
            ],
            [
             0.7,
             "#b8e186"
            ],
            [
             0.8,
             "#7fbc41"
            ],
            [
             0.9,
             "#4d9221"
            ],
            [
             1,
             "#276419"
            ]
           ],
           "sequential": [
            [
             0,
             "#0d0887"
            ],
            [
             0.1111111111111111,
             "#46039f"
            ],
            [
             0.2222222222222222,
             "#7201a8"
            ],
            [
             0.3333333333333333,
             "#9c179e"
            ],
            [
             0.4444444444444444,
             "#bd3786"
            ],
            [
             0.5555555555555556,
             "#d8576b"
            ],
            [
             0.6666666666666666,
             "#ed7953"
            ],
            [
             0.7777777777777778,
             "#fb9f3a"
            ],
            [
             0.8888888888888888,
             "#fdca26"
            ],
            [
             1,
             "#f0f921"
            ]
           ],
           "sequentialminus": [
            [
             0,
             "#0d0887"
            ],
            [
             0.1111111111111111,
             "#46039f"
            ],
            [
             0.2222222222222222,
             "#7201a8"
            ],
            [
             0.3333333333333333,
             "#9c179e"
            ],
            [
             0.4444444444444444,
             "#bd3786"
            ],
            [
             0.5555555555555556,
             "#d8576b"
            ],
            [
             0.6666666666666666,
             "#ed7953"
            ],
            [
             0.7777777777777778,
             "#fb9f3a"
            ],
            [
             0.8888888888888888,
             "#fdca26"
            ],
            [
             1,
             "#f0f921"
            ]
           ]
          },
          "colorway": [
           "#636efa",
           "#EF553B",
           "#00cc96",
           "#ab63fa",
           "#FFA15A",
           "#19d3f3",
           "#FF6692",
           "#B6E880",
           "#FF97FF",
           "#FECB52"
          ],
          "font": {
           "color": "#2a3f5f"
          },
          "geo": {
           "bgcolor": "white",
           "lakecolor": "white",
           "landcolor": "#E5ECF6",
           "showlakes": true,
           "showland": true,
           "subunitcolor": "white"
          },
          "hoverlabel": {
           "align": "left"
          },
          "hovermode": "closest",
          "mapbox": {
           "style": "light"
          },
          "paper_bgcolor": "white",
          "plot_bgcolor": "#E5ECF6",
          "polar": {
           "angularaxis": {
            "gridcolor": "white",
            "linecolor": "white",
            "ticks": ""
           },
           "bgcolor": "#E5ECF6",
           "radialaxis": {
            "gridcolor": "white",
            "linecolor": "white",
            "ticks": ""
           }
          },
          "scene": {
           "xaxis": {
            "backgroundcolor": "#E5ECF6",
            "gridcolor": "white",
            "gridwidth": 2,
            "linecolor": "white",
            "showbackground": true,
            "ticks": "",
            "zerolinecolor": "white"
           },
           "yaxis": {
            "backgroundcolor": "#E5ECF6",
            "gridcolor": "white",
            "gridwidth": 2,
            "linecolor": "white",
            "showbackground": true,
            "ticks": "",
            "zerolinecolor": "white"
           },
           "zaxis": {
            "backgroundcolor": "#E5ECF6",
            "gridcolor": "white",
            "gridwidth": 2,
            "linecolor": "white",
            "showbackground": true,
            "ticks": "",
            "zerolinecolor": "white"
           }
          },
          "shapedefaults": {
           "line": {
            "color": "#2a3f5f"
           }
          },
          "ternary": {
           "aaxis": {
            "gridcolor": "white",
            "linecolor": "white",
            "ticks": ""
           },
           "baxis": {
            "gridcolor": "white",
            "linecolor": "white",
            "ticks": ""
           },
           "bgcolor": "#E5ECF6",
           "caxis": {
            "gridcolor": "white",
            "linecolor": "white",
            "ticks": ""
           }
          },
          "title": {
           "x": 0.05
          },
          "xaxis": {
           "automargin": true,
           "gridcolor": "white",
           "linecolor": "white",
           "ticks": "",
           "title": {
            "standoff": 15
           },
           "zerolinecolor": "white",
           "zerolinewidth": 2
          },
          "yaxis": {
           "automargin": true,
           "gridcolor": "white",
           "linecolor": "white",
           "ticks": "",
           "title": {
            "standoff": 15
           },
           "zerolinecolor": "white",
           "zerolinewidth": 2
          }
         }
        },
        "width": 800
       }
      },
      "text/html": [
       "<div>\n",
       "        \n",
       "        \n",
       "            <div id=\"f545c9e8-e928-4e9c-b8ba-bc3801d3218a\" class=\"plotly-graph-div\" style=\"height:800px; width:800px;\"></div>\n",
       "            <script type=\"text/javascript\">\n",
       "                require([\"plotly\"], function(Plotly) {\n",
       "                    window.PLOTLYENV=window.PLOTLYENV || {};\n",
       "                    \n",
       "                if (document.getElementById(\"f545c9e8-e928-4e9c-b8ba-bc3801d3218a\")) {\n",
       "                    Plotly.newPlot(\n",
       "                        'f545c9e8-e928-4e9c-b8ba-bc3801d3218a',\n",
       "                        [{\"dimensions\": [{\"label\": \"time_step\", \"values\": [98.0, 99.0, 100.0, 101.0, 102.0, 103.0, 104.0, 105.0, 106.0, 107.0, 108.0, 109.0, 110.0, 111.0, 112.0, 113.0, 114.0, 115.0, 116.0, 117.0, 118.0, 119.0, 120.0, 121.0, 122.0, 123.0, 124.0, 125.0, 126.0, 127.0, 128.0, 129.0, 130.0, 131.0, 132.0, 133.0, 134.0, 135.0, 136.0, 137.0, 138.0, 139.0, 140.0, 141.0, 142.0, 143.0, 144.0, 145.0, 146.0, 147.0, 148.0, 149.0, 150.0, 151.0, 152.0, 153.0, 154.0]}, {\"label\": \"volume\", \"values\": [176.0, 237.0, 281.0, 360.0, 451.0, 899.0, 1022.0, 1129.0, 1135.0, 1246.0, 1255.0, 1274.0, 1337.0, 1386.0, 1521.0, 1663.0, 1640.0, 1672.0, 1876.0, 1823.0, 2021.0, 2626.0, 2874.0, 2966.0, 2961.0, 3123.0, 3083.0, 3214.0, 3261.0, 3437.0, 3584.0, 3716.0, 3825.0, 3974.0, 3916.0, 3959.0, 3799.0, 3823.0, 3887.0, 3854.0, 3799.0, 3753.0, 3978.0, 3860.0, 3878.0, 3942.0, 4018.0, 4007.0, 4122.0, 4259.0, 4276.0, 4294.0, 4519.0, 4609.0, 4538.0, 4780.0, 4601.0]}, {\"label\": \"x_centerh\", \"values\": [0.005062056705355643, 0.005512656643986702, 0.006104070693254471, 0.0067414985969662675, 0.007626510225236416, 0.007792642340064049, 0.008867875672876835, 0.010299080982804298, 0.011273921467363834, 0.01237852219492197, 0.01348697580397129, 0.014803452417254446, 0.015859885141253468, 0.016941947862505913, 0.017897306010127068, 0.018726971000432968, 0.01955500803887844, 0.020375557243824, 0.021099910140037537, 0.02199743688106537, 0.02303730510175228, 0.023142464458942413, 0.02421202696859837, 0.02552035078406334, 0.02669002674520016, 0.02793825604021549, 0.0291519183665514, 0.030447939410805706, 0.03176013752818108, 0.03326879814267158, 0.034696321934461594, 0.0360613614320755, 0.037555936723947525, 0.03900351375341416, 0.04039952903985977, 0.041872452944517136, 0.04315948858857155, 0.04467504099011421, 0.04612501338124275, 0.047593671828508384, 0.04906415939331055, 0.05056937411427498, 0.05202183872461319, 0.05361609160900116, 0.055255971848964684, 0.05696532130241394, 0.058706942945718765, 0.06041143089532852, 0.062301844358444214, 0.06416860967874527, 0.06608933955430983, 0.0679330974817276, 0.06984671950340271, 0.07152798026800156, 0.0731109157204628, 0.07470672577619553, 0.07603269070386888]}, {\"label\": \"rise_velocity\", \"values\": [0.00045059993863105774, 0.0005914140492677689, 0.0006374279037117958, 0.0008850116282701492, 0.0001661321148276329, 0.001075233332812786, 0.0014312053099274635, 0.000974840484559536, 0.001104600727558136, 0.0011084536090493202, 0.0013164766132831573, 0.0010564327239990234, 0.0010820627212524414, 0.0009553581476211548, 0.0008296649903059006, 0.0008280370384454727, 0.0008205492049455643, 0.0007243528962135315, 0.000897526741027832, 0.0010398682206869125, 0.00010515935719013214, 0.0010695625096559525, 0.0013083238154649734, 0.001169675961136818, 0.001248229295015335, 0.001213662326335907, 0.001296021044254303, 0.0013121981173753738, 0.001508660614490509, 0.0014275237917900085, 0.0013650394976139069, 0.0014945752918720245, 0.001447577029466629, 0.0013960152864456177, 0.001472923904657364, 0.0012870356440544128, 0.0015155524015426636, 0.00144997239112854, 0.001468658447265625, 0.0014704875648021698, 0.0015052147209644318, 0.001452464610338211, 0.00159425288438797, 0.0016398802399635315, 0.0017093494534492493, 0.0017416216433048248, 0.0017044879496097565, 0.0018904134631156921, 0.001866765320301056, 0.0019207298755645752, 0.0018437579274177551, 0.0019136220216751099, 0.0016812607645988464, 0.0015829354524612427, 0.001595810055732727, 0.0013259649276733398, 0.0012673327499734505]}, {\"label\": \"aspect_ratio\", \"values\": [1.4857470257683705, 0.971212705492702, 1.049760762122438, 1.1284732720771284, 1.0062795508638689, 1.0353576334658452, 0.8883214157262769, 0.9181498890891632, 1.064944464493364, 0.905235837960784, 0.9495744425692996, 1.007613217369958, 1.1863471637621752, 1.3681648728581524, 1.6395925605847828, 1.6509669276023944, 1.5268405702043066, 1.2009183270048711, 1.2659308855537759, 1.2099422715829264, 1.1270367857948402, 1.0792927511881096, 1.185617017842602, 1.242877824344655, 1.257725738767569, 1.2756180492598221, 1.288997965394861, 1.3036539947793258, 1.3218544874533438, 1.2775452993009468, 1.3487916373066593, 1.3783786625527568, 1.3036194955286322, 1.2004580295005058, 1.1721230884407006, 1.1670088512282433, 1.0849909799561728, 1.1163938368760786, 1.1143633749934942, 1.0711521188236854, 1.1155065546962433, 1.1593951813403869, 1.0397128564163818, 1.048319131640095, 0.9466963441660079, 0.9578192720453106, 0.9106653209350102, 0.923226206494718, 1.0110614432976608, 0.9762237690262779, 1.1153520999145654, 1.1093083077941748, 1.3169308730090514, 1.4920640264784446, 1.6710174672272164, 1.987236178606616, 2.112659140043238]}], \"marker\": {\"color\": [0.45036319612590797, 0.7760617760617761, 0.6521060842433697, 0.5548705302096177, 0.4874074074074074, 0.737116085372202, 0.5764760576476058, 0.6210247349823321, 0.7979840403191936, 0.7940823670531787, 0.7504942665085014, 0.7652240520873229, 0.7594564818215204, 0.6295149638802889, 0.6658291457286433, 0.509234029669997, 0.5150966183574879, 0.5456595264937993, 0.656934306569343, 0.6524453694068678, 0.5844630944695502, 0.5796363636363636, 0.5804794520547946, 0.5928800404926607, 0.5821827744904668, 0.6161778923622301, 0.6326822296331587, 0.6322779922779923, 0.6413854882054345, 0.6959122632103689, 0.6665753424657535, 0.6548203156080096, 0.7257340684703167, 0.7746514575411914, 0.7085714285714285, 0.8259860788863109, 0.7622671214904224, 0.7040207522697796, 0.7001679369590492, 0.7508166732000523, 0.7608580508474576, 0.7385849178631484, 0.7343710130135238, 0.7040578960971827, 0.7552429667519182, 0.8137600806451613, 0.7391576052993376, 0.6972567351457744, 0.7469275742751461, 0.712829525483304, 0.7705950991831972, 0.6370135027799841, 0.6965381244522348, 0.7023067672460916, 0.5814552479072762, 0.6643215009060868, 0.6743633288239022], \"colorbar\": {\"thickness\": 20}, \"line\": {\"color\": \"white\", \"width\": 0.2}, \"showscale\": true, \"size\": 7}, \"showupperhalf\": false, \"text\": [0.45036319612590797, 0.7760617760617761, 0.6521060842433697, 0.5548705302096177, 0.4874074074074074, 0.737116085372202, 0.5764760576476058, 0.6210247349823321, 0.7979840403191936, 0.7940823670531787, 0.7504942665085014, 0.7652240520873229, 0.7594564818215204, 0.6295149638802889, 0.6658291457286433, 0.509234029669997, 0.5150966183574879, 0.5456595264937993, 0.656934306569343, 0.6524453694068678, 0.5844630944695502, 0.5796363636363636, 0.5804794520547946, 0.5928800404926607, 0.5821827744904668, 0.6161778923622301, 0.6326822296331587, 0.6322779922779923, 0.6413854882054345, 0.6959122632103689, 0.6665753424657535, 0.6548203156080096, 0.7257340684703167, 0.7746514575411914, 0.7085714285714285, 0.8259860788863109, 0.7622671214904224, 0.7040207522697796, 0.7001679369590492, 0.7508166732000523, 0.7608580508474576, 0.7385849178631484, 0.7343710130135238, 0.7040578960971827, 0.7552429667519182, 0.8137600806451613, 0.7391576052993376, 0.6972567351457744, 0.7469275742751461, 0.712829525483304, 0.7705950991831972, 0.6370135027799841, 0.6965381244522348, 0.7023067672460916, 0.5814552479072762, 0.6643215009060868, 0.6743633288239022], \"type\": \"splom\"}],\n",
       "                        {\"height\": 800, \"template\": {\"data\": {\"bar\": [{\"error_x\": {\"color\": \"#2a3f5f\"}, \"error_y\": {\"color\": \"#2a3f5f\"}, \"marker\": {\"line\": {\"color\": \"#E5ECF6\", \"width\": 0.5}}, \"type\": \"bar\"}], \"barpolar\": [{\"marker\": {\"line\": {\"color\": \"#E5ECF6\", \"width\": 0.5}}, \"type\": \"barpolar\"}], \"carpet\": [{\"aaxis\": {\"endlinecolor\": \"#2a3f5f\", \"gridcolor\": \"white\", \"linecolor\": \"white\", \"minorgridcolor\": \"white\", \"startlinecolor\": \"#2a3f5f\"}, \"baxis\": {\"endlinecolor\": \"#2a3f5f\", \"gridcolor\": \"white\", \"linecolor\": \"white\", \"minorgridcolor\": \"white\", \"startlinecolor\": \"#2a3f5f\"}, \"type\": \"carpet\"}], \"choropleth\": [{\"colorbar\": {\"outlinewidth\": 0, \"ticks\": \"\"}, \"type\": \"choropleth\"}], \"contour\": [{\"colorbar\": {\"outlinewidth\": 0, \"ticks\": \"\"}, \"colorscale\": [[0.0, \"#0d0887\"], [0.1111111111111111, \"#46039f\"], [0.2222222222222222, \"#7201a8\"], [0.3333333333333333, \"#9c179e\"], [0.4444444444444444, \"#bd3786\"], [0.5555555555555556, \"#d8576b\"], [0.6666666666666666, \"#ed7953\"], [0.7777777777777778, \"#fb9f3a\"], [0.8888888888888888, \"#fdca26\"], [1.0, \"#f0f921\"]], \"type\": \"contour\"}], \"contourcarpet\": [{\"colorbar\": {\"outlinewidth\": 0, \"ticks\": \"\"}, \"type\": \"contourcarpet\"}], \"heatmap\": [{\"colorbar\": {\"outlinewidth\": 0, \"ticks\": \"\"}, \"colorscale\": [[0.0, \"#0d0887\"], [0.1111111111111111, \"#46039f\"], [0.2222222222222222, \"#7201a8\"], [0.3333333333333333, \"#9c179e\"], [0.4444444444444444, \"#bd3786\"], [0.5555555555555556, \"#d8576b\"], [0.6666666666666666, \"#ed7953\"], [0.7777777777777778, \"#fb9f3a\"], [0.8888888888888888, \"#fdca26\"], [1.0, \"#f0f921\"]], \"type\": \"heatmap\"}], \"heatmapgl\": [{\"colorbar\": {\"outlinewidth\": 0, \"ticks\": \"\"}, \"colorscale\": [[0.0, \"#0d0887\"], [0.1111111111111111, \"#46039f\"], [0.2222222222222222, \"#7201a8\"], [0.3333333333333333, \"#9c179e\"], [0.4444444444444444, \"#bd3786\"], [0.5555555555555556, \"#d8576b\"], [0.6666666666666666, \"#ed7953\"], [0.7777777777777778, \"#fb9f3a\"], [0.8888888888888888, \"#fdca26\"], [1.0, \"#f0f921\"]], \"type\": \"heatmapgl\"}], \"histogram\": [{\"marker\": {\"colorbar\": {\"outlinewidth\": 0, \"ticks\": \"\"}}, \"type\": \"histogram\"}], \"histogram2d\": [{\"colorbar\": {\"outlinewidth\": 0, \"ticks\": \"\"}, \"colorscale\": [[0.0, \"#0d0887\"], [0.1111111111111111, \"#46039f\"], [0.2222222222222222, \"#7201a8\"], [0.3333333333333333, \"#9c179e\"], [0.4444444444444444, \"#bd3786\"], [0.5555555555555556, \"#d8576b\"], [0.6666666666666666, \"#ed7953\"], [0.7777777777777778, \"#fb9f3a\"], [0.8888888888888888, \"#fdca26\"], [1.0, \"#f0f921\"]], \"type\": \"histogram2d\"}], \"histogram2dcontour\": [{\"colorbar\": {\"outlinewidth\": 0, \"ticks\": \"\"}, \"colorscale\": [[0.0, \"#0d0887\"], [0.1111111111111111, \"#46039f\"], [0.2222222222222222, \"#7201a8\"], [0.3333333333333333, \"#9c179e\"], [0.4444444444444444, \"#bd3786\"], [0.5555555555555556, \"#d8576b\"], [0.6666666666666666, \"#ed7953\"], [0.7777777777777778, \"#fb9f3a\"], [0.8888888888888888, \"#fdca26\"], [1.0, \"#f0f921\"]], \"type\": \"histogram2dcontour\"}], \"mesh3d\": [{\"colorbar\": {\"outlinewidth\": 0, \"ticks\": \"\"}, \"type\": \"mesh3d\"}], \"parcoords\": [{\"line\": {\"colorbar\": {\"outlinewidth\": 0, \"ticks\": \"\"}}, \"type\": \"parcoords\"}], \"pie\": [{\"automargin\": true, \"type\": \"pie\"}], \"scatter\": [{\"marker\": {\"colorbar\": {\"outlinewidth\": 0, \"ticks\": \"\"}}, \"type\": \"scatter\"}], \"scatter3d\": [{\"line\": {\"colorbar\": {\"outlinewidth\": 0, \"ticks\": \"\"}}, \"marker\": {\"colorbar\": {\"outlinewidth\": 0, \"ticks\": \"\"}}, \"type\": \"scatter3d\"}], \"scattercarpet\": [{\"marker\": {\"colorbar\": {\"outlinewidth\": 0, \"ticks\": \"\"}}, \"type\": \"scattercarpet\"}], \"scattergeo\": [{\"marker\": {\"colorbar\": {\"outlinewidth\": 0, \"ticks\": \"\"}}, \"type\": \"scattergeo\"}], \"scattergl\": [{\"marker\": {\"colorbar\": {\"outlinewidth\": 0, \"ticks\": \"\"}}, \"type\": \"scattergl\"}], \"scattermapbox\": [{\"marker\": {\"colorbar\": {\"outlinewidth\": 0, \"ticks\": \"\"}}, \"type\": \"scattermapbox\"}], \"scatterpolar\": [{\"marker\": {\"colorbar\": {\"outlinewidth\": 0, \"ticks\": \"\"}}, \"type\": \"scatterpolar\"}], \"scatterpolargl\": [{\"marker\": {\"colorbar\": {\"outlinewidth\": 0, \"ticks\": \"\"}}, \"type\": \"scatterpolargl\"}], \"scatterternary\": [{\"marker\": {\"colorbar\": {\"outlinewidth\": 0, \"ticks\": \"\"}}, \"type\": \"scatterternary\"}], \"surface\": [{\"colorbar\": {\"outlinewidth\": 0, \"ticks\": \"\"}, \"colorscale\": [[0.0, \"#0d0887\"], [0.1111111111111111, \"#46039f\"], [0.2222222222222222, \"#7201a8\"], [0.3333333333333333, \"#9c179e\"], [0.4444444444444444, \"#bd3786\"], [0.5555555555555556, \"#d8576b\"], [0.6666666666666666, \"#ed7953\"], [0.7777777777777778, \"#fb9f3a\"], [0.8888888888888888, \"#fdca26\"], [1.0, \"#f0f921\"]], \"type\": \"surface\"}], \"table\": [{\"cells\": {\"fill\": {\"color\": \"#EBF0F8\"}, \"line\": {\"color\": \"white\"}}, \"header\": {\"fill\": {\"color\": \"#C8D4E3\"}, \"line\": {\"color\": \"white\"}}, \"type\": \"table\"}]}, \"layout\": {\"annotationdefaults\": {\"arrowcolor\": \"#2a3f5f\", \"arrowhead\": 0, \"arrowwidth\": 1}, \"coloraxis\": {\"colorbar\": {\"outlinewidth\": 0, \"ticks\": \"\"}}, \"colorscale\": {\"diverging\": [[0, \"#8e0152\"], [0.1, \"#c51b7d\"], [0.2, \"#de77ae\"], [0.3, \"#f1b6da\"], [0.4, \"#fde0ef\"], [0.5, \"#f7f7f7\"], [0.6, \"#e6f5d0\"], [0.7, \"#b8e186\"], [0.8, \"#7fbc41\"], [0.9, \"#4d9221\"], [1, \"#276419\"]], \"sequential\": [[0.0, \"#0d0887\"], [0.1111111111111111, \"#46039f\"], [0.2222222222222222, \"#7201a8\"], [0.3333333333333333, \"#9c179e\"], [0.4444444444444444, \"#bd3786\"], [0.5555555555555556, \"#d8576b\"], [0.6666666666666666, \"#ed7953\"], [0.7777777777777778, \"#fb9f3a\"], [0.8888888888888888, \"#fdca26\"], [1.0, \"#f0f921\"]], \"sequentialminus\": [[0.0, \"#0d0887\"], [0.1111111111111111, \"#46039f\"], [0.2222222222222222, \"#7201a8\"], [0.3333333333333333, \"#9c179e\"], [0.4444444444444444, \"#bd3786\"], [0.5555555555555556, \"#d8576b\"], [0.6666666666666666, \"#ed7953\"], [0.7777777777777778, \"#fb9f3a\"], [0.8888888888888888, \"#fdca26\"], [1.0, \"#f0f921\"]]}, \"colorway\": [\"#636efa\", \"#EF553B\", \"#00cc96\", \"#ab63fa\", \"#FFA15A\", \"#19d3f3\", \"#FF6692\", \"#B6E880\", \"#FF97FF\", \"#FECB52\"], \"font\": {\"color\": \"#2a3f5f\"}, \"geo\": {\"bgcolor\": \"white\", \"lakecolor\": \"white\", \"landcolor\": \"#E5ECF6\", \"showlakes\": true, \"showland\": true, \"subunitcolor\": \"white\"}, \"hoverlabel\": {\"align\": \"left\"}, \"hovermode\": \"closest\", \"mapbox\": {\"style\": \"light\"}, \"paper_bgcolor\": \"white\", \"plot_bgcolor\": \"#E5ECF6\", \"polar\": {\"angularaxis\": {\"gridcolor\": \"white\", \"linecolor\": \"white\", \"ticks\": \"\"}, \"bgcolor\": \"#E5ECF6\", \"radialaxis\": {\"gridcolor\": \"white\", \"linecolor\": \"white\", \"ticks\": \"\"}}, \"scene\": {\"xaxis\": {\"backgroundcolor\": \"#E5ECF6\", \"gridcolor\": \"white\", \"gridwidth\": 2, \"linecolor\": \"white\", \"showbackground\": true, \"ticks\": \"\", \"zerolinecolor\": \"white\"}, \"yaxis\": {\"backgroundcolor\": \"#E5ECF6\", \"gridcolor\": \"white\", \"gridwidth\": 2, \"linecolor\": \"white\", \"showbackground\": true, \"ticks\": \"\", \"zerolinecolor\": \"white\"}, \"zaxis\": {\"backgroundcolor\": \"#E5ECF6\", \"gridcolor\": \"white\", \"gridwidth\": 2, \"linecolor\": \"white\", \"showbackground\": true, \"ticks\": \"\", \"zerolinecolor\": \"white\"}}, \"shapedefaults\": {\"line\": {\"color\": \"#2a3f5f\"}}, \"ternary\": {\"aaxis\": {\"gridcolor\": \"white\", \"linecolor\": \"white\", \"ticks\": \"\"}, \"baxis\": {\"gridcolor\": \"white\", \"linecolor\": \"white\", \"ticks\": \"\"}, \"bgcolor\": \"#E5ECF6\", \"caxis\": {\"gridcolor\": \"white\", \"linecolor\": \"white\", \"ticks\": \"\"}}, \"title\": {\"x\": 0.05}, \"xaxis\": {\"automargin\": true, \"gridcolor\": \"white\", \"linecolor\": \"white\", \"ticks\": \"\", \"title\": {\"standoff\": 15}, \"zerolinecolor\": \"white\", \"zerolinewidth\": 2}, \"yaxis\": {\"automargin\": true, \"gridcolor\": \"white\", \"linecolor\": \"white\", \"ticks\": \"\", \"title\": {\"standoff\": 15}, \"zerolinecolor\": \"white\", \"zerolinewidth\": 2}}}, \"width\": 800},\n",
       "                        {\"responsive\": true}\n",
       "                    ).then(function(){\n",
       "                            \n",
       "var gd = document.getElementById('f545c9e8-e928-4e9c-b8ba-bc3801d3218a');\n",
       "var x = new MutationObserver(function (mutations, observer) {{\n",
       "        var display = window.getComputedStyle(gd).display;\n",
       "        if (!display || display === 'none') {{\n",
       "            console.log([gd, 'removed!']);\n",
       "            Plotly.purge(gd);\n",
       "            observer.disconnect();\n",
       "        }}\n",
       "}});\n",
       "\n",
       "// Listen for the removal of the full notebook cells\n",
       "var notebookContainer = gd.closest('#notebook-container');\n",
       "if (notebookContainer) {{\n",
       "    x.observe(notebookContainer, {childList: true});\n",
       "}}\n",
       "\n",
       "// Listen for the clearing of the current output cell\n",
       "var outputEl = gd.closest('.output');\n",
       "if (outputEl) {{\n",
       "    x.observe(outputEl, {childList: true});\n",
       "}}\n",
       "\n",
       "                        })\n",
       "                };\n",
       "                });\n",
       "            </script>\n",
       "        </div>"
      ]
     },
     "metadata": {},
     "output_type": "display_data"
    }
   ],
   "source": [
    "## https://plotly.com/python/splom/\n",
    "import plotly.graph_objects as go\n",
    "\n",
    "#index_vals = df['dice_index']#.astype('category').cat.codes\n",
    "print (np.max(index_vals))\n",
    "print (np.min(index_vals))\n",
    "\n",
    "fig = go.Figure(data=go.Splom(\n",
    "                dimensions=[dict(label='time_step',\n",
    "                                 values=df['time_step']),\n",
    "                            dict(label='volume',\n",
    "                                 values=df['volume']),\n",
    "                            dict(label='x_centerh',\n",
    "                                 values=df['x_center']),\n",
    "                            dict(label='rise_velocity',\n",
    "                                 values=df['rise_velocity']),\n",
    "                            dict(label='aspect_ratio',\n",
    "                                 values=df['aspect_ratio'])],\n",
    "                showupperhalf=False, # remove plots on diagonal\n",
    "                text=df['dice_index'],\n",
    "                \n",
    "                marker=dict(color=index_vals,\n",
    "                            showscale=True, # colors encode categorical variables\n",
    "                            line_color='white', line_width=0.2,size=7, colorbar=dict(thickness=20))\n",
    "                ))\n",
    "\n",
    "fig.update_layout(\n",
    "    #title='SPLOM chart of a tracked bubble selected at time step: ' + str(feature_tstep),\n",
    "    width=800,\n",
    "    height=800,\n",
    ")\n",
    "\n",
    "fig.show()"
   ]
  }
 ],
 "metadata": {
  "kernelspec": {
   "display_name": "Python 3",
   "language": "python",
   "name": "python3"
  },
  "language_info": {
   "codemirror_mode": {
    "name": "ipython",
    "version": 3
   },
   "file_extension": ".py",
   "mimetype": "text/x-python",
   "name": "python",
   "nbconvert_exporter": "python",
   "pygments_lexer": "ipython3",
   "version": "3.6.8"
  }
 },
 "nbformat": 4,
 "nbformat_minor": 2
}
