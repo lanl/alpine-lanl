{
 "cells": [
  {
   "cell_type": "code",
   "execution_count": 17,
   "metadata": {},
   "outputs": [],
   "source": [
    "import matplotlib.pyplot as plt\n",
    "import vtk\n",
    "import numpy as np\n",
    "import sys\n",
    "import math\n",
    "import os\n",
    "import glob\n",
    "from vtk.util.numpy_support import *\n",
    "import pandas\n",
    "from multiprocessing import Pool\n",
    "from scipy.stats import kurtosis, skew"
   ]
  },
  {
   "cell_type": "code",
   "execution_count": 27,
   "metadata": {},
   "outputs": [],
   "source": [
    "def read_vti(filename):\n",
    "    reader = vtk.vtkXMLImageDataReader()\n",
    "    reader.SetFileName(filename)\n",
    "    reader.Update()\n",
    "    return reader.GetOutput()\n",
    "\n",
    "def write_vti(filename,data):\n",
    "    writer = vtk.vtkXMLImageDataWriter()\n",
    "    writer.SetInputData(data)\n",
    "    writer.SetFileName(filename)\n",
    "    writer.Update()\n",
    "    \n",
    "def write_vtp(filename,data):\n",
    "    writer = vtk.vtkXMLPolyDataWriter()\n",
    "    writer.SetInputData(data)\n",
    "    writer.SetFileName(filename)\n",
    "    writer.Update()    \n",
    "    \n",
    "def read_plt(filename):\n",
    "    reader = vtk.vtkAMReXParticlesReader()\n",
    "    reader.SetPlotFileName(filename)\n",
    "    reader.Update()\n",
    "    return reader.GetOutput()\n",
    "\n",
    "def compute_3d_to_1d_map(x,y,z,dimx,dimy,dimz):\n",
    "    return x + dimx*(y+dimy*z)"
   ]
  },
  {
   "cell_type": "code",
   "execution_count": 59,
   "metadata": {},
   "outputs": [],
   "source": [
    "input_classified_field_fname = '../out/mfix_local_grid/slic_compare_275.vti'\n",
    "varname = 'moment_val' #feature_similarity, mixed_val\n",
    "\n",
    "input_particle_data_fname = '/disk1/MFIX_fcc_plt/fcc27500/'\n",
    "feature_threshold= 0.92 ## why this needs to be higher than the scalar field threshold?\n",
    "\n",
    "nbins = [128,16,128]"
   ]
  },
  {
   "cell_type": "code",
   "execution_count": 60,
   "metadata": {},
   "outputs": [
    {
     "name": "stdout",
     "output_type": "stream",
     "text": [
      "('total pieces:', 256)\n",
      "[7.371875107241118e-05, 0.07861855596764976] [7.056479690719102e-05, 0.003128851708627044] [7.308852697741997e-05, 0.050727305546762115]\n"
     ]
    }
   ],
   "source": [
    "## read the data from disk\n",
    "classified_field = read_vti(input_classified_field_fname)\n",
    "particle_data = read_plt(input_particle_data_fname)\n",
    "\n",
    "numPieces = particle_data.GetBlock(0).GetNumberOfPieces()\n",
    "print(\"total pieces:\", numPieces)\n",
    "\n",
    "## compute global bound\n",
    "xmin = []\n",
    "xmax = []\n",
    "ymin = []\n",
    "ymax = []\n",
    "zmin = []\n",
    "zmax = []\n",
    "for i in range(numPieces):\n",
    "    piece_bound = particle_data.GetBlock(0).GetPiece(i).GetBounds()\n",
    "    xmin.append(piece_bound[0])\n",
    "    xmax.append(piece_bound[1])\n",
    "    ymin.append(piece_bound[2])\n",
    "    ymax.append(piece_bound[3])\n",
    "    zmin.append(piece_bound[4])\n",
    "    zmax.append(piece_bound[5])\n",
    "\n",
    "spatial_range_x = [np.min(xmin), np.max(xmax)]\n",
    "spatial_range_y = [np.min(ymin), np.max(ymax)]\n",
    "spatial_range_z = [np.min(zmin), np.max(zmax)]\n",
    "\n",
    "print spatial_range_x, spatial_range_y, spatial_range_z"
   ]
  },
  {
   "cell_type": "code",
   "execution_count": 61,
   "metadata": {},
   "outputs": [
    {
     "name": "stdout",
     "output_type": "stream",
     "text": [
      "('total blocks:', 1)\n",
      "('total pieces:', 256)\n",
      "done\n"
     ]
    }
   ],
   "source": [
    "## Combine all the data points to one array\n",
    "NBlocks = particle_data.GetNumberOfBlocks()\n",
    "print(\"total blocks:\",NBlocks)\n",
    "\n",
    "mpData = particle_data.GetBlock(0)\n",
    "numPieces = mpData.GetNumberOfPieces()\n",
    "print(\"total pieces:\", numPieces)\n",
    "\n",
    "classified_array = classified_field.GetPointData().GetArray(varname)\n",
    "\n",
    "filtered_particles = vtk.vtkPolyData()\n",
    "filtered_pts_arr = vtk.vtkPoints()\n",
    "\n",
    "for i in range(numPieces):\n",
    "    data = mpData.GetPiece(i)\n",
    "    \n",
    "    if data is not None:\n",
    "        allpts = data.GetPoints()\n",
    "\n",
    "        for i in range(data.GetNumberOfPoints()):\n",
    "            pts = allpts.GetPoint(i)\n",
    "\n",
    "            xBinId = int((pts[0]-spatial_range_x[0])/(spatial_range_x[1]-spatial_range_x[0])*nbins[0])\n",
    "            if xBinId==nbins[0]:\n",
    "                xBinId=xBinId-1\n",
    "            yBinId = int((pts[1]-spatial_range_y[0])/(spatial_range_y[1]-spatial_range_y[0])*nbins[1])\n",
    "            if yBinId==nbins[1]:\n",
    "                yBinId=yBinId-1\n",
    "            zBinId = int((pts[2]-spatial_range_z[0])/(spatial_range_z[1]-spatial_range_z[0])*nbins[2])\n",
    "            if zBinId==nbins[2]:\n",
    "                zBinId=zBinId-1\n",
    "\n",
    "            ## Get one-D ID\n",
    "            oneD_idx = compute_3d_to_1d_map(xBinId,yBinId,zBinId,nbins[0],nbins[1],nbins[2])\n",
    "\n",
    "            feature_value = classified_array.GetTuple1(oneD_idx)\n",
    "\n",
    "            if feature_value > feature_threshold:\n",
    "                filtered_pts_arr.InsertNextPoint(pts)\n",
    "\n",
    "filtered_particles.SetPoints(filtered_pts_arr)   \n",
    "print 'done'"
   ]
  },
  {
   "cell_type": "code",
   "execution_count": 63,
   "metadata": {},
   "outputs": [],
   "source": [
    "write_vtp('/home/sdutta/Desktop/filtered_particles.vtp', filtered_particles)"
   ]
  }
 ],
 "metadata": {
  "kernelspec": {
   "display_name": "Python 3",
   "language": "python",
   "name": "python3"
  },
  "language_info": {
   "codemirror_mode": {
    "name": "ipython",
    "version": 3
   },
   "file_extension": ".py",
   "mimetype": "text/x-python",
   "name": "python",
   "nbconvert_exporter": "python",
   "pygments_lexer": "ipython3",
   "version": "3.6.8"
  }
 },
 "nbformat": 4,
 "nbformat_minor": 2
}
